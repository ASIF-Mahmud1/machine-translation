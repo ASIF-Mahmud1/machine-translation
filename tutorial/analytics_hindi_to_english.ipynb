{
  "cells": [
    {
      "cell_type": "markdown",
      "metadata": {
        "id": "Hk-UGKLoF0pz"
      },
      "source": [
        "### Import Required Libraries"
      ]
    },
    {
      "cell_type": "code",
      "execution_count": 3,
      "metadata": {
        "id": "X6j5SP-3F0p2"
      },
      "outputs": [],
      "source": [
        "import string\n",
        "import re\n",
        "from numpy import array, argmax, random, take\n",
        "import pandas as pd\n",
        "from keras.models import Sequential\n",
        "from keras.layers import Dense, LSTM, Embedding, Bidirectional, RepeatVector, TimeDistributed\n",
        "from keras.preprocessing.text import Tokenizer\n",
        "from keras.callbacks import ModelCheckpoint\n",
        "from keras_preprocessing.sequence import pad_sequences\n",
        "from keras.models import load_model\n",
        "from keras import optimizers\n",
        "import matplotlib.pyplot as plt\n",
        "%matplotlib inline\n",
        "pd.set_option('display.max_colwidth', 200)"
      ]
    },
    {
      "cell_type": "markdown",
      "metadata": {
        "id": "bAj05h9bGf6_"
      },
      "source": [
        "## Read IIT Data Bombay"
      ]
    },
    {
      "cell_type": "code",
      "execution_count": 2,
      "metadata": {
        "colab": {
          "base_uri": "https://localhost:8080/",
          "height": 105,
          "referenced_widgets": [
            "d04e9d39206d4a5abc3e49deefd4c949",
            "372afca9149a4cd3b3fface06b846b66",
            "475553cf8de34e6e96adabc0668dc7f9",
            "f9f40bd818f040d88306317e3af3b76f",
            "3ba067e90088413d8bf6aca9015f4095",
            "91d85c57d43540e0949b8c04a8260ba7",
            "a6fb3097f1e64e36a2cd8c282e12e753",
            "f903ee0ef410462782695068ee43853e",
            "531f0b44e0694b9f994a55bda70f1095",
            "a92b851b580b4d5584adea05e8ab8d85",
            "e62e670d14744ab98a32e83f74126f62"
          ]
        },
        "id": "1n3SFll_Gjje",
        "outputId": "a31ac1f6-3947-4bcb-d688-36526dbecf53"
      },
      "outputs": [
        {
          "name": "stderr",
          "output_type": "stream",
          "text": [
            "Using custom data configuration cfilt--iitb-english-hindi-911387c6837f8b91\n",
            "Reusing dataset parquet (/Users/learn/.cache/huggingface/datasets/parquet/cfilt--iitb-english-hindi-911387c6837f8b91/0.0.0/1638526fd0e8d960534e2155dc54fdff8dce73851f21f031d2fb9c2cf757c121)\n"
          ]
        },
        {
          "data": {
            "application/vnd.jupyter.widget-view+json": {
              "model_id": "a4bc18923e7c49928efc2e9504b5830a",
              "version_major": 2,
              "version_minor": 0
            },
            "text/plain": [
              "  0%|          | 0/3 [00:00<?, ?it/s]"
            ]
          },
          "metadata": {},
          "output_type": "display_data"
        }
      ],
      "source": [
        "# !pip install datasets==1.18.1\n",
        "from datasets import load_dataset\n",
        "dataset = load_dataset(\"cfilt/iitb-english-hindi\")"
      ]
    },
    {
      "cell_type": "code",
      "execution_count": 1,
      "metadata": {
        "id": "rVDGNU3-I07s"
      },
      "outputs": [],
      "source": [
        "data_size=15000"
      ]
    },
    {
      "cell_type": "code",
      "execution_count": 2,
      "metadata": {
        "id": "v1gpyYyrIyPU"
      },
      "outputs": [
        {
          "ename": "NameError",
          "evalue": "name 'dataset' is not defined",
          "output_type": "error",
          "traceback": [
            "\u001b[0;31m---------------------------------------------------------------------------\u001b[0m",
            "\u001b[0;31mNameError\u001b[0m                                 Traceback (most recent call last)",
            "Cell \u001b[0;32mIn [2], line 2\u001b[0m\n\u001b[1;32m      1\u001b[0m deu_eng\u001b[39m=\u001b[39m[]\n\u001b[0;32m----> 2\u001b[0m \u001b[39mfor\u001b[39;00m translation_pair \u001b[39min\u001b[39;00m dataset[\u001b[39m\"\u001b[39m\u001b[39mtrain\u001b[39m\u001b[39m\"\u001b[39m][\u001b[39m\"\u001b[39m\u001b[39mtranslation\u001b[39m\u001b[39m\"\u001b[39m][:\u001b[39m15000\u001b[39m]:\n\u001b[1;32m      3\u001b[0m   source_sentence \u001b[39m=\u001b[39m translation_pair[\u001b[39m\"\u001b[39m\u001b[39mhi\u001b[39m\u001b[39m\"\u001b[39m]\n\u001b[1;32m      4\u001b[0m   target_sentence \u001b[39m=\u001b[39m translation_pair[\u001b[39m\"\u001b[39m\u001b[39men\u001b[39m\u001b[39m\"\u001b[39m]\n",
            "\u001b[0;31mNameError\u001b[0m: name 'dataset' is not defined"
          ]
        }
      ],
      "source": [
        "deu_eng=[]\n",
        "for translation_pair in dataset[\"train\"][\"translation\"][:15000]:\n",
        "  source_sentence = translation_pair[\"hi\"]\n",
        "  target_sentence = translation_pair[\"en\"]\n",
        "  deu_eng.append([target_sentence, source_sentence ])\n"
      ]
    },
    {
      "cell_type": "code",
      "execution_count": 5,
      "metadata": {
        "colab": {
          "base_uri": "https://localhost:8080/"
        },
        "id": "_W3uY4vGJjHh",
        "outputId": "ec32e817-c8bd-4b6c-dc7d-489d6ae0fece"
      },
      "outputs": [
        {
          "data": {
            "text/plain": [
              "15000"
            ]
          },
          "execution_count": 5,
          "metadata": {},
          "output_type": "execute_result"
        }
      ],
      "source": [
        "len(deu_eng)"
      ]
    },
    {
      "cell_type": "code",
      "execution_count": 6,
      "metadata": {
        "id": "_M1azXdEF0p6"
      },
      "outputs": [],
      "source": [
        "\n",
        "deu_eng = array(deu_eng)"
      ]
    },
    {
      "cell_type": "code",
      "execution_count": 7,
      "metadata": {
        "id": "SPp1uTesIi7G"
      },
      "outputs": [],
      "source": [
        "del dataset"
      ]
    },
    {
      "cell_type": "code",
      "execution_count": 8,
      "metadata": {
        "colab": {
          "base_uri": "https://localhost:8080/"
        },
        "id": "DYWfqrirLyWX",
        "outputId": "add4f09d-139f-46ca-a494-a4e7a69b1593"
      },
      "outputs": [
        {
          "data": {
            "text/plain": [
              "array([['Give your application an accessibility workout',\n",
              "        'अपने अनुप्रयोग को पहुंचनीयता व्यायाम का लाभ दें'],\n",
              "       ['Accerciser Accessibility Explorer',\n",
              "        'एक्सेर्साइसर पहुंचनीयता अन्वेषक'],\n",
              "       ['The default plugin layout for the bottom panel',\n",
              "        'निचले पटल के लिए डिफोल्ट प्लग-इन खाका'],\n",
              "       ...,\n",
              "       ['CVS: Log file / directory', 'CVS: Log file/directory'],\n",
              "       ['Choose file or directory to get log for:',\n",
              "        'फ़ाइल या निर्देशिका को लॉग लेने के लिए चुनेंः'],\n",
              "       ['Options', 'विकल्प']], dtype='<U398')"
            ]
          },
          "execution_count": 8,
          "metadata": {},
          "output_type": "execute_result"
        }
      ],
      "source": [
        "deu_eng\n",
        "\n"
      ]
    },
    {
      "cell_type": "markdown",
      "metadata": {
        "id": "eTycI1zrF0p7"
      },
      "source": [
        "### Text Pre-Processing"
      ]
    },
    {
      "cell_type": "markdown",
      "metadata": {
        "id": "HBLIYdOsF0p7"
      },
      "source": [
        "#### Text Cleaning\n",
        "\n",
        "Let's take a look at our data, then we will decide which pre-processing steps to adopt."
      ]
    },
    {
      "cell_type": "code",
      "execution_count": null,
      "metadata": {
        "id": "dtVOAeTqF0p7",
        "outputId": "b77db6a6-fc0f-4da3-92cf-649658f27189",
        "scrolled": true
      },
      "outputs": [
        {
          "data": {
            "text/plain": [
              "array([['Hi.', 'Hallo!'],\n",
              "       ['Hi.', 'Grüß Gott!'],\n",
              "       ['Run!', 'Lauf!'],\n",
              "       ...,\n",
              "       ['Mary has very long hair.', 'Maria hat sehr langes Haar.'],\n",
              "       [\"Mary is Tom's secretary.\", 'Maria ist Toms Sekretärin.'],\n",
              "       ['Mary is a married woman.', 'Maria ist eine verheiratete Frau.']],\n",
              "      dtype='<U380')"
            ]
          },
          "execution_count": 6,
          "metadata": {},
          "output_type": "execute_result"
        }
      ],
      "source": [
        "deu_eng"
      ]
    },
    {
      "cell_type": "markdown",
      "metadata": {
        "id": "JHMOzQ3VF0p8"
      },
      "source": [
        "We will get rid of the punctuation marks, and then convert the text to lower case."
      ]
    },
    {
      "cell_type": "code",
      "execution_count": null,
      "metadata": {
        "id": "aOM5bqTKF0p8"
      },
      "outputs": [],
      "source": [
        "# Remove punctuation\n",
        "deu_eng[:,0] = [s.translate(str.maketrans('', '', string.punctuation)) for s in deu_eng[:,0]]\n",
        "deu_eng[:,1] = [s.translate(str.maketrans('', '', string.punctuation)) for s in deu_eng[:,1]]"
      ]
    },
    {
      "cell_type": "code",
      "execution_count": null,
      "metadata": {
        "id": "Rwck7N5tF0p8",
        "outputId": "d383e706-0d72-4958-e155-a5e91d3bf334"
      },
      "outputs": [
        {
          "data": {
            "text/plain": [
              "array([['Hi', 'Hallo'],\n",
              "       ['Hi', 'Grüß Gott'],\n",
              "       ['Run', 'Lauf'],\n",
              "       ...,\n",
              "       ['Mary has very long hair', 'Maria hat sehr langes Haar'],\n",
              "       ['Mary is Toms secretary', 'Maria ist Toms Sekretärin'],\n",
              "       ['Mary is a married woman', 'Maria ist eine verheiratete Frau']],\n",
              "      dtype='<U380')"
            ]
          },
          "execution_count": 8,
          "metadata": {},
          "output_type": "execute_result"
        }
      ],
      "source": [
        "deu_eng"
      ]
    },
    {
      "cell_type": "code",
      "execution_count": 15,
      "metadata": {
        "id": "s0c4QmEaF0p8",
        "scrolled": true
      },
      "outputs": [],
      "source": [
        "# convert to lowercase\n",
        "for i in range(len(deu_eng)):\n",
        "    deu_eng[i,0] = deu_eng[i,0].lower()\n",
        "    \n",
        "    deu_eng[i,1] = deu_eng[i,1].lower()"
      ]
    },
    {
      "cell_type": "code",
      "execution_count": 16,
      "metadata": {
        "colab": {
          "base_uri": "https://localhost:8080/"
        },
        "id": "7RIFbjZNF0p9",
        "outputId": "c7bdc741-bd83-4311-db5e-c6b1e3579805"
      },
      "outputs": [
        {
          "data": {
            "text/plain": [
              "array([['give your application an accessibility workout',\n",
              "        'अपने अनुप्रयोग को पहुंचनीयता व्यायाम का लाभ दें'],\n",
              "       ['accerciser accessibility explorer',\n",
              "        'एक्सेर्साइसर पहुंचनीयता अन्वेषक'],\n",
              "       ['the default plugin layout for the bottom panel',\n",
              "        'निचले पटल के लिए डिफोल्ट प्लग-इन खाका'],\n",
              "       ...,\n",
              "       ['cvs: log file / directory', 'cvs: log file/directory'],\n",
              "       ['choose file or directory to get log for:',\n",
              "        'फ़ाइल या निर्देशिका को लॉग लेने के लिए चुनेंः'],\n",
              "       ['options', 'विकल्प']], dtype='<U398')"
            ]
          },
          "execution_count": 16,
          "metadata": {},
          "output_type": "execute_result"
        }
      ],
      "source": [
        "deu_eng"
      ]
    },
    {
      "cell_type": "markdown",
      "metadata": {
        "id": "7LOHq9wNF0p9"
      },
      "source": [
        "#### Text to Sequence Conversion\n",
        "\n",
        "To feed our data in a Seq2Seq model, we will have to convert both the input and the output sentences into integer sequences of fixed length. Before that, let's visualise the length of the sentences. We will capture the lengths of all the sentences in two separate lists for English and German, respectively."
      ]
    },
    {
      "cell_type": "code",
      "execution_count": 17,
      "metadata": {
        "id": "aaLSLBgjF0p9"
      },
      "outputs": [],
      "source": [
        "# empty lists\n",
        "eng_l = []\n",
        "deu_l = []\n",
        "\n",
        "# populate the lists with sentence lengths\n",
        "for i in deu_eng[:,0]:\n",
        "    eng_l.append(len(i.split()))\n",
        "\n",
        "for i in deu_eng[:,1]:\n",
        "    deu_l.append(len(i.split()))"
      ]
    },
    {
      "cell_type": "code",
      "execution_count": 18,
      "metadata": {
        "id": "HewOsT1sF0p9"
      },
      "outputs": [],
      "source": [
        "length_df = pd.DataFrame({'eng':eng_l, 'deu':deu_l})"
      ]
    },
    {
      "cell_type": "code",
      "execution_count": 19,
      "metadata": {
        "colab": {
          "base_uri": "https://localhost:8080/",
          "height": 281
        },
        "id": "mM3yMDUPF0p9",
        "outputId": "d22f777e-9193-44ab-e5bf-86863546ba33"
      },
      "outputs": [
        {
          "data": {
            "image/png": "[encoded data removed]",
            "text/plain": [
              "<Figure size 432x288 with 2 Axes>"
            ]
          },
          "metadata": {
            "needs_background": "light"
          },
          "output_type": "display_data"
        }
      ],
      "source": [
        "length_df.hist(bins = 30)\n",
        "plt.show()"
      ]
    },
    {
      "cell_type": "markdown",
      "metadata": {
        "id": "8eeBzSL2F0p9"
      },
      "source": [
        "The maximum length of the German sentences is 11 and that of the English phrases is 8."
      ]
    },
    {
      "cell_type": "markdown",
      "metadata": {
        "id": "-miOgiQMF0p-"
      },
      "source": [
        "Let's vectorize our text data by using Keras's Tokenizer() class. It will turn our sentences into sequences of integers. Then we will pad those sequences with zeros to make all the sequences of same length."
      ]
    },
    {
      "cell_type": "code",
      "execution_count": 20,
      "metadata": {
        "id": "ol7HLbcYF0p-"
      },
      "outputs": [],
      "source": [
        "# function to build a tokenizer\n",
        "def tokenization(lines):\n",
        "    tokenizer = Tokenizer()\n",
        "    tokenizer.fit_on_texts(lines)\n",
        "    return tokenizer"
      ]
    },
    {
      "cell_type": "code",
      "execution_count": 21,
      "metadata": {
        "colab": {
          "base_uri": "https://localhost:8080/"
        },
        "id": "tf-Ik-KoF0p-",
        "outputId": "e3c4a4a1-c46c-4eeb-edca-8b844472e0aa"
      },
      "outputs": [
        {
          "name": "stdout",
          "output_type": "stream",
          "text": [
            "English Vocabulary Size: 2035\n"
          ]
        }
      ],
      "source": [
        "# prepare english tokenizer\n",
        "eng_tokenizer = tokenization(deu_eng[:, 0])\n",
        "eng_vocab_size = len(eng_tokenizer.word_index) + 1\n",
        "\n",
        "eng_length = 8\n",
        "print('English Vocabulary Size: %d' % eng_vocab_size)"
      ]
    },
    {
      "cell_type": "code",
      "execution_count": 22,
      "metadata": {
        "colab": {
          "base_uri": "https://localhost:8080/"
        },
        "id": "B6J0EQQjF0p-",
        "outputId": "1bbdc5b8-2f5d-4d0a-eff2-ee64fc831d5f"
      },
      "outputs": [
        {
          "name": "stdout",
          "output_type": "stream",
          "text": [
            "Deutch Vocabulary Size: 2504\n"
          ]
        }
      ],
      "source": [
        "# prepare Deutch tokenizer\n",
        "deu_tokenizer = tokenization(deu_eng[:, 1])\n",
        "deu_vocab_size = len(deu_tokenizer.word_index) + 1\n",
        "\n",
        "deu_length = 8\n",
        "print('Deutch Vocabulary Size: %d' % deu_vocab_size)"
      ]
    },
    {
      "cell_type": "markdown",
      "metadata": {
        "id": "Nk5ico_tF0p-"
      },
      "source": [
        "Given below is a function to prepare the sequences. It will also perform sequence padding to a maximum sentence length as mentioned above. "
      ]
    },
    {
      "cell_type": "code",
      "execution_count": 23,
      "metadata": {
        "id": "FnSeK3fkF0p-"
      },
      "outputs": [],
      "source": [
        "# encode and pad sequences\n",
        "def encode_sequences(tokenizer, length, lines):\n",
        "    # integer encode sequences\n",
        "    seq = tokenizer.texts_to_sequences(lines)\n",
        "    # pad sequences with 0 values\n",
        "    seq = pad_sequences(seq, maxlen=length, padding='post')\n",
        "    return seq"
      ]
    },
    {
      "cell_type": "markdown",
      "metadata": {
        "id": "41oaGLouF0p_"
      },
      "source": [
        "### Model Building"
      ]
    },
    {
      "cell_type": "markdown",
      "metadata": {
        "id": "zlxuCqt9F0p_"
      },
      "source": [
        "We will now split the data into train and test set for model training and evaluation, respectively."
      ]
    },
    {
      "cell_type": "code",
      "execution_count": 24,
      "metadata": {
        "id": "ZqNf6Xd4F0p_"
      },
      "outputs": [],
      "source": [
        "from sklearn.model_selection import train_test_split\n",
        "train, test = train_test_split(deu_eng, test_size=0.2, random_state = 12)"
      ]
    },
    {
      "cell_type": "markdown",
      "metadata": {
        "id": "vqNlRRtSF0p_"
      },
      "source": [
        "It's time to encode the sentences. We will encode German sentences as the input sequences and English sentences as the target sequences. It will be done for both train and test datasets."
      ]
    },
    {
      "cell_type": "code",
      "execution_count": 25,
      "metadata": {
        "id": "4toYgR08F0p_"
      },
      "outputs": [],
      "source": [
        "# prepare training data\n",
        "trainX = encode_sequences(deu_tokenizer, deu_length, train[:, 1])\n",
        "trainY = encode_sequences(eng_tokenizer, eng_length, train[:, 0])"
      ]
    },
    {
      "cell_type": "code",
      "execution_count": 26,
      "metadata": {
        "id": "dPDRy206F0p_"
      },
      "outputs": [],
      "source": [
        "# prepare validation data\n",
        "testX = encode_sequences(deu_tokenizer, deu_length, test[:, 1])\n",
        "testY = encode_sequences(eng_tokenizer, eng_length, test[:, 0])"
      ]
    },
    {
      "cell_type": "markdown",
      "metadata": {
        "id": "yu3fhH1KF0p_"
      },
      "source": [
        "Now comes the exciting part! Let us define our Seq2Seq model architecture. We are using an Embedding layer and an LSTM layer as our encoder and another LSTM layer followed by a Dense layer as the decoder.  "
      ]
    },
    {
      "cell_type": "code",
      "execution_count": null,
      "metadata": {
        "id": "gz5u6G2kF0p_"
      },
      "outputs": [],
      "source": [
        "# build NMT model\n",
        "def build_model(in_vocab, out_vocab, in_timesteps, out_timesteps, units):\n",
        "    model = Sequential()\n",
        "    model.add(Embedding(in_vocab, units, input_length=in_timesteps, mask_zero=True))\n",
        "    model.add(LSTM(units))\n",
        "    model.add(RepeatVector(out_timesteps))\n",
        "    model.add(LSTM(units, return_sequences=True))\n",
        "    model.add(Dense(out_vocab, activation='softmax'))\n",
        "    return model"
      ]
    },
    {
      "cell_type": "markdown",
      "metadata": {
        "id": "KUMv-csHF0p_"
      },
      "source": [
        "We are using RMSprop optimizer in this model as it is usually a good choice for recurrent neural networks."
      ]
    },
    {
      "cell_type": "code",
      "execution_count": null,
      "metadata": {
        "id": "uqSTctefF0p_"
      },
      "outputs": [],
      "source": [
        "model = build_model(deu_vocab_size, eng_vocab_size, deu_length, eng_length, 512)\n",
        "rms = optimizers.RMSprop(lr=0.001)\n",
        "model.compile(optimizer=rms, loss='sparse_categorical_crossentropy')"
      ]
    },
    {
      "cell_type": "markdown",
      "metadata": {
        "id": "PoxowjvfF0p_"
      },
      "source": [
        "Please note that we have used __'sparse_categorical_crossentropy'__ as the loss function because it allows us to use the target sequence as it is instead of one hot encoded format. One hot encoding the target sequences with such a huge vocabulary might consume our system's entire memory."
      ]
    },
    {
      "cell_type": "markdown",
      "metadata": {
        "id": "MVqqUb8JF0p_"
      },
      "source": [
        "It seems we are all set to start training our model. We will train it for 30 epochs and with a batch size of 512. You may change and play these hyperparameters. We will also be using __ModelCheckpoint()__ to save the best model with lowest validation loss. I personally prefer this method over early stopping."
      ]
    },
    {
      "cell_type": "code",
      "execution_count": null,
      "metadata": {
        "id": "iYxTsmzAF0qA",
        "outputId": "3f88ba9d-cdcb-4176-b1cf-cb7a5893aae8",
        "scrolled": true
      },
      "outputs": [
        {
          "name": "stdout",
          "output_type": "stream",
          "text": [
            "Train on 32000 samples, validate on 8000 samples\n",
            "Epoch 1/30\n",
            "32000/32000 [==============================] - 70s 2ms/step - loss: 3.5693 - val_loss: 3.2825\n",
            "\n",
            "Epoch 00001: val_loss improved from inf to 3.28246, saving model to model.h1.24_jan_19\n",
            "Epoch 2/30\n",
            "32000/32000 [==============================] - 69s 2ms/step - loss: 2.9459 - val_loss: 2.8888\n",
            "\n",
            "Epoch 00002: val_loss improved from 3.28246 to 2.88876, saving model to model.h1.24_jan_19\n",
            "Epoch 3/30\n",
            "32000/32000 [==============================] - 70s 2ms/step - loss: 2.7409 - val_loss: 2.7025\n",
            "\n",
            "Epoch 00003: val_loss improved from 2.88876 to 2.70251, saving model to model.h1.24_jan_19\n",
            "Epoch 4/30\n",
            "32000/32000 [==============================] - 69s 2ms/step - loss: 2.5648 - val_loss: 2.5602\n",
            "\n",
            "Epoch 00004: val_loss improved from 2.70251 to 2.56023, saving model to model.h1.24_jan_19\n",
            "Epoch 5/30\n",
            "32000/32000 [==============================] - 69s 2ms/step - loss: 2.4135 - val_loss: 2.4447\n",
            "\n",
            "Epoch 00005: val_loss improved from 2.56023 to 2.44467, saving model to model.h1.24_jan_19\n",
            "Epoch 6/30\n",
            "32000/32000 [==============================] - 69s 2ms/step - loss: 2.2460 - val_loss: 2.3151\n",
            "\n",
            "Epoch 00006: val_loss improved from 2.44467 to 2.31508, saving model to model.h1.24_jan_19\n",
            "Epoch 7/30\n",
            "32000/32000 [==============================] - 69s 2ms/step - loss: 2.0894 - val_loss: 2.2352\n",
            "\n",
            "Epoch 00007: val_loss improved from 2.31508 to 2.23518, saving model to model.h1.24_jan_19\n",
            "Epoch 8/30\n",
            "32000/32000 [==============================] - 69s 2ms/step - loss: 1.9484 - val_loss: 2.0836\n",
            "\n",
            "Epoch 00008: val_loss improved from 2.23518 to 2.08361, saving model to model.h1.24_jan_19\n",
            "Epoch 9/30\n",
            "32000/32000 [==============================] - 69s 2ms/step - loss: 1.8160 - val_loss: 2.0163\n",
            "\n",
            "Epoch 00009: val_loss improved from 2.08361 to 2.01626, saving model to model.h1.24_jan_19\n",
            "Epoch 10/30\n",
            "32000/32000 [==============================] - 69s 2ms/step - loss: 1.6913 - val_loss: 1.9196\n",
            "\n",
            "Epoch 00010: val_loss improved from 2.01626 to 1.91964, saving model to model.h1.24_jan_19\n",
            "Epoch 11/30\n",
            "32000/32000 [==============================] - 69s 2ms/step - loss: 1.5775 - val_loss: 1.8510\n",
            "\n",
            "Epoch 00011: val_loss improved from 1.91964 to 1.85097, saving model to model.h1.24_jan_19\n",
            "Epoch 12/30\n",
            "32000/32000 [==============================] - 69s 2ms/step - loss: 1.4687 - val_loss: 1.7856\n",
            "\n",
            "Epoch 00012: val_loss improved from 1.85097 to 1.78561, saving model to model.h1.24_jan_19\n",
            "Epoch 13/30\n",
            "32000/32000 [==============================] - 69s 2ms/step - loss: 1.3675 - val_loss: 1.7459\n",
            "\n",
            "Epoch 00013: val_loss improved from 1.78561 to 1.74589, saving model to model.h1.24_jan_19\n",
            "Epoch 14/30\n",
            "32000/32000 [==============================] - 69s 2ms/step - loss: 1.2760 - val_loss: 1.6869\n",
            "\n",
            "Epoch 00014: val_loss improved from 1.74589 to 1.68692, saving model to model.h1.24_jan_19\n",
            "Epoch 15/30\n",
            "32000/32000 [==============================] - 69s 2ms/step - loss: 1.1830 - val_loss: 1.6406\n",
            "\n",
            "Epoch 00015: val_loss improved from 1.68692 to 1.64064, saving model to model.h1.24_jan_19\n",
            "Epoch 16/30\n",
            "32000/32000 [==============================] - 69s 2ms/step - loss: 1.0996 - val_loss: 1.6035\n",
            "\n",
            "Epoch 00016: val_loss improved from 1.64064 to 1.60352, saving model to model.h1.24_jan_19\n",
            "Epoch 17/30\n",
            "32000/32000 [==============================] - 69s 2ms/step - loss: 1.0209 - val_loss: 1.5809\n",
            "\n",
            "Epoch 00017: val_loss improved from 1.60352 to 1.58090, saving model to model.h1.24_jan_19\n",
            "Epoch 18/30\n",
            "32000/32000 [==============================] - 70s 2ms/step - loss: 0.9443 - val_loss: 1.5471\n",
            "\n",
            "Epoch 00018: val_loss improved from 1.58090 to 1.54706, saving model to model.h1.24_jan_19\n",
            "Epoch 19/30\n",
            "32000/32000 [==============================] - 69s 2ms/step - loss: 0.8773 - val_loss: 1.5202\n",
            "\n",
            "Epoch 00019: val_loss improved from 1.54706 to 1.52018, saving model to model.h1.24_jan_19\n",
            "Epoch 20/30\n",
            "32000/32000 [==============================] - 69s 2ms/step - loss: 0.8082 - val_loss: 1.5076\n",
            "\n",
            "Epoch 00020: val_loss improved from 1.52018 to 1.50758, saving model to model.h1.24_jan_19\n",
            "Epoch 21/30\n",
            "32000/32000 [==============================] - 69s 2ms/step - loss: 0.7446 - val_loss: 1.4867\n",
            "\n",
            "Epoch 00021: val_loss improved from 1.50758 to 1.48668, saving model to model.h1.24_jan_19\n",
            "Epoch 22/30\n",
            "32000/32000 [==============================] - 71s 2ms/step - loss: 0.6871 - val_loss: 1.4644\n",
            "\n",
            "Epoch 00022: val_loss improved from 1.48668 to 1.46445, saving model to model.h1.24_jan_19\n",
            "Epoch 23/30\n",
            "32000/32000 [==============================] - 69s 2ms/step - loss: 0.6328 - val_loss: 1.4643\n",
            "\n",
            "Epoch 00023: val_loss improved from 1.46445 to 1.46427, saving model to model.h1.24_jan_19\n",
            "Epoch 24/30\n",
            "32000/32000 [==============================] - 69s 2ms/step - loss: 0.5786 - val_loss: 1.4563\n",
            "\n",
            "Epoch 00024: val_loss improved from 1.46427 to 1.45626, saving model to model.h1.24_jan_19\n",
            "Epoch 25/30\n",
            "32000/32000 [==============================] - 69s 2ms/step - loss: 0.5304 - val_loss: 1.4339\n",
            "\n",
            "Epoch 00025: val_loss improved from 1.45626 to 1.43388, saving model to model.h1.24_jan_19\n",
            "Epoch 26/30\n",
            "32000/32000 [==============================] - 70s 2ms/step - loss: 0.4859 - val_loss: 1.4391\n",
            "\n",
            "Epoch 00026: val_loss did not improve from 1.43388\n",
            "Epoch 27/30\n",
            "32000/32000 [==============================] - 69s 2ms/step - loss: 0.4417 - val_loss: 1.4290\n",
            "\n",
            "Epoch 00027: val_loss improved from 1.43388 to 1.42898, saving model to model.h1.24_jan_19\n",
            "Epoch 28/30\n",
            "32000/32000 [==============================] - 69s 2ms/step - loss: 0.4047 - val_loss: 1.4241\n",
            "\n",
            "Epoch 00028: val_loss improved from 1.42898 to 1.42413, saving model to model.h1.24_jan_19\n",
            "Epoch 29/30\n",
            "32000/32000 [==============================] - 70s 2ms/step - loss: 0.3650 - val_loss: 1.4649\n",
            "\n",
            "Epoch 00029: val_loss did not improve from 1.42413\n",
            "Epoch 30/30\n",
            "32000/32000 [==============================] - 69s 2ms/step - loss: 0.3314 - val_loss: 1.4229\n",
            "\n",
            "Epoch 00030: val_loss improved from 1.42413 to 1.42288, saving model to model.h1.24_jan_19\n"
          ]
        }
      ],
      "source": [
        "filename = 'model.h1.24_jan_19'\n",
        "checkpoint = ModelCheckpoint(filename, monitor='val_loss', verbose=1, save_best_only=True, mode='min')\n",
        "\n",
        "history = model.fit(trainX, trainY.reshape(trainY.shape[0], trainY.shape[1], 1), \n",
        "          epochs=30, batch_size=512, \n",
        "          validation_split = 0.2,\n",
        "          callbacks=[checkpoint], verbose=1)"
      ]
    },
    {
      "cell_type": "markdown",
      "metadata": {
        "id": "1jIL72MyF0qA"
      },
      "source": [
        "Let's compare the training loss and the validation loss."
      ]
    },
    {
      "cell_type": "code",
      "execution_count": null,
      "metadata": {
        "id": "OfGGP-DTF0qA",
        "outputId": "e112d54c-a669-4b5e-9c8a-a3b2384f4042"
      },
      "outputs": [
        {
          "data": {
            "image/png": "[encoded data removed]",
            "text/plain": [
              "<Figure size 432x288 with 1 Axes>"
            ]
          },
          "metadata": {
            "needs_background": "light"
          },
          "output_type": "display_data"
        }
      ],
      "source": [
        "plt.plot(history.history['loss'])\n",
        "plt.plot(history.history['val_loss'])\n",
        "plt.legend(['train','validation'])\n",
        "plt.show()"
      ]
    },
    {
      "cell_type": "markdown",
      "metadata": {
        "id": "HmOHUaoTF0qA"
      },
      "source": [
        "### Make Predictions"
      ]
    },
    {
      "cell_type": "markdown",
      "metadata": {
        "id": "se_1LpmuF0qA"
      },
      "source": [
        "Let's load the saved model to make predictions."
      ]
    },
    {
      "cell_type": "code",
      "execution_count": null,
      "metadata": {
        "id": "ojhmagyfF0qA"
      },
      "outputs": [],
      "source": [
        "model = load_model('model.h1.24_jan_19')\n",
        "preds = model.predict_classes(testX.reshape((testX.shape[0],testX.shape[1])))"
      ]
    },
    {
      "cell_type": "code",
      "execution_count": null,
      "metadata": {
        "id": "Sp9hwldGF0qA"
      },
      "outputs": [],
      "source": [
        "def get_word(n, tokenizer):\n",
        "    for word, index in tokenizer.word_index.items():\n",
        "        if index == n:\n",
        "            return word\n",
        "    return None"
      ]
    },
    {
      "cell_type": "code",
      "execution_count": null,
      "metadata": {
        "id": "WKvTM40VF0qA"
      },
      "outputs": [],
      "source": [
        "# convert predictions into text (English)\n",
        "preds_text = []\n",
        "for i in preds:\n",
        "    temp = []\n",
        "    for j in range(len(i)):\n",
        "        t = get_word(i[j], eng_tokenizer)\n",
        "        if j > 0:\n",
        "            if (t == get_word(i[j-1], eng_tokenizer)) or (t == None):\n",
        "                temp.append('')\n",
        "            else:\n",
        "                temp.append(t)\n",
        "             \n",
        "        else:\n",
        "            if(t == None):\n",
        "                temp.append('')\n",
        "            else:\n",
        "                temp.append(t)            \n",
        "        \n",
        "    preds_text.append(' '.join(temp))"
      ]
    },
    {
      "cell_type": "code",
      "execution_count": null,
      "metadata": {
        "id": "qYgTA1BnF0qA"
      },
      "outputs": [],
      "source": [
        "pred_df = pd.DataFrame({'actual' : test[:,0], 'predicted' : preds_text})"
      ]
    },
    {
      "cell_type": "code",
      "execution_count": null,
      "metadata": {
        "id": "D_BxjrM4F0qA"
      },
      "outputs": [],
      "source": [
        "pd.set_option('display.max_colwidth', 200)"
      ]
    },
    {
      "cell_type": "code",
      "execution_count": null,
      "metadata": {
        "id": "zL_kCMVmF0qB",
        "outputId": "6817c9be-f75e-4de2-b2c0-5e332c44cd75"
      },
      "outputs": [
        {
          "data": {
            "text/html": [
              "<div>\n",
              "<style scoped>\n",
              "    .dataframe tbody tr th:only-of-type {\n",
              "        vertical-align: middle;\n",
              "    }\n",
              "\n",
              "    .dataframe tbody tr th {\n",
              "        vertical-align: top;\n",
              "    }\n",
              "\n",
              "    .dataframe thead th {\n",
              "        text-align: right;\n",
              "    }\n",
              "</style>\n",
              "<table border=\"1\" class=\"dataframe\">\n",
              "  <thead>\n",
              "    <tr style=\"text-align: right;\">\n",
              "      <th></th>\n",
              "      <th>actual</th>\n",
              "      <th>predicted</th>\n",
              "    </tr>\n",
              "  </thead>\n",
              "  <tbody>\n",
              "    <tr>\n",
              "      <th>0</th>\n",
              "      <td>weve run out of gas</td>\n",
              "      <td>we have out  of gas</td>\n",
              "    </tr>\n",
              "    <tr>\n",
              "      <th>1</th>\n",
              "      <td>its a fad</td>\n",
              "      <td>this is a</td>\n",
              "    </tr>\n",
              "    <tr>\n",
              "      <th>2</th>\n",
              "      <td>tom was shaken</td>\n",
              "      <td>tom was distressed</td>\n",
              "    </tr>\n",
              "    <tr>\n",
              "      <th>3</th>\n",
              "      <td>this annoys me</td>\n",
              "      <td>this me</td>\n",
              "    </tr>\n",
              "    <tr>\n",
              "      <th>4</th>\n",
              "      <td>let me do that for you</td>\n",
              "      <td>let me do   you</td>\n",
              "    </tr>\n",
              "    <tr>\n",
              "      <th>5</th>\n",
              "      <td>you will pay for this</td>\n",
              "      <td>youll pay for this</td>\n",
              "    </tr>\n",
              "    <tr>\n",
              "      <th>6</th>\n",
              "      <td>tom often cuts classes</td>\n",
              "      <td>tom often to</td>\n",
              "    </tr>\n",
              "    <tr>\n",
              "      <th>7</th>\n",
              "      <td>hes young and healthy</td>\n",
              "      <td>he is young angry</td>\n",
              "    </tr>\n",
              "    <tr>\n",
              "      <th>8</th>\n",
              "      <td>life is enjoyable</td>\n",
              "      <td>life is beautiful</td>\n",
              "    </tr>\n",
              "    <tr>\n",
              "      <th>9</th>\n",
              "      <td>i know it sounds silly</td>\n",
              "      <td>i know it</td>\n",
              "    </tr>\n",
              "    <tr>\n",
              "      <th>10</th>\n",
              "      <td>i raise cattle</td>\n",
              "      <td>im going to</td>\n",
              "    </tr>\n",
              "    <tr>\n",
              "      <th>11</th>\n",
              "      <td>dont worry</td>\n",
              "      <td>dont be worried</td>\n",
              "    </tr>\n",
              "    <tr>\n",
              "      <th>12</th>\n",
              "      <td>close the door</td>\n",
              "      <td>shut the door</td>\n",
              "    </tr>\n",
              "    <tr>\n",
              "      <th>13</th>\n",
              "      <td>youre joking</td>\n",
              "      <td>youre kidding</td>\n",
              "    </tr>\n",
              "    <tr>\n",
              "      <th>14</th>\n",
              "      <td>tom seemed lucky</td>\n",
              "      <td>tom seemed happy</td>\n",
              "    </tr>\n",
              "  </tbody>\n",
              "</table>\n",
              "</div>"
            ],
            "text/plain": [
              "                    actual                predicted\n",
              "0      weve run out of gas    we have out  of gas  \n",
              "1                its a fad           this is a     \n",
              "2           tom was shaken  tom was distressed     \n",
              "3           this annoys me            this me      \n",
              "4   let me do that for you        let me do   you  \n",
              "5    you will pay for this   youll pay for this    \n",
              "6   tom often cuts classes        tom often to     \n",
              "7    hes young and healthy    he is young angry    \n",
              "8        life is enjoyable   life is beautiful     \n",
              "9   i know it sounds silly           i know it     \n",
              "10          i raise cattle         im going to     \n",
              "11              dont worry     dont be worried     \n",
              "12          close the door       shut the door     \n",
              "13            youre joking      youre kidding      \n",
              "14        tom seemed lucky    tom seemed happy     "
            ]
          },
          "execution_count": 34,
          "metadata": {},
          "output_type": "execute_result"
        }
      ],
      "source": [
        "pred_df.head(15)"
      ]
    },
    {
      "cell_type": "code",
      "execution_count": null,
      "metadata": {
        "id": "ewyHW9NJF0qB",
        "outputId": "433014b4-b7ea-4761-983d-538596ea34a6"
      },
      "outputs": [
        {
          "data": {
            "text/html": [
              "<div>\n",
              "<style scoped>\n",
              "    .dataframe tbody tr th:only-of-type {\n",
              "        vertical-align: middle;\n",
              "    }\n",
              "\n",
              "    .dataframe tbody tr th {\n",
              "        vertical-align: top;\n",
              "    }\n",
              "\n",
              "    .dataframe thead th {\n",
              "        text-align: right;\n",
              "    }\n",
              "</style>\n",
              "<table border=\"1\" class=\"dataframe\">\n",
              "  <thead>\n",
              "    <tr style=\"text-align: right;\">\n",
              "      <th></th>\n",
              "      <th>actual</th>\n",
              "      <th>predicted</th>\n",
              "    </tr>\n",
              "  </thead>\n",
              "  <tbody>\n",
              "    <tr>\n",
              "      <th>9985</th>\n",
              "      <td>tom knew the risks</td>\n",
              "      <td>tom was all of</td>\n",
              "    </tr>\n",
              "    <tr>\n",
              "      <th>9986</th>\n",
              "      <td>what does she do</td>\n",
              "      <td>what does you do</td>\n",
              "    </tr>\n",
              "    <tr>\n",
              "      <th>9987</th>\n",
              "      <td>she still loved him</td>\n",
              "      <td>she still him sing</td>\n",
              "    </tr>\n",
              "    <tr>\n",
              "      <th>9988</th>\n",
              "      <td>i want to be careful</td>\n",
              "      <td>i want to be boston</td>\n",
              "    </tr>\n",
              "    <tr>\n",
              "      <th>9989</th>\n",
              "      <td>im here arent i</td>\n",
              "      <td>im here</td>\n",
              "    </tr>\n",
              "    <tr>\n",
              "      <th>9990</th>\n",
              "      <td>youre a hypocrite</td>\n",
              "      <td>youre a hypocrite</td>\n",
              "    </tr>\n",
              "    <tr>\n",
              "      <th>9991</th>\n",
              "      <td>i gave you a book</td>\n",
              "      <td>i gave you a book</td>\n",
              "    </tr>\n",
              "    <tr>\n",
              "      <th>9992</th>\n",
              "      <td>lets do it</td>\n",
              "      <td>do  it</td>\n",
              "    </tr>\n",
              "    <tr>\n",
              "      <th>9993</th>\n",
              "      <td>i broke my leg skiing</td>\n",
              "      <td>i broke my</td>\n",
              "    </tr>\n",
              "    <tr>\n",
              "      <th>9994</th>\n",
              "      <td>i was victorious</td>\n",
              "      <td>i was been asleep</td>\n",
              "    </tr>\n",
              "    <tr>\n",
              "      <th>9995</th>\n",
              "      <td>what a pretty woman</td>\n",
              "      <td>what a wife</td>\n",
              "    </tr>\n",
              "    <tr>\n",
              "      <th>9996</th>\n",
              "      <td>well come with you</td>\n",
              "      <td>were come with you</td>\n",
              "    </tr>\n",
              "    <tr>\n",
              "      <th>9997</th>\n",
              "      <td>i am the same age</td>\n",
              "      <td>im am the same age</td>\n",
              "    </tr>\n",
              "    <tr>\n",
              "      <th>9998</th>\n",
              "      <td>who should we believe</td>\n",
              "      <td>who do we going</td>\n",
              "    </tr>\n",
              "    <tr>\n",
              "      <th>9999</th>\n",
              "      <td>whats it good for</td>\n",
              "      <td>whats she good for</td>\n",
              "    </tr>\n",
              "  </tbody>\n",
              "</table>\n",
              "</div>"
            ],
            "text/plain": [
              "                     actual               predicted\n",
              "9985     tom knew the risks      tom was all of    \n",
              "9986       what does she do    what does you do    \n",
              "9987    she still loved him  she still him sing    \n",
              "9988   i want to be careful  i want to be boston   \n",
              "9989        im here arent i           im here      \n",
              "9990      youre a hypocrite  youre a hypocrite     \n",
              "9991      i gave you a book    i gave you a book   \n",
              "9992             lets do it             do  it     \n",
              "9993  i broke my leg skiing         i broke my     \n",
              "9994       i was victorious   i was been asleep    \n",
              "9995    what a pretty woman        what a wife     \n",
              "9996     well come with you  were come with you    \n",
              "9997      i am the same age   im am the same age   \n",
              "9998  who should we believe     who do we going    \n",
              "9999      whats it good for  whats she good for    "
            ]
          },
          "execution_count": 35,
          "metadata": {},
          "output_type": "execute_result"
        }
      ],
      "source": [
        "pred_df.tail(15)"
      ]
    },
    {
      "cell_type": "code",
      "execution_count": null,
      "metadata": {
        "id": "UHXe_VZzF0qB",
        "outputId": "2ae344ba-2365-4a37-c632-82de008cef68"
      },
      "outputs": [
        {
          "data": {
            "text/html": [
              "<div>\n",
              "<style scoped>\n",
              "    .dataframe tbody tr th:only-of-type {\n",
              "        vertical-align: middle;\n",
              "    }\n",
              "\n",
              "    .dataframe tbody tr th {\n",
              "        vertical-align: top;\n",
              "    }\n",
              "\n",
              "    .dataframe thead th {\n",
              "        text-align: right;\n",
              "    }\n",
              "</style>\n",
              "<table border=\"1\" class=\"dataframe\">\n",
              "  <thead>\n",
              "    <tr style=\"text-align: right;\">\n",
              "      <th></th>\n",
              "      <th>actual</th>\n",
              "      <th>predicted</th>\n",
              "    </tr>\n",
              "  </thead>\n",
              "  <tbody>\n",
              "    <tr>\n",
              "      <th>9985</th>\n",
              "      <td>tom knew the risks</td>\n",
              "      <td>tom was all of</td>\n",
              "    </tr>\n",
              "    <tr>\n",
              "      <th>9986</th>\n",
              "      <td>what does she do</td>\n",
              "      <td>what does you do</td>\n",
              "    </tr>\n",
              "    <tr>\n",
              "      <th>9987</th>\n",
              "      <td>she still loved him</td>\n",
              "      <td>she still him sing</td>\n",
              "    </tr>\n",
              "    <tr>\n",
              "      <th>9988</th>\n",
              "      <td>i want to be careful</td>\n",
              "      <td>i want to be boston</td>\n",
              "    </tr>\n",
              "    <tr>\n",
              "      <th>9989</th>\n",
              "      <td>im here arent i</td>\n",
              "      <td>im here</td>\n",
              "    </tr>\n",
              "    <tr>\n",
              "      <th>9990</th>\n",
              "      <td>youre a hypocrite</td>\n",
              "      <td>youre a hypocrite</td>\n",
              "    </tr>\n",
              "    <tr>\n",
              "      <th>9991</th>\n",
              "      <td>i gave you a book</td>\n",
              "      <td>i gave you a book</td>\n",
              "    </tr>\n",
              "    <tr>\n",
              "      <th>9992</th>\n",
              "      <td>lets do it</td>\n",
              "      <td>do  it</td>\n",
              "    </tr>\n",
              "    <tr>\n",
              "      <th>9993</th>\n",
              "      <td>i broke my leg skiing</td>\n",
              "      <td>i broke my</td>\n",
              "    </tr>\n",
              "    <tr>\n",
              "      <th>9994</th>\n",
              "      <td>i was victorious</td>\n",
              "      <td>i was been asleep</td>\n",
              "    </tr>\n",
              "    <tr>\n",
              "      <th>9995</th>\n",
              "      <td>what a pretty woman</td>\n",
              "      <td>what a wife</td>\n",
              "    </tr>\n",
              "    <tr>\n",
              "      <th>9996</th>\n",
              "      <td>well come with you</td>\n",
              "      <td>were come with you</td>\n",
              "    </tr>\n",
              "    <tr>\n",
              "      <th>9997</th>\n",
              "      <td>i am the same age</td>\n",
              "      <td>im am the same age</td>\n",
              "    </tr>\n",
              "    <tr>\n",
              "      <th>9998</th>\n",
              "      <td>who should we believe</td>\n",
              "      <td>who do we going</td>\n",
              "    </tr>\n",
              "    <tr>\n",
              "      <th>9999</th>\n",
              "      <td>whats it good for</td>\n",
              "      <td>whats she good for</td>\n",
              "    </tr>\n",
              "  </tbody>\n",
              "</table>\n",
              "</div>"
            ],
            "text/plain": [
              "                     actual               predicted\n",
              "9985     tom knew the risks      tom was all of    \n",
              "9986       what does she do    what does you do    \n",
              "9987    she still loved him  she still him sing    \n",
              "9988   i want to be careful  i want to be boston   \n",
              "9989        im here arent i           im here      \n",
              "9990      youre a hypocrite  youre a hypocrite     \n",
              "9991      i gave you a book    i gave you a book   \n",
              "9992             lets do it             do  it     \n",
              "9993  i broke my leg skiing         i broke my     \n",
              "9994       i was victorious   i was been asleep    \n",
              "9995    what a pretty woman        what a wife     \n",
              "9996     well come with you  were come with you    \n",
              "9997      i am the same age   im am the same age   \n",
              "9998  who should we believe     who do we going    \n",
              "9999      whats it good for  whats she good for    "
            ]
          },
          "execution_count": 37,
          "metadata": {},
          "output_type": "execute_result"
        }
      ],
      "source": [
        "pred_df.tail(15)"
      ]
    },
    {
      "cell_type": "code",
      "execution_count": null,
      "metadata": {
        "id": "0ZokNLFBF0qB",
        "outputId": "119c71c4-c39b-4e69-f3c9-86325e50c4c0"
      },
      "outputs": [
        {
          "data": {
            "text/html": [
              "<div>\n",
              "<style scoped>\n",
              "    .dataframe tbody tr th:only-of-type {\n",
              "        vertical-align: middle;\n",
              "    }\n",
              "\n",
              "    .dataframe tbody tr th {\n",
              "        vertical-align: top;\n",
              "    }\n",
              "\n",
              "    .dataframe thead th {\n",
              "        text-align: right;\n",
              "    }\n",
              "</style>\n",
              "<table border=\"1\" class=\"dataframe\">\n",
              "  <thead>\n",
              "    <tr style=\"text-align: right;\">\n",
              "      <th></th>\n",
              "      <th>actual</th>\n",
              "      <th>predicted</th>\n",
              "    </tr>\n",
              "  </thead>\n",
              "  <tbody>\n",
              "    <tr>\n",
              "      <th>4719</th>\n",
              "      <td>id like to know why</td>\n",
              "      <td>id like to know why</td>\n",
              "    </tr>\n",
              "    <tr>\n",
              "      <th>6533</th>\n",
              "      <td>i dont need a car</td>\n",
              "      <td>i dont need a car</td>\n",
              "    </tr>\n",
              "    <tr>\n",
              "      <th>8505</th>\n",
              "      <td>youve got a fever</td>\n",
              "      <td>you have a fever</td>\n",
              "    </tr>\n",
              "    <tr>\n",
              "      <th>6081</th>\n",
              "      <td>dont come again</td>\n",
              "      <td>dont come again</td>\n",
              "    </tr>\n",
              "    <tr>\n",
              "      <th>5615</th>\n",
              "      <td>im tired of boston</td>\n",
              "      <td>im am boston</td>\n",
              "    </tr>\n",
              "    <tr>\n",
              "      <th>868</th>\n",
              "      <td>i mean no disrespect</td>\n",
              "      <td>i dont want to be</td>\n",
              "    </tr>\n",
              "    <tr>\n",
              "      <th>1415</th>\n",
              "      <td>take a number</td>\n",
              "      <td>take a number</td>\n",
              "    </tr>\n",
              "    <tr>\n",
              "      <th>3561</th>\n",
              "      <td>what does it say</td>\n",
              "      <td>what does it</td>\n",
              "    </tr>\n",
              "    <tr>\n",
              "      <th>1292</th>\n",
              "      <td>shes still young</td>\n",
              "      <td>she is young</td>\n",
              "    </tr>\n",
              "    <tr>\n",
              "      <th>7759</th>\n",
              "      <td>youre out of order</td>\n",
              "      <td>youre not normal</td>\n",
              "    </tr>\n",
              "    <tr>\n",
              "      <th>1285</th>\n",
              "      <td>get lost</td>\n",
              "      <td>get away</td>\n",
              "    </tr>\n",
              "    <tr>\n",
              "      <th>6900</th>\n",
              "      <td>tom wouldnt blame you</td>\n",
              "      <td>tom wouldnt blame you</td>\n",
              "    </tr>\n",
              "    <tr>\n",
              "      <th>4161</th>\n",
              "      <td>youre in love</td>\n",
              "      <td>are  love</td>\n",
              "    </tr>\n",
              "    <tr>\n",
              "      <th>1427</th>\n",
              "      <td>he noticed i was there</td>\n",
              "      <td>he saw ill right</td>\n",
              "    </tr>\n",
              "    <tr>\n",
              "      <th>2987</th>\n",
              "      <td>tom rarely smiled</td>\n",
              "      <td>tom seldom smiled</td>\n",
              "    </tr>\n",
              "  </tbody>\n",
              "</table>\n",
              "</div>"
            ],
            "text/plain": [
              "                      actual                  predicted\n",
              "4719     id like to know why     id like to know why   \n",
              "6533       i dont need a car       i dont need a car   \n",
              "8505       youve got a fever       you have a fever    \n",
              "6081         dont come again       dont come again     \n",
              "5615      im tired of boston          im am boston     \n",
              "868     i mean no disrespect       i dont want to be   \n",
              "1415           take a number         take a number     \n",
              "3561        what does it say          what does it     \n",
              "1292        shes still young          she is young     \n",
              "7759      youre out of order      youre not normal     \n",
              "1285                get lost             get away      \n",
              "6900   tom wouldnt blame you  tom wouldnt blame you    \n",
              "4161           youre in love             are  love     \n",
              "1427  he noticed i was there       he saw ill right    \n",
              "2987       tom rarely smiled     tom seldom smiled     "
            ]
          },
          "execution_count": 40,
          "metadata": {},
          "output_type": "execute_result"
        }
      ],
      "source": [
        "pred_df.sample(15)"
      ]
    }
  ],
  "metadata": {
    "colab": {
      "provenance": []
    },
    "kernelspec": {
      "display_name": "Display Kernel Name is Kanye ",
      "language": "python",
      "name": "west-kanye"
    },
    "language_info": {
      "codemirror_mode": {
        "name": "ipython",
        "version": 3
      },
      "file_extension": ".py",
      "mimetype": "text/x-python",
      "name": "python",
      "nbconvert_exporter": "python",
      "pygments_lexer": "ipython3",
      "version": "3.9.13"
    },
    "vscode": {
      "interpreter": {
        "hash": "231fa661f6864ef19e499bbd2782d03ff99f363f5ebfe416ba9cf7c065dc127b"
      }
    },
    "widgets": {
      "application/vnd.jupyter.widget-state+json": {
        "372afca9149a4cd3b3fface06b846b66": {
          "model_module": "@jupyter-widgets/controls",
          "model_module_version": "1.5.0",
          "model_name": "HTMLModel",
          "state": {
            "_dom_classes": [],
            "_model_module": "@jupyter-widgets/controls",
            "_model_module_version": "1.5.0",
            "_model_name": "HTMLModel",
            "_view_count": null,
            "_view_module": "@jupyter-widgets/controls",
            "_view_module_version": "1.5.0",
            "_view_name": "HTMLView",
            "description": "",
            "description_tooltip": null,
            "layout": "IPY_MODEL_91d85c57d43540e0949b8c04a8260ba7",
            "placeholder": "​",
            "style": "IPY_MODEL_a6fb3097f1e64e36a2cd8c282e12e753",
            "value": "100%"
          }
        },
        "3ba067e90088413d8bf6aca9015f4095": {
          "model_module": "@jupyter-widgets/base",
          "model_module_version": "1.2.0",
          "model_name": "LayoutModel",
          "state": {
            "_model_module": "@jupyter-widgets/base",
            "_model_module_version": "1.2.0",
            "_model_name": "LayoutModel",
            "_view_count": null,
            "_view_module": "@jupyter-widgets/base",
            "_view_module_version": "1.2.0",
            "_view_name": "LayoutView",
            "align_content": null,
            "align_items": null,
            "align_self": null,
            "border": null,
            "bottom": null,
            "display": null,
            "flex": null,
            "flex_flow": null,
            "grid_area": null,
            "grid_auto_columns": null,
            "grid_auto_flow": null,
            "grid_auto_rows": null,
            "grid_column": null,
            "grid_gap": null,
            "grid_row": null,
            "grid_template_areas": null,
            "grid_template_columns": null,
            "grid_template_rows": null,
            "height": null,
            "justify_content": null,
            "justify_items": null,
            "left": null,
            "margin": null,
            "max_height": null,
            "max_width": null,
            "min_height": null,
            "min_width": null,
            "object_fit": null,
            "object_position": null,
            "order": null,
            "overflow": null,
            "overflow_x": null,
            "overflow_y": null,
            "padding": null,
            "right": null,
            "top": null,
            "visibility": null,
            "width": null
          }
        },
        "475553cf8de34e6e96adabc0668dc7f9": {
          "model_module": "@jupyter-widgets/controls",
          "model_module_version": "1.5.0",
          "model_name": "FloatProgressModel",
          "state": {
            "_dom_classes": [],
            "_model_module": "@jupyter-widgets/controls",
            "_model_module_version": "1.5.0",
            "_model_name": "FloatProgressModel",
            "_view_count": null,
            "_view_module": "@jupyter-widgets/controls",
            "_view_module_version": "1.5.0",
            "_view_name": "ProgressView",
            "bar_style": "success",
            "description": "",
            "description_tooltip": null,
            "layout": "IPY_MODEL_f903ee0ef410462782695068ee43853e",
            "max": 3,
            "min": 0,
            "orientation": "horizontal",
            "style": "IPY_MODEL_531f0b44e0694b9f994a55bda70f1095",
            "value": 3
          }
        },
        "531f0b44e0694b9f994a55bda70f1095": {
          "model_module": "@jupyter-widgets/controls",
          "model_module_version": "1.5.0",
          "model_name": "ProgressStyleModel",
          "state": {
            "_model_module": "@jupyter-widgets/controls",
            "_model_module_version": "1.5.0",
            "_model_name": "ProgressStyleModel",
            "_view_count": null,
            "_view_module": "@jupyter-widgets/base",
            "_view_module_version": "1.2.0",
            "_view_name": "StyleView",
            "bar_color": null,
            "description_width": ""
          }
        },
        "91d85c57d43540e0949b8c04a8260ba7": {
          "model_module": "@jupyter-widgets/base",
          "model_module_version": "1.2.0",
          "model_name": "LayoutModel",
          "state": {
            "_model_module": "@jupyter-widgets/base",
            "_model_module_version": "1.2.0",
            "_model_name": "LayoutModel",
            "_view_count": null,
            "_view_module": "@jupyter-widgets/base",
            "_view_module_version": "1.2.0",
            "_view_name": "LayoutView",
            "align_content": null,
            "align_items": null,
            "align_self": null,
            "border": null,
            "bottom": null,
            "display": null,
            "flex": null,
            "flex_flow": null,
            "grid_area": null,
            "grid_auto_columns": null,
            "grid_auto_flow": null,
            "grid_auto_rows": null,
            "grid_column": null,
            "grid_gap": null,
            "grid_row": null,
            "grid_template_areas": null,
            "grid_template_columns": null,
            "grid_template_rows": null,
            "height": null,
            "justify_content": null,
            "justify_items": null,
            "left": null,
            "margin": null,
            "max_height": null,
            "max_width": null,
            "min_height": null,
            "min_width": null,
            "object_fit": null,
            "object_position": null,
            "order": null,
            "overflow": null,
            "overflow_x": null,
            "overflow_y": null,
            "padding": null,
            "right": null,
            "top": null,
            "visibility": null,
            "width": null
          }
        },
        "a6fb3097f1e64e36a2cd8c282e12e753": {
          "model_module": "@jupyter-widgets/controls",
          "model_module_version": "1.5.0",
          "model_name": "DescriptionStyleModel",
          "state": {
            "_model_module": "@jupyter-widgets/controls",
            "_model_module_version": "1.5.0",
            "_model_name": "DescriptionStyleModel",
            "_view_count": null,
            "_view_module": "@jupyter-widgets/base",
            "_view_module_version": "1.2.0",
            "_view_name": "StyleView",
            "description_width": ""
          }
        },
        "a92b851b580b4d5584adea05e8ab8d85": {
          "model_module": "@jupyter-widgets/base",
          "model_module_version": "1.2.0",
          "model_name": "LayoutModel",
          "state": {
            "_model_module": "@jupyter-widgets/base",
            "_model_module_version": "1.2.0",
            "_model_name": "LayoutModel",
            "_view_count": null,
            "_view_module": "@jupyter-widgets/base",
            "_view_module_version": "1.2.0",
            "_view_name": "LayoutView",
            "align_content": null,
            "align_items": null,
            "align_self": null,
            "border": null,
            "bottom": null,
            "display": null,
            "flex": null,
            "flex_flow": null,
            "grid_area": null,
            "grid_auto_columns": null,
            "grid_auto_flow": null,
            "grid_auto_rows": null,
            "grid_column": null,
            "grid_gap": null,
            "grid_row": null,
            "grid_template_areas": null,
            "grid_template_columns": null,
            "grid_template_rows": null,
            "height": null,
            "justify_content": null,
            "justify_items": null,
            "left": null,
            "margin": null,
            "max_height": null,
            "max_width": null,
            "min_height": null,
            "min_width": null,
            "object_fit": null,
            "object_position": null,
            "order": null,
            "overflow": null,
            "overflow_x": null,
            "overflow_y": null,
            "padding": null,
            "right": null,
            "top": null,
            "visibility": null,
            "width": null
          }
        },
        "d04e9d39206d4a5abc3e49deefd4c949": {
          "model_module": "@jupyter-widgets/controls",
          "model_module_version": "1.5.0",
          "model_name": "HBoxModel",
          "state": {
            "_dom_classes": [],
            "_model_module": "@jupyter-widgets/controls",
            "_model_module_version": "1.5.0",
            "_model_name": "HBoxModel",
            "_view_count": null,
            "_view_module": "@jupyter-widgets/controls",
            "_view_module_version": "1.5.0",
            "_view_name": "HBoxView",
            "box_style": "",
            "children": [
              "IPY_MODEL_372afca9149a4cd3b3fface06b846b66",
              "IPY_MODEL_475553cf8de34e6e96adabc0668dc7f9",
              "IPY_MODEL_f9f40bd818f040d88306317e3af3b76f"
            ],
            "layout": "IPY_MODEL_3ba067e90088413d8bf6aca9015f4095"
          }
        },
        "e62e670d14744ab98a32e83f74126f62": {
          "model_module": "@jupyter-widgets/controls",
          "model_module_version": "1.5.0",
          "model_name": "DescriptionStyleModel",
          "state": {
            "_model_module": "@jupyter-widgets/controls",
            "_model_module_version": "1.5.0",
            "_model_name": "DescriptionStyleModel",
            "_view_count": null,
            "_view_module": "@jupyter-widgets/base",
            "_view_module_version": "1.2.0",
            "_view_name": "StyleView",
            "description_width": ""
          }
        },
        "f903ee0ef410462782695068ee43853e": {
          "model_module": "@jupyter-widgets/base",
          "model_module_version": "1.2.0",
          "model_name": "LayoutModel",
          "state": {
            "_model_module": "@jupyter-widgets/base",
            "_model_module_version": "1.2.0",
            "_model_name": "LayoutModel",
            "_view_count": null,
            "_view_module": "@jupyter-widgets/base",
            "_view_module_version": "1.2.0",
            "_view_name": "LayoutView",
            "align_content": null,
            "align_items": null,
            "align_self": null,
            "border": null,
            "bottom": null,
            "display": null,
            "flex": null,
            "flex_flow": null,
            "grid_area": null,
            "grid_auto_columns": null,
            "grid_auto_flow": null,
            "grid_auto_rows": null,
            "grid_column": null,
            "grid_gap": null,
            "grid_row": null,
            "grid_template_areas": null,
            "grid_template_columns": null,
            "grid_template_rows": null,
            "height": null,
            "justify_content": null,
            "justify_items": null,
            "left": null,
            "margin": null,
            "max_height": null,
            "max_width": null,
            "min_height": null,
            "min_width": null,
            "object_fit": null,
            "object_position": null,
            "order": null,
            "overflow": null,
            "overflow_x": null,
            "overflow_y": null,
            "padding": null,
            "right": null,
            "top": null,
            "visibility": null,
            "width": null
          }
        },
        "f9f40bd818f040d88306317e3af3b76f": {
          "model_module": "@jupyter-widgets/controls",
          "model_module_version": "1.5.0",
          "model_name": "HTMLModel",
          "state": {
            "_dom_classes": [],
            "_model_module": "@jupyter-widgets/controls",
            "_model_module_version": "1.5.0",
            "_model_name": "HTMLModel",
            "_view_count": null,
            "_view_module": "@jupyter-widgets/controls",
            "_view_module_version": "1.5.0",
            "_view_name": "HTMLView",
            "description": "",
            "description_tooltip": null,
            "layout": "IPY_MODEL_a92b851b580b4d5584adea05e8ab8d85",
            "placeholder": "​",
            "style": "IPY_MODEL_e62e670d14744ab98a32e83f74126f62",
            "value": " 3/3 [00:01&lt;00:00,  2.18it/s]"
          }
        }
      }
    }
  },
  "nbformat": 4,
  "nbformat_minor": 0
}
