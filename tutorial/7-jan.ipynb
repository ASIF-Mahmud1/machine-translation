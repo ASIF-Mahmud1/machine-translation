{
 "cells": [
  {
   "cell_type": "code",
   "execution_count": 1,
   "metadata": {},
   "outputs": [
    {
     "name": "stdout",
     "output_type": "stream",
     "text": [
      "['/Users/learn/Desktop/Projects/machine-translation/tutorial', '/Users/learn/.vscode/extensions/ms-toolsai.jupyter-2022.11.1003412109/pythonFiles', '/Users/learn/.vscode/extensions/ms-toolsai.jupyter-2022.11.1003412109/pythonFiles/lib/python', '/Users/learn/Desktop/Projects/machine-translation/.env/lib/python39.zip', '/Users/learn/Desktop/Projects/machine-translation/.env/lib/python3.9', '/Users/learn/Desktop/Projects/machine-translation/.env/lib/python3.9/lib-dynload', '', '/Users/learn/Desktop/Projects/machine-translation/.env/lib/python3.9/site-packages']\n",
      "['/Users/learn/Desktop/Projects/machine-translation/tutorial', '/Users/learn/.vscode/extensions/ms-toolsai.jupyter-2022.11.1003412109/pythonFiles', '/Users/learn/.vscode/extensions/ms-toolsai.jupyter-2022.11.1003412109/pythonFiles/lib/python', '/Users/learn/Desktop/Projects/machine-translation/.env/lib/python39.zip', '/Users/learn/Desktop/Projects/machine-translation/.env/lib/python3.9', '/Users/learn/Desktop/Projects/machine-translation/.env/lib/python3.9/lib-dynload', '', '/Users/learn/Desktop/Projects/machine-translation/.env/lib/python3.9/site-packages', '/Users/learn/Desktop/Projects/helper', '/Users/learn/Desktop/Projects/utils', '/Users/learn/Desktop/Projects/machine-translation/test/helper', '/Users/learn/Desktop/Projects/machine-translation/utils', '/Users/learn/Desktop/Projects/machine-translation/data', '/Users/learn/Desktop/Projects/machine-translation/tutorial/create-model/lstm']\n"
     ]
    }
   ],
   "source": [
    "import string\n",
    "import re\n",
    "from numpy import array, argmax, random, take\n",
    "import pandas as pd\n",
    "from keras.models import Sequential\n",
    "from keras.layers import Dense, LSTM, Embedding, RepeatVector\n",
    "from keras.preprocessing.text import Tokenizer\n",
    "from keras.callbacks import ModelCheckpoint\n",
    "from keras.preprocessing.sequence import pad_sequences\n",
    "from keras.models import load_model\n",
    "from tensorflow.keras import optimizers\n",
    "import matplotlib.pyplot as plt\n",
    "import os\n",
    "import sys\n",
    "\n",
    "%matplotlib inline\n",
    "pd.set_option('display.max_colwidth', 200)\n",
    "\n",
    "\n",
    "def handle_helper_functions():\n",
    "    print(sys.path)\n",
    "    directory_path = os.path.abspath(os.path.join('../../helper'))\n",
    "    if directory_path not in sys.path:\n",
    "        sys.path.append(directory_path)    \n",
    "\n",
    "    translation_path=os.path.abspath(os.path.join('../../utils')) \n",
    "    if translation_path not in sys.path:\n",
    "        sys.path.append(translation_path)   \n",
    "    sys.path.append('/Users/learn/Desktop/Projects/machine-translation/test/helper')                                       \n",
    "    sys.path.append('/Users/learn/Desktop/Projects/machine-translation/utils')\n",
    "    sys.path.append('/Users/learn/Desktop/Projects/machine-translation/data')\n",
    "\n",
    "\n",
    "    lstm_helper_path = os.path.abspath(os.path.join('./create-model/lstm/'))\n",
    "    if lstm_helper_path not in sys.path:\n",
    "        sys.path.append(lstm_helper_path)    \n",
    "\n",
    "    print(sys.path)\n",
    "    \n",
    "\n",
    "handle_helper_functions()"
   ]
  },
  {
   "attachments": {},
   "cell_type": "markdown",
   "metadata": {},
   "source": [
    "### Importing Path of Helper Functions"
   ]
  },
  {
   "cell_type": "code",
   "execution_count": 2,
   "metadata": {},
   "outputs": [
    {
     "name": "stderr",
     "output_type": "stream",
     "text": [
      "Using custom data configuration cfilt--iitb-english-hindi-911387c6837f8b91\n",
      "Reusing dataset parquet (/Users/learn/.cache/huggingface/datasets/parquet/cfilt--iitb-english-hindi-911387c6837f8b91/0.0.0/1638526fd0e8d960534e2155dc54fdff8dce73851f21f031d2fb9c2cf757c121)\n"
     ]
    },
    {
     "data": {
      "application/vnd.jupyter.widget-view+json": {
       "model_id": "25f324ae0d554957ba06b5746bec13e3",
       "version_major": 2,
       "version_minor": 0
      },
      "text/plain": [
       "  0%|          | 0/3 [00:00<?, ?it/s]"
      ]
     },
     "metadata": {},
     "output_type": "display_data"
    }
   ],
   "source": [
    "from nltk.translate.bleu_score import sentence_bleu\n",
    "import tensorflow_text as text\n",
    "from scoreTest import get_cosine_val, get_BLEU_score, get_ROUGE_score\n",
    "from translate import  translate_sentence\n",
    "from modelHelper import generate_encoder_decoder_input_states\n",
    "from preprocessing_text import removePunctuation, toLowercase\n",
    "from iit_dataset import createDataset"
   ]
  },
  {
   "cell_type": "code",
   "execution_count": 6,
   "metadata": {},
   "outputs": [],
   "source": [
    "import warnings\n",
    "warnings.filterwarnings('ignore')\n",
    "import string\n",
    "import re\n",
    "from unicodedata import normalize\n",
    "import numpy as np\n",
    "from keras.preprocessing.text import Tokenizer\n",
    "from keras.preprocessing.sequence import pad_sequences\n",
    "from tensorflow.keras.utils import to_categorical\n",
    "\n",
    "from keras.models import Sequential,load_model\n",
    "from keras.layers import LSTM,Dense,Embedding,RepeatVector,TimeDistributed\n",
    "from keras.callbacks import EarlyStopping\n",
    "from keras.preprocessing.text import Tokenizer\n",
    "from keras.preprocessing.sequence import pad_sequences\n",
    "from nltk.translate.bleu_score import corpus_bleu\n",
    "import pandas as pd\n",
    "from string import punctuation\n",
    "import matplotlib.pyplot as plt\n",
    "from IPython.display import Markdown, display\n",
    "\n",
    "def printmd(string):\n",
    "    # Print with Markdowns    \n",
    "    display(Markdown(string))"
   ]
  },
  {
   "cell_type": "code",
   "execution_count": 14,
   "metadata": {},
   "outputs": [],
   "source": [
    "data_size=15000\n",
    "\n",
    "pool_oftexts, pairs =createDataset(data_size=data_size, type=\"train\")\n",
    "dataset= pool_oftexts"
   ]
  },
  {
   "cell_type": "code",
   "execution_count": 16,
   "metadata": {},
   "outputs": [
    {
     "data": {
      "text/markdown": [
       "## 10000 \"parallel sentences\" will be loaded (original sentence + its translation)"
      ],
      "text/plain": [
       "<IPython.core.display.Markdown object>"
      ]
     },
     "metadata": {},
     "output_type": "display_data"
    },
    {
     "data": {
      "text/markdown": [
       "## 9000 \"parallel sentences\" will be used to train the model"
      ],
      "text/plain": [
       "<IPython.core.display.Markdown object>"
      ]
     },
     "metadata": {},
     "output_type": "display_data"
    },
    {
     "data": {
      "text/markdown": [
       "## 1000 \"parallel sentences\" will be used to test the model"
      ],
      "text/plain": [
       "<IPython.core.display.Markdown object>"
      ]
     },
     "metadata": {},
     "output_type": "display_data"
    }
   ],
   "source": [
    "# How many sentences will be used\n",
    "# Limit the sentences to 10.000 on Kaggle to avoid exceding the\n",
    "# available RAM space\n",
    "# Build a generator to avoid this issue\n",
    "\n",
    "total_sentences = 10000\n",
    "\n",
    "# Load the dataset\n",
    "\n",
    "# What proportion of the sentences will be used for the test set\n",
    "test_proportion = 0.1\n",
    "train_test_threshold = int( (1-test_proportion) * total_sentences)\n",
    "\n",
    "printmd(f'## {total_sentences} \"parallel sentences\" will be loaded (original sentence + its translation)')\n",
    "printmd(f'## {train_test_threshold} \"parallel sentences\" will be used to train the model')\n",
    "printmd(f'## {total_sentences-train_test_threshold} \"parallel sentences\" will be used to test the model')"
   ]
  },
  {
   "cell_type": "code",
   "execution_count": 17,
   "metadata": {},
   "outputs": [
    {
     "data": {
      "text/html": [
       "<div>\n",
       "<style scoped>\n",
       "    .dataframe tbody tr th:only-of-type {\n",
       "        vertical-align: middle;\n",
       "    }\n",
       "\n",
       "    .dataframe tbody tr th {\n",
       "        vertical-align: top;\n",
       "    }\n",
       "\n",
       "    .dataframe thead th {\n",
       "        text-align: right;\n",
       "    }\n",
       "</style>\n",
       "<table border=\"1\" class=\"dataframe\">\n",
       "  <thead>\n",
       "    <tr style=\"text-align: right;\">\n",
       "      <th></th>\n",
       "      <th>hindi</th>\n",
       "      <th>eng</th>\n",
       "    </tr>\n",
       "  </thead>\n",
       "  <tbody>\n",
       "    <tr>\n",
       "      <th>2395</th>\n",
       "      <td>बेकर्स खेल</td>\n",
       "      <td>bakers game</td>\n",
       "    </tr>\n",
       "    <tr>\n",
       "      <th>7095</th>\n",
       "      <td>त्रुटि</td>\n",
       "      <td>error</td>\n",
       "    </tr>\n",
       "    <tr>\n",
       "      <th>280</th>\n",
       "      <td>नाम</td>\n",
       "      <td>name</td>\n",
       "    </tr>\n",
       "    <tr>\n",
       "      <th>14696</th>\n",
       "      <td>विजेट नहीं मिलाः s</td>\n",
       "      <td>widget not found s</td>\n",
       "    </tr>\n",
       "    <tr>\n",
       "      <th>6487</th>\n",
       "      <td>छैतिज पैमाना</td>\n",
       "      <td>editor text transformation</td>\n",
       "    </tr>\n",
       "    <tr>\n",
       "      <th>11028</th>\n",
       "      <td>सभी खण्डन बिन्दु अक्षम करें</td>\n",
       "      <td>disable all breakpoints</td>\n",
       "    </tr>\n",
       "    <tr>\n",
       "      <th>2994</th>\n",
       "      <td>नियंत्रण की शैली का चयन करें</td>\n",
       "      <td>select the style of control</td>\n",
       "    </tr>\n",
       "    <tr>\n",
       "      <th>4624</th>\n",
       "      <td>टूटते तारे</td>\n",
       "      <td>falling stars</td>\n",
       "    </tr>\n",
       "    <tr>\n",
       "      <th>11901</th>\n",
       "      <td>जोड़ें समूह</td>\n",
       "      <td>cannot add group</td>\n",
       "    </tr>\n",
       "    <tr>\n",
       "      <th>1018</th>\n",
       "      <td>मान</td>\n",
       "      <td>value</td>\n",
       "    </tr>\n",
       "  </tbody>\n",
       "</table>\n",
       "</div>"
      ],
      "text/plain": [
       "                              hindi                          eng\n",
       "2395                     बेकर्स खेल                  bakers game\n",
       "7095                         त्रुटि                        error\n",
       "280                             नाम                         name\n",
       "14696            विजेट नहीं मिलाः s           widget not found s\n",
       "6487                   छैतिज पैमाना   editor text transformation\n",
       "11028   सभी खण्डन बिन्दु अक्षम करें      disable all breakpoints\n",
       "2994   नियंत्रण की शैली का चयन करें  select the style of control\n",
       "4624                     टूटते तारे                falling stars\n",
       "11901                   जोड़ें समूह             cannot add group\n",
       "1018                            मान                        value"
      ]
     },
     "execution_count": 17,
     "metadata": {},
     "output_type": "execute_result"
    }
   ],
   "source": [
    "# Shuffle the dataset\n",
    "dataset = dataset.sample(frac=1, random_state=0)\n",
    "dataset.iloc[1000:1010]"
   ]
  },
  {
   "cell_type": "code",
   "execution_count": 18,
   "metadata": {},
   "outputs": [],
   "source": [
    "def clean(string):\n",
    "    # Clean the string\n",
    "    string = string.replace(\"\\u202f\",\" \") # Replace no-break space with space\n",
    "    string = string.lower()\n",
    "    \n",
    "    # Delete the punctuation and the numbers\n",
    "    for p in punctuation + \"«»\" + \"0123456789\":\n",
    "        string = string.replace(p,\" \")\n",
    "        \n",
    "    string = re.sub('\\s+',' ', string)\n",
    "    string = string.strip()\n",
    "           \n",
    "    return string\n",
    "\n",
    "# Clean the sentences\n",
    "dataset[\"eng\"] = dataset[\"eng\"].apply(lambda x: clean(x))\n",
    "dataset[\"hindi\"] = dataset[\"hindi\"].apply(lambda x: clean(x))\n",
    "\n",
    "# Select one part of the dataset\n",
    "dataset = dataset.values\n",
    "dataset = dataset[:total_sentences]\n",
    "\n",
    "# split into train/test\n",
    "train, test = dataset[:train_test_threshold], dataset[train_test_threshold:]\n",
    "\n",
    "# Define the name of the source and of the target\n",
    "# This will be used in the outputs of this notebook\n",
    "source_str, target_str = \"Hindi\", \"English\"\n",
    "\n",
    "# The index in the numpy array of the source and of the target\n",
    "idx_src, idx_tar = 1, 0"
   ]
  },
  {
   "cell_type": "code",
   "execution_count": 29,
   "metadata": {},
   "outputs": [
    {
     "data": {
      "text/html": [
       "<div>\n",
       "<style scoped>\n",
       "    .dataframe tbody tr th:only-of-type {\n",
       "        vertical-align: middle;\n",
       "    }\n",
       "\n",
       "    .dataframe tbody tr th {\n",
       "        vertical-align: top;\n",
       "    }\n",
       "\n",
       "    .dataframe thead th {\n",
       "        text-align: right;\n",
       "    }\n",
       "</style>\n",
       "<table border=\"1\" class=\"dataframe\">\n",
       "  <thead>\n",
       "    <tr style=\"text-align: right;\">\n",
       "      <th></th>\n",
       "      <th>0</th>\n",
       "      <th>1</th>\n",
       "    </tr>\n",
       "  </thead>\n",
       "  <tbody>\n",
       "    <tr>\n",
       "      <th>0</th>\n",
       "      <td>बेकर्स खेल</td>\n",
       "      <td>bakers game</td>\n",
       "    </tr>\n",
       "    <tr>\n",
       "      <th>1</th>\n",
       "      <td>त्रुटि</td>\n",
       "      <td>error</td>\n",
       "    </tr>\n",
       "    <tr>\n",
       "      <th>2</th>\n",
       "      <td>नाम</td>\n",
       "      <td>name</td>\n",
       "    </tr>\n",
       "    <tr>\n",
       "      <th>3</th>\n",
       "      <td>विजेट नहीं मिलाः s</td>\n",
       "      <td>widget not found s</td>\n",
       "    </tr>\n",
       "    <tr>\n",
       "      <th>4</th>\n",
       "      <td>छैतिज पैमाना</td>\n",
       "      <td>editor text transformation</td>\n",
       "    </tr>\n",
       "    <tr>\n",
       "      <th>5</th>\n",
       "      <td>सभी खण्डन बिन्दु अक्षम करें</td>\n",
       "      <td>disable all breakpoints</td>\n",
       "    </tr>\n",
       "    <tr>\n",
       "      <th>6</th>\n",
       "      <td>नियंत्रण की शैली का चयन करें</td>\n",
       "      <td>select the style of control</td>\n",
       "    </tr>\n",
       "    <tr>\n",
       "      <th>7</th>\n",
       "      <td>टूटते तारे</td>\n",
       "      <td>falling stars</td>\n",
       "    </tr>\n",
       "    <tr>\n",
       "      <th>8</th>\n",
       "      <td>जोड़ें समूह</td>\n",
       "      <td>cannot add group</td>\n",
       "    </tr>\n",
       "    <tr>\n",
       "      <th>9</th>\n",
       "      <td>मान</td>\n",
       "      <td>value</td>\n",
       "    </tr>\n",
       "  </tbody>\n",
       "</table>\n",
       "</div>"
      ],
      "text/plain": [
       "                              0                            1\n",
       "0                    बेकर्स खेल                  bakers game\n",
       "1                        त्रुटि                        error\n",
       "2                           नाम                         name\n",
       "3            विजेट नहीं मिलाः s           widget not found s\n",
       "4                  छैतिज पैमाना   editor text transformation\n",
       "5   सभी खण्डन बिन्दु अक्षम करें      disable all breakpoints\n",
       "6  नियंत्रण की शैली का चयन करें  select the style of control\n",
       "7                    टूटते तारे                falling stars\n",
       "8                   जोड़ें समूह             cannot add group\n",
       "9                           मान                        value"
      ]
     },
     "execution_count": 29,
     "metadata": {},
     "output_type": "execute_result"
    }
   ],
   "source": [
    "pd.DataFrame(dataset[1000:1010])\n"
   ]
  },
  {
   "cell_type": "code",
   "execution_count": 21,
   "metadata": {},
   "outputs": [
    {
     "data": {
      "text/markdown": [
       "\n",
       "Target (English) Vocabulary Size: 2384"
      ],
      "text/plain": [
       "<IPython.core.display.Markdown object>"
      ]
     },
     "metadata": {},
     "output_type": "display_data"
    },
    {
     "data": {
      "text/markdown": [
       "Target (English) Max Length: 15"
      ],
      "text/plain": [
       "<IPython.core.display.Markdown object>"
      ]
     },
     "metadata": {},
     "output_type": "display_data"
    },
    {
     "data": {
      "text/markdown": [
       "\n",
       "Source (Hindi) Vocabulary Size: 1911"
      ],
      "text/plain": [
       "<IPython.core.display.Markdown object>"
      ]
     },
     "metadata": {},
     "output_type": "display_data"
    },
    {
     "data": {
      "text/markdown": [
       "Source (Hindi) Max Length: 15\n"
      ],
      "text/plain": [
       "<IPython.core.display.Markdown object>"
      ]
     },
     "metadata": {},
     "output_type": "display_data"
    }
   ],
   "source": [
    "def create_tokenizer(lines):\n",
    "    # fit a tokenizer\n",
    "    tokenizer = Tokenizer()\n",
    "    tokenizer.fit_on_texts(lines)\n",
    "    return tokenizer\n",
    " \n",
    "def max_len(lines):\n",
    "    # max sentence length\n",
    "    return max(len(line.split()) for line in lines)\n",
    "\n",
    "def encode_sequences(tokenizer, length, lines):\n",
    "    # encode and pad sequences\n",
    "    X = tokenizer.texts_to_sequences(lines) # integer encode sequences\n",
    "    X = pad_sequences(X, maxlen=length, padding='post') # pad sequences with 0 values\n",
    "    return X\n",
    " \n",
    "def encode_output(sequences, vocab_size):\n",
    "    # one hot encode target sequence\n",
    "    ylist = list()\n",
    "    for sequence in sequences:\n",
    "        encoded = to_categorical(sequence, num_classes=vocab_size)\n",
    "        ylist.append(encoded)\n",
    "    y = np.array(ylist)\n",
    "    y = y.reshape(sequences.shape[0], sequences.shape[1], vocab_size)\n",
    "    return y\n",
    " \n",
    "# Prepare target tokenizer\n",
    "tar_tokenizer = create_tokenizer(dataset[:, idx_tar])\n",
    "tar_vocab_size = len(tar_tokenizer.word_index) + 1\n",
    "tar_length = 15 #max_len(dataset[:, idx_tar])\n",
    "printmd(f'\\nTarget ({target_str}) Vocabulary Size: {tar_vocab_size}')\n",
    "printmd(f'Target ({target_str}) Max Length: {tar_length}')\n",
    "\n",
    "# Prepare source tokenizer\n",
    "src_tokenizer = create_tokenizer(dataset[:, idx_src])\n",
    "src_vocab_size = len(src_tokenizer.word_index) + 1\n",
    "src_length = 15 #max_len(dataset[:, idx_src])\n",
    "printmd(f'\\nSource ({source_str}) Vocabulary Size: {src_vocab_size}')\n",
    "printmd(f'Source ({source_str}) Max Length: {src_length}\\n')\n",
    " \n",
    "# Prepare training data\n",
    "trainX = encode_sequences(src_tokenizer, src_length, train[:, idx_src])\n",
    "trainY = encode_sequences(tar_tokenizer, tar_length, train[:, idx_tar])\n",
    "trainY = encode_output(trainY, tar_vocab_size)\n",
    "\n",
    "# Prepare test data\n",
    "testX = encode_sequences(src_tokenizer, src_length, test[:, idx_src])\n",
    "testY = encode_sequences(tar_tokenizer, tar_length, test[:, idx_tar])\n",
    "testY = encode_output(testY, tar_vocab_size)"
   ]
  },
  {
   "cell_type": "code",
   "execution_count": 22,
   "metadata": {},
   "outputs": [
    {
     "name": "stdout",
     "output_type": "stream",
     "text": [
      "Epoch 1/200\n"
     ]
    },
    {
     "name": "stderr",
     "output_type": "stream",
     "text": [
      "2023-01-08 19:22:33.218245: W tensorflow/core/platform/profile_utils/cpu_utils.cc:128] Failed to get CPU frequency: 0 Hz\n"
     ]
    },
    {
     "name": "stdout",
     "output_type": "stream",
     "text": [
      "127/127 [==============================] - 14s 98ms/step - loss: 2.5344 - val_loss: 1.7835\n",
      "Epoch 2/200\n",
      "127/127 [==============================] - 11s 85ms/step - loss: 1.6920 - val_loss: 1.6846\n",
      "Epoch 3/200\n",
      "127/127 [==============================] - 11s 87ms/step - loss: 1.6249 - val_loss: 1.6444\n",
      "Epoch 4/200\n",
      "127/127 [==============================] - 11s 89ms/step - loss: 1.5627 - val_loss: 1.5874\n",
      "Epoch 5/200\n",
      "127/127 [==============================] - 11s 84ms/step - loss: 1.5308 - val_loss: 1.5618\n",
      "Epoch 6/200\n",
      "127/127 [==============================] - 11s 86ms/step - loss: 1.4945 - val_loss: 1.5295\n",
      "Epoch 7/200\n",
      "127/127 [==============================] - 11s 85ms/step - loss: 1.4700 - val_loss: 1.4997\n",
      "Epoch 8/200\n",
      "127/127 [==============================] - 11s 88ms/step - loss: 1.4209 - val_loss: 1.4503\n",
      "Epoch 9/200\n",
      "127/127 [==============================] - 11s 85ms/step - loss: 1.3624 - val_loss: 1.4160\n",
      "Epoch 10/200\n",
      "127/127 [==============================] - 11s 86ms/step - loss: 1.3159 - val_loss: 1.3685\n",
      "Epoch 11/200\n",
      "127/127 [==============================] - 11s 86ms/step - loss: 1.2620 - val_loss: 1.3209\n",
      "Epoch 12/200\n",
      "127/127 [==============================] - 11s 86ms/step - loss: 1.2087 - val_loss: 1.2825\n",
      "Epoch 13/200\n",
      "127/127 [==============================] - 11s 87ms/step - loss: 1.1590 - val_loss: 1.2440\n",
      "Epoch 14/200\n",
      "127/127 [==============================] - 11s 88ms/step - loss: 1.1089 - val_loss: 1.2075\n",
      "Epoch 15/200\n",
      "127/127 [==============================] - 11s 87ms/step - loss: 1.0623 - val_loss: 1.1703\n",
      "Epoch 16/200\n",
      "127/127 [==============================] - 11s 88ms/step - loss: 1.0121 - val_loss: 1.1357\n",
      "Epoch 17/200\n",
      "127/127 [==============================] - 11s 89ms/step - loss: 0.9659 - val_loss: 1.0949\n",
      "Epoch 18/200\n",
      "127/127 [==============================] - 11s 90ms/step - loss: 0.9176 - val_loss: 1.0642\n",
      "Epoch 19/200\n",
      "127/127 [==============================] - 11s 89ms/step - loss: 0.8721 - val_loss: 1.0262\n",
      "Epoch 20/200\n",
      "127/127 [==============================] - 12s 92ms/step - loss: 0.8306 - val_loss: 0.9986\n",
      "Epoch 21/200\n",
      "127/127 [==============================] - 12s 92ms/step - loss: 0.7849 - val_loss: 0.9572\n",
      "Epoch 22/200\n",
      "127/127 [==============================] - 12s 93ms/step - loss: 0.7473 - val_loss: 0.9336\n",
      "Epoch 23/200\n",
      "127/127 [==============================] - 12s 93ms/step - loss: 0.7114 - val_loss: 0.9142\n",
      "Epoch 24/200\n",
      "127/127 [==============================] - 12s 93ms/step - loss: 0.6769 - val_loss: 0.8792\n",
      "Epoch 25/200\n",
      "127/127 [==============================] - 12s 92ms/step - loss: 0.6418 - val_loss: 0.8603\n",
      "Epoch 26/200\n",
      "127/127 [==============================] - 12s 91ms/step - loss: 0.6090 - val_loss: 0.8347\n",
      "Epoch 27/200\n",
      "127/127 [==============================] - 12s 91ms/step - loss: 0.5786 - val_loss: 0.8103\n",
      "Epoch 28/200\n",
      "127/127 [==============================] - 12s 96ms/step - loss: 0.5524 - val_loss: 0.7870\n",
      "Epoch 29/200\n",
      "127/127 [==============================] - 12s 93ms/step - loss: 0.5235 - val_loss: 0.7653\n",
      "Epoch 30/200\n",
      "127/127 [==============================] - 12s 94ms/step - loss: 0.5025 - val_loss: 0.7617\n",
      "Epoch 31/200\n",
      "127/127 [==============================] - 12s 91ms/step - loss: 0.4804 - val_loss: 0.7505\n",
      "Epoch 32/200\n",
      "127/127 [==============================] - 12s 95ms/step - loss: 0.4594 - val_loss: 0.7278\n",
      "Epoch 33/200\n",
      "127/127 [==============================] - 12s 93ms/step - loss: 0.4379 - val_loss: 0.7120\n",
      "Epoch 34/200\n",
      "127/127 [==============================] - 12s 96ms/step - loss: 0.4219 - val_loss: 0.7050\n",
      "Epoch 35/200\n",
      "127/127 [==============================] - 12s 93ms/step - loss: 0.4051 - val_loss: 0.6847\n",
      "Epoch 36/200\n",
      "127/127 [==============================] - 12s 93ms/step - loss: 0.3869 - val_loss: 0.6726\n",
      "Epoch 37/200\n",
      "127/127 [==============================] - 12s 96ms/step - loss: 0.3807 - val_loss: 0.6820\n",
      "Epoch 38/200\n",
      "127/127 [==============================] - 12s 96ms/step - loss: 0.3623 - val_loss: 0.6601\n",
      "Epoch 39/200\n",
      "127/127 [==============================] - 12s 97ms/step - loss: 0.3469 - val_loss: 0.6699\n",
      "Epoch 40/200\n",
      "127/127 [==============================] - 12s 93ms/step - loss: 0.3387 - val_loss: 0.6531\n",
      "Epoch 41/200\n",
      "127/127 [==============================] - 12s 94ms/step - loss: 0.3239 - val_loss: 0.6398\n",
      "Epoch 42/200\n",
      "127/127 [==============================] - 12s 93ms/step - loss: 0.3106 - val_loss: 0.6390\n",
      "Epoch 43/200\n",
      "127/127 [==============================] - 11s 90ms/step - loss: 0.3045 - val_loss: 0.6339\n",
      "Epoch 44/200\n",
      "127/127 [==============================] - 11s 90ms/step - loss: 0.2932 - val_loss: 0.6244\n",
      "Epoch 45/200\n",
      "127/127 [==============================] - 11s 90ms/step - loss: 0.2843 - val_loss: 0.6256\n",
      "Epoch 46/200\n",
      "127/127 [==============================] - 12s 91ms/step - loss: 0.2805 - val_loss: 0.6244\n",
      "Epoch 47/200\n",
      "127/127 [==============================] - 12s 97ms/step - loss: 0.2786 - val_loss: 0.6331\n",
      "Epoch 48/200\n",
      "127/127 [==============================] - 12s 94ms/step - loss: 0.2681 - val_loss: 0.6149\n",
      "Epoch 49/200\n",
      "127/127 [==============================] - 12s 91ms/step - loss: 0.2532 - val_loss: 0.6068\n",
      "Epoch 50/200\n",
      "127/127 [==============================] - 13s 99ms/step - loss: 0.2477 - val_loss: 0.6049\n",
      "Epoch 51/200\n",
      "127/127 [==============================] - 12s 93ms/step - loss: 0.2435 - val_loss: 0.6098\n",
      "Epoch 52/200\n",
      "127/127 [==============================] - 12s 93ms/step - loss: 0.2353 - val_loss: 0.6010\n",
      "Epoch 53/200\n",
      "127/127 [==============================] - 12s 94ms/step - loss: 0.2290 - val_loss: 0.5994\n",
      "Epoch 54/200\n",
      "127/127 [==============================] - 12s 98ms/step - loss: 0.2265 - val_loss: 0.5929\n",
      "Epoch 55/200\n",
      "127/127 [==============================] - 12s 96ms/step - loss: 0.2216 - val_loss: 0.6026\n",
      "Epoch 56/200\n",
      "127/127 [==============================] - 12s 95ms/step - loss: 0.2285 - val_loss: 0.5946\n",
      "Epoch 57/200\n",
      "127/127 [==============================] - 12s 92ms/step - loss: 0.2125 - val_loss: 0.5973\n",
      "Epoch 58/200\n",
      "127/127 [==============================] - 12s 92ms/step - loss: 0.2052 - val_loss: 0.5944\n",
      "Epoch 59/200\n",
      "127/127 [==============================] - 12s 93ms/step - loss: 0.2012 - val_loss: 0.5968\n",
      "Epoch 60/200\n",
      "127/127 [==============================] - 12s 94ms/step - loss: 0.2008 - val_loss: 0.5957\n",
      "Epoch 61/200\n",
      "127/127 [==============================] - 12s 92ms/step - loss: 0.1967 - val_loss: 0.5909\n",
      "Epoch 62/200\n",
      "127/127 [==============================] - 12s 92ms/step - loss: 0.1943 - val_loss: 0.5911\n",
      "Epoch 63/200\n",
      "127/127 [==============================] - 12s 95ms/step - loss: 0.1900 - val_loss: 0.5819\n",
      "Epoch 64/200\n",
      "127/127 [==============================] - 12s 96ms/step - loss: 0.1867 - val_loss: 0.5886\n",
      "Epoch 65/200\n",
      "127/127 [==============================] - 12s 92ms/step - loss: 0.1875 - val_loss: 0.5962\n",
      "Epoch 66/200\n",
      "127/127 [==============================] - 12s 94ms/step - loss: 0.1858 - val_loss: 0.5867\n",
      "Epoch 67/200\n",
      "127/127 [==============================] - 12s 92ms/step - loss: 0.1775 - val_loss: 0.6004\n",
      "Epoch 68/200\n",
      "127/127 [==============================] - 12s 93ms/step - loss: 0.1736 - val_loss: 0.5891\n",
      "Epoch 69/200\n",
      "127/127 [==============================] - 12s 92ms/step - loss: 0.1725 - val_loss: 0.5861\n",
      "Epoch 70/200\n",
      "127/127 [==============================] - 12s 93ms/step - loss: 0.1685 - val_loss: 0.5835\n",
      "Epoch 71/200\n",
      "127/127 [==============================] - 12s 94ms/step - loss: 0.1654 - val_loss: 0.5839\n",
      "Epoch 72/200\n",
      "127/127 [==============================] - 12s 94ms/step - loss: 0.1641 - val_loss: 0.5924\n",
      "Epoch 73/200\n",
      "127/127 [==============================] - 12s 95ms/step - loss: 0.1640 - val_loss: 0.5910\n"
     ]
    }
   ],
   "source": [
    "def create_model(src_vocab, tar_vocab, src_timesteps, tar_timesteps, n_units):\n",
    "    # Create the model\n",
    "    model = Sequential()\n",
    "    model.add(Embedding(src_vocab, n_units, input_length=src_timesteps, mask_zero=True))\n",
    "    model.add(LSTM(n_units))\n",
    "    model.add(RepeatVector(tar_timesteps))\n",
    "    model.add(LSTM(n_units, return_sequences=True))\n",
    "    model.add(TimeDistributed(Dense(tar_vocab, activation='softmax')))\n",
    "    return model\n",
    " \n",
    "# Create model\n",
    "model = create_model(src_vocab_size, tar_vocab_size, src_length, tar_length, 256)\n",
    "model.compile(optimizer='adam', loss='categorical_crossentropy')\n",
    "\n",
    "history = model.fit(trainX, \n",
    "          trainY, \n",
    "          epochs=200, \n",
    "          batch_size=64, \n",
    "          validation_split=0.1, \n",
    "          verbose=1,\n",
    "          callbacks=[\n",
    "                        EarlyStopping(\n",
    "                        monitor='val_loss',\n",
    "                        patience=10,\n",
    "                        restore_best_weights=True\n",
    "                    )\n",
    "            ])"
   ]
  },
  {
   "cell_type": "code",
   "execution_count": 23,
   "metadata": {},
   "outputs": [
    {
     "data": {
      "image/png": "[encoded data removed]",
      "text/plain": [
       "<Figure size 640x480 with 1 Axes>"
      ]
     },
     "metadata": {},
     "output_type": "display_data"
    }
   ],
   "source": [
    "pd.DataFrame(history.history).plot()\n",
    "plt.title(\"Loss\")\n",
    "plt.show()"
   ]
  },
  {
   "cell_type": "code",
   "execution_count": 24,
   "metadata": {},
   "outputs": [
    {
     "name": "stdout",
     "output_type": "stream",
     "text": [
      "### Result on the Training Set ###\n",
      "HINDI (SOURCE)                 ENGLISH (TARGET)          AUTOMATIC TRANSLATION IN ENGLISH\n",
      "\n",
      "mail                           डाक                       डाक\n",
      "redo                           दोहराएँ r                 दोहराएँ r\n",
      "view log…                      लॉग देखिए                 लॉग देखिए\n",
      "clock                          घड़ी                      घड़ी\n",
      "enable code completion         प्रोफाईलिंग पुन सेट करें  प्रोफाईलिंग पुन सेट करें\n",
      "consistency is key             संगतता ही कुंजी है        संगतता ही कुंजी है\n",
      "use revision tag               उपयोगः                    उपयोगः\n",
      "django project information     जैंगो परियोजना सूचना      जैंगो परियोजना सूचना\n",
      "install                        संस्थापित करें i          संस्थापित करें i\n",
      "s index in parent does not match child index अभिभावक में s सूची शिशु सूची सेमेल नहीं खाती अभिभावक में s सूची शिशु सूची सेमेल नहीं खाती\n",
      "add bookmark                   पुस्तकचिह्न जोड़ें        पुस्तकचिह्न जोड़ें\n",
      "general                        सामान्य                   सामान्य\n",
      "position                       स्थिति                    स्थितिः\n",
      "string                         स्ट्रिंग                  स्ट्रिंग\n",
      "blondes and brunettes          ब्लॉड और बर्नेट           ब्लॉड और बर्नेट\n",
      "install module                 संस्थापित करें मोड्यूल    संस्थापित करें करें\n",
      "plugin view                    प्लगइन दृश्य              प्लगइन दृश्य\n",
      "tasks                          कार्य                     कार्य\n",
      "patch style diff               शैली                      शैली\n",
      "enable all                     इनेबल                     सभी सक्षम करें\n",
      "pid                            pid                       पीआईडी\n",
      "\n",
      "\n",
      "### Result on the Test Set ###\n",
      "HINDI (SOURCE)                 ENGLISH (TARGET)          AUTOMATIC TRANSLATION IN ENGLISH\n",
      "\n",
      "the fill color of the highlight box हाइलाइट बक्से का भराई रंग हाइलाइट बक्से का भराई रंग\n",
      "document manager               दस्तावेज़ प्रबंधक         अंजूटा दस्तावेज मैनेजर\n",
      "icons only                     आइकन फाइलः                सिर्फ प्रतीक\n",
      "constants variables            स्थिरांकचर                स्थिरांकचर\n",
      "auto indent current line or selection based on indentation settings स्वतः हाशिया लकीर या पर   स्वतः हाशिया लकीर या पर\n",
      "unknown color                  अज्ञात रंग                अज्ञात रंग\n",
      "python module                  मोड्यूल                   मोड्यूल मोड्यूल\n",
      "redeal                         फिर बांटें                फिर बांटें\n",
      "completed unsuccessfully       सफलतापूर्वक पूर्ण         सफलतापूर्वक पूर्ण\n",
      "theme file name                प्रसंग फाइल नाम           प्रसंग फाइल नाम\n",
      "move a onto the ace of spades  हुकुम का इक्का            a को एक हुकुम का इक्का पर ले जाएँ\n",
      "select configuration           चुनें विन्यास             खोज का तरीका\n",
      "move a onto the three of clubs चिड़ी की तिक्की           a को एक चिड़ी की तिक्की पर ले जाएँ\n",
      "show cpu register contents     विषय वस्तु के चारों ओर के उठाव का प्रकार दायाँ पश्चात\n",
      "kill program                   प्रोग्राम चलाएँ           प्रोग्राम चलाएँ\n",
      "there are unfinished jobs please wait until they are finished इंतजार करें जबतक पूर्ण    इंतजार करें जबतक पूर्ण\n",
      "move a onto the nine of spades a को एक हुकुम का नहला पर ले जाएँ a को एक का का पर पर ले जाएँ\n",
      "update                         balsa head hi po balsa x अपडेट gedit gnome hi po gedit version अपडेट अद्यतन gnomeapplets gnome hi po gnomeapplets x अपडेट अद्यतन अद्यतन\n",
      "ap plication                   अनुप्रयोग                 अनुप्रयोग\n",
      "arguments                      आर्गुमेंट्सः              आर्गुमेंट्सः\n",
      "syncronize your local copy with the subversion tree स्थानीय कॉपी करें के साथ सबवर्सन ट्री स्थानीय कॉपी करें के साथ साथ ट्री\n"
     ]
    }
   ],
   "source": [
    "def word_for_id(integer, tokenizer):\n",
    "    # map an integer to a word\n",
    "    for word, index in tokenizer.word_index.items():\n",
    "        if index == integer:\n",
    "            return word\n",
    "    return None\n",
    " \n",
    "def predict_seq(model, tokenizer, source):\n",
    "    # generate target from a source sequence\n",
    "    prediction = model.predict(source, verbose=0)[0]\n",
    "    integers = [np.argmax(vector) for vector in prediction]\n",
    "    target = list()\n",
    "    for i in integers:\n",
    "        word = word_for_id(i, tokenizer)\n",
    "        if word is None:\n",
    "            break\n",
    "        target.append(word)\n",
    "    return ' '.join(target)\n",
    "\n",
    "def compare_prediction(model, tokenizer, sources, raw_dataset, limit=20):\n",
    "    # evaluate a model\n",
    "    actual, predicted = [], []\n",
    "    src = f'{source_str.upper()} (SOURCE)'\n",
    "    tgt = f'{target_str.upper()} (TARGET)'\n",
    "    pred = f'AUTOMATIC TRANSLATION IN {target_str.upper()}'\n",
    "    print(f'{src:30} {tgt:25} {pred}\\n')\n",
    "    \n",
    "    for i, source in enumerate(sources): # translate encoded source text\n",
    "        source = source.reshape((1, source.shape[0]))\n",
    "        translation = predict_seq(model, tar_tokenizer, source)\n",
    "        raw_target, raw_src = raw_dataset[i]\n",
    "        print(f'{raw_src:30} {raw_target:25} {translation}')\n",
    "        if i >= limit: # Display some of the result\n",
    "            break\n",
    " \n",
    "# test on some training sequences\n",
    "print('### Result on the Training Set ###')\n",
    "compare_prediction(model, tar_tokenizer, trainX, train)\n",
    "\n",
    "# test on some test sequences\n",
    "print('\\n\\n### Result on the Test Set ###')\n",
    "compare_prediction(model, tar_tokenizer, testX, test)"
   ]
  },
  {
   "cell_type": "code",
   "execution_count": null,
   "metadata": {},
   "outputs": [],
   "source": [
    "def bleu_score(model, tokenizer, sources, raw_dataset):\n",
    "    # Get the bleu score of a model\n",
    "    actual, predicted = [], []\n",
    "    for i, source in enumerate(sources):\n",
    "        # translate encoded source text\n",
    "        source = source.reshape((1, source.shape[0]))\n",
    "        translation = predict_seq(model, tar_tokenizer, source)\n",
    "        raw_target, raw_src = raw_dataset[i]\n",
    "        actual.append([raw_target.split()])\n",
    "        predicted.append(translation.split())\n",
    "        print(\"predicted \",translation.split())    \n",
    "    bleu_dic = {}\n",
    "    bleu_dic['1-grams'] = corpus_bleu(actual, predicted, weights=(1.0, 0, 0, 0))\n",
    "    bleu_dic['1-2-grams'] = corpus_bleu(actual, predicted, weights=(0.5, 0.5, 0, 0))\n",
    "    bleu_dic['1-3-grams'] = corpus_bleu(actual, predicted, weights=(0.3, 0.3, 0.3, 0))\n",
    "    bleu_dic['1-4-grams'] = corpus_bleu(actual, predicted, weights=(0.25, 0.25, 0.25, 0.25))\n",
    "    \n",
    "    return bleu_dic\n",
    "\n",
    "# Compute the BLEU Score\n",
    "# bleu_train = bleu_score(model, tar_tokenizer, trainX, train)\n",
    "bleu_test = bleu_score(model, tar_tokenizer, testX, test)"
   ]
  },
  {
   "cell_type": "code",
   "execution_count": 34,
   "metadata": {},
   "outputs": [
    {
     "data": {
      "image/png": "[encoded data removed]",
      "text/plain": [
       "<Figure size 640x480 with 1 Axes>"
      ]
     },
     "metadata": {},
     "output_type": "display_data"
    }
   ],
   "source": [
    "# plt.bar(x = bleu_train.keys(), height = bleu_train.values())\n",
    "# plt.title(\"BLEU Score with the training set\")\n",
    "# plt.ylim((0,1))\n",
    "# plt.show()"
   ]
  },
  {
   "cell_type": "code",
   "execution_count": 35,
   "metadata": {},
   "outputs": [
    {
     "data": {
      "image/png": "[encoded data removed]",
      "text/plain": [
       "<Figure size 640x480 with 1 Axes>"
      ]
     },
     "metadata": {},
     "output_type": "display_data"
    }
   ],
   "source": [
    "plt.bar(x = bleu_test.keys(), height = bleu_test.values())\n",
    "plt.title(\"BLEU Score with the test set\")\n",
    "plt.ylim((0,1))\n",
    "plt.show()"
   ]
  },
  {
   "cell_type": "code",
   "execution_count": null,
   "metadata": {},
   "outputs": [],
   "source": []
  }
 ],
 "metadata": {
  "kernelspec": {
   "display_name": "tears",
   "language": "python",
   "name": "tensorflow"
  },
  "language_info": {
   "codemirror_mode": {
    "name": "ipython",
    "version": 3
   },
   "file_extension": ".py",
   "mimetype": "text/x-python",
   "name": "python",
   "nbconvert_exporter": "python",
   "pygments_lexer": "ipython3",
   "version": "3.9.13"
  },
  "orig_nbformat": 4,
  "vscode": {
   "interpreter": {
    "hash": "231fa661f6864ef19e499bbd2782d03ff99f363f5ebfe416ba9cf7c065dc127b"
   }
  }
 },
 "nbformat": 4,
 "nbformat_minor": 2
}
