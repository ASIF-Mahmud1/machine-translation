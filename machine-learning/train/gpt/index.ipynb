{
 "cells": [
  {
   "cell_type": "code",
   "execution_count": null,
   "metadata": {},
   "outputs": [],
   "source": [
    "!pip install openai"
   ]
  },
  {
   "cell_type": "code",
   "execution_count": null,
   "metadata": {},
   "outputs": [],
   "source": [
    "import openai\n",
    "openai.api_key = \"\"\n",
    "\n",
    "def translate(sentence, target_language):\n",
    "    response = openai.Completion.create(\n",
    "        engine=\"text-davinci-002\",\n",
    "        prompt=f\"Translate the following text into {target_language}:\\n{sentence}\",\n",
    "        max_tokens=1024,\n",
    "        n=1,\n",
    "        stop=None,\n",
    "        temperature=0.5,\n",
    "    )\n",
    "\n",
    "    return response.choices[0].text.strip()\n",
    "\n",
    "input_sentences = [\n",
    "    \"मुझे भोजन बनाना अच्छा लगता है।\",\n",
    "    \"आज का मौसम बहुत अच्छा है।\",\n",
    "    \"वह मुझसे बात नहीं करता है।\",\n",
    "    # ... 997 more Hindi sentences\n",
    "]\n",
    "target_language = \"en\"  # target language code (e.g. \"en\" for English)\n",
    "\n",
    "output_sentences = []\n",
    "for sentence in input_sentences:\n",
    "    output_sentence = translate(sentence, target_language)\n",
    "    output_sentences.append(output_sentence)\n",
    "\n",
    "print(output_sentences)\n"
   ]
  },
  {
   "cell_type": "code",
   "execution_count": null,
   "metadata": {},
   "outputs": [],
   "source": []
  }
 ],
 "metadata": {
  "kernelspec": {
   "display_name": "Python 3 (ipykernel)",
   "language": "python",
   "name": "python3"
  },
  "language_info": {
   "codemirror_mode": {
    "name": "ipython",
    "version": 3
   },
   "file_extension": ".py",
   "mimetype": "text/x-python",
   "name": "python",
   "nbconvert_exporter": "python",
   "pygments_lexer": "ipython3",
   "version": "3.9.12"
  }
 },
 "nbformat": 4,
 "nbformat_minor": 2
}
