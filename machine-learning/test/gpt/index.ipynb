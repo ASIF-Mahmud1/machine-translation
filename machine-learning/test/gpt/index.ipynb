{
 "cells": [
  {
   "cell_type": "code",
   "execution_count": 1,
   "metadata": {
    "scrolled": true
   },
   "outputs": [
    {
     "name": "stdout",
     "output_type": "stream",
     "text": [
      "Available Themes: \r\n",
      "   chesterish\r\n",
      "   grade3\r\n",
      "   gruvboxd\r\n",
      "   gruvboxl\r\n",
      "   monokai\r\n",
      "   oceans16\r\n",
      "   onedork\r\n",
      "   solarizedd\r\n",
      "   solarizedl\r\n"
     ]
    }
   ],
   "source": [
    "!jt -l\n",
    "!jt -t grade3"
   ]
  },
  {
   "cell_type": "code",
   "execution_count": 2,
   "metadata": {},
   "outputs": [],
   "source": [
    "import os\n",
    "import sys\n",
    "import pandas as pd\n",
    "import numpy as np\n",
    "\n"
   ]
  },
  {
   "cell_type": "code",
   "execution_count": 3,
   "metadata": {},
   "outputs": [],
   "source": [
    "def handle_helper_functions():\n",
    "    sys.path.append('/Users/learn/Desktop/Projects/machine-translation/machine-learning/test/helper')                                       \n",
    "    sys.path.append('/Users/learn/Desktop/Projects/machine-translation/machine-learning/utils')\n",
    "    sys.path.append('/Users/learn/Desktop/Projects/machine-translation/machine-learning/data')\n",
    "    sys.path.append('/Users/learn/Desktop/Projects/machine-translation/machine-learning/visualization')\n",
    "\n",
    "handle_helper_functions()"
   ]
  },
  {
   "cell_type": "code",
   "execution_count": 4,
   "metadata": {},
   "outputs": [],
   "source": [
    "from bar_chart import plot_chart_for_all_metrics, plotBarChart"
   ]
  },
  {
   "cell_type": "code",
   "execution_count": 5,
   "metadata": {},
   "outputs": [],
   "source": [
    "def trim(analytics_table):\n",
    "    temp= analytics_table['gpt'].values\n",
    "    result = map(lambda x: x.strip(), temp) \n",
    "    new_value= np.array(list(result))\n",
    "    analytics_table['gpt']=new_value\n",
    "    return analytics_table"
   ]
  },
  {
   "cell_type": "code",
   "execution_count": 6,
   "metadata": {},
   "outputs": [],
   "source": [
    "import pandas as pd\n",
    "import os\n",
    "files= [\"1.csv\",\"2.csv\",\"3.csv\",\"4.csv\",\"5.csv\",\"6.csv\",]\n",
    "\n",
    "analytics_table = pd.concat(map(pd.read_csv, files))\n",
    "\n",
    "analytics_table =trim(analytics_table=analytics_table)\n"
   ]
  },
  {
   "cell_type": "code",
   "execution_count": 7,
   "metadata": {},
   "outputs": [
    {
     "data": {
      "text/plain": [
       "[['a', 'black', 'box', 'in', 'your', 'car']]"
      ]
     },
     "execution_count": 7,
     "metadata": {},
     "output_type": "execute_result"
    }
   ],
   "source": [
    "acutal = map(lambda x: [x.split()],  analytics_table['eng'].values  ) \n",
    "acutal=list(acutal)\n",
    "acutal[0]\n",
    "\n"
   ]
  },
  {
   "cell_type": "code",
   "execution_count": 8,
   "metadata": {},
   "outputs": [
    {
     "data": {
      "text/plain": [
       "['You', 'can', 'type', 'a', 'letter', 'in', 'the', 'box', 'below.']"
      ]
     },
     "execution_count": 8,
     "metadata": {},
     "output_type": "execute_result"
    }
   ],
   "source": [
    "predicted_1= ((analytics_table['gpt'].values)[0]).split()\n",
    "predicted_1= (\"a black box in the car\").split()\n",
    "predicted=[predicted_1]\n",
    "predicted = map(lambda x: x.split(),  analytics_table['gpt'].values  ) \n",
    "predicted=list(predicted)\n",
    "predicted[0]"
   ]
  },
  {
   "cell_type": "code",
   "execution_count": 9,
   "metadata": {},
   "outputs": [
    {
     "name": "stderr",
     "output_type": "stream",
     "text": [
      "/Users/learn/Desktop/Projects/machine-translation/machine-learning/.env/lib/python3.9/site-packages/nltk/translate/bleu_score.py:552: UserWarning: \n",
      "The hypothesis contains 0 counts of 4-gram overlaps.\n",
      "Therefore the BLEU score evaluates to 0, independently of\n",
      "how many N-gram overlaps of lower order it contains.\n",
      "Consider using lower n-gram order or use SmoothingFunction()\n",
      "  warnings.warn(_msg)\n"
     ]
    },
    {
     "data": {
      "image/png": "[encoded data removed]",
      "text/plain": [
       "<Figure size 640x480 with 1 Axes>"
      ]
     },
     "metadata": {},
     "output_type": "display_data"
    }
   ],
   "source": [
    "\n",
    "import matplotlib.pyplot as plt\n",
    "from performance_metric import  bleu_score, calculate_ROUGE\n",
    "bleu_test=bleu_score(acutal, predicted)\n",
    "plt.bar(x = bleu_test.keys(), height = bleu_test.values())\n",
    "plt.title(\"BLEU Score with the test set\")\n",
    "plt.ylim((0,1))\n",
    "plt.show()"
   ]
  },
  {
   "cell_type": "code",
   "execution_count": 14,
   "metadata": {},
   "outputs": [
    {
     "data": {
      "text/plain": [
       "Unnamed: 0    780\n",
       "hindi         780\n",
       "eng           780\n",
       "gpt           780\n",
       "dtype: int64"
      ]
     },
     "execution_count": 14,
     "metadata": {},
     "output_type": "execute_result"
    }
   ],
   "source": [
    "analytics_table.count()"
   ]
  },
  {
   "cell_type": "code",
   "execution_count": null,
   "metadata": {},
   "outputs": [],
   "source": []
  },
  {
   "cell_type": "code",
   "execution_count": null,
   "metadata": {},
   "outputs": [],
   "source": []
  }
 ],
 "metadata": {
  "kernelspec": {
   "display_name": "Shakiri",
   "language": "python",
   "name": "shaq-o-neil"
  },
  "language_info": {
   "codemirror_mode": {
    "name": "ipython",
    "version": 3
   },
   "file_extension": ".py",
   "mimetype": "text/x-python",
   "name": "python",
   "nbconvert_exporter": "python",
   "pygments_lexer": "ipython3",
   "version": "3.9.13"
  },
  "vscode": {
   "interpreter": {
    "hash": "e352912fe3ad2ab8dbd713ee78512b0e9bd694ed8413d5c8469c5c1ca1a3d63d"
   }
  }
 },
 "nbformat": 4,
 "nbformat_minor": 2
}
