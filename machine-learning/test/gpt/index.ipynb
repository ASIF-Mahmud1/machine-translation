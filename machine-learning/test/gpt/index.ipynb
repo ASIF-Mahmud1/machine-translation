{
 "cells": [
  {
   "cell_type": "code",
   "execution_count": 10,
   "metadata": {
    "scrolled": true
   },
   "outputs": [
    {
     "name": "stdout",
     "output_type": "stream",
     "text": [
      "Available Themes: \r\n",
      "   chesterish\r\n",
      "   grade3\r\n",
      "   gruvboxd\r\n",
      "   gruvboxl\r\n",
      "   monokai\r\n",
      "   oceans16\r\n",
      "   onedork\r\n",
      "   solarizedd\r\n",
      "   solarizedl\r\n"
     ]
    }
   ],
   "source": [
    "!jt -l\n",
    "!jt -t grade3"
   ]
  },
  {
   "cell_type": "code",
   "execution_count": 11,
   "metadata": {},
   "outputs": [],
   "source": [
    "import os\n",
    "import sys\n",
    "import pandas as pd\n",
    "import numpy as np\n",
    "\n"
   ]
  },
  {
   "cell_type": "code",
   "execution_count": 12,
   "metadata": {},
   "outputs": [],
   "source": [
    "def handle_helper_functions():\n",
    "    sys.path.append('/Users/learn/Desktop/Projects/machine-translation/machine-learning/test/helper')                                       \n",
    "    sys.path.append('/Users/learn/Desktop/Projects/machine-translation/machine-learning/utils')\n",
    "    sys.path.append('/Users/learn/Desktop/Projects/machine-translation/machine-learning/data')\n",
    "    sys.path.append('/Users/learn/Desktop/Projects/machine-translation/machine-learning/visualization')\n",
    "\n",
    "handle_helper_functions()"
   ]
  },
  {
   "cell_type": "code",
   "execution_count": 13,
   "metadata": {},
   "outputs": [],
   "source": [
    "from bar_chart import plot_chart_for_all_metrics, plotBarChart"
   ]
  },
  {
   "cell_type": "code",
   "execution_count": 14,
   "metadata": {},
   "outputs": [],
   "source": [
    "def trim(analytics_table):\n",
    "    temp= analytics_table['gpt'].values\n",
    "    result = map(lambda x: x.strip(), temp) \n",
    "    new_value= np.array(list(result))\n",
    "    analytics_table['gpt']=new_value\n",
    "    return analytics_table"
   ]
  },
  {
   "cell_type": "code",
   "execution_count": 15,
   "metadata": {},
   "outputs": [],
   "source": [
    "import pandas as pd\n",
    "import os\n",
    "files= ['1-text-davinci-003.csv']\n",
    "\n",
    "analytics_table = pd.concat(map(pd.read_csv, files))\n",
    "\n",
    "analytics_table =trim(analytics_table=analytics_table)\n",
    "total_sentences= (analytics_table.count())[0]"
   ]
  },
  {
   "cell_type": "code",
   "execution_count": 46,
   "metadata": {},
   "outputs": [
    {
     "data": {
      "text/plain": [
       "[['a', 'black', 'box', 'in', 'your', 'car']]"
      ]
     },
     "execution_count": 46,
     "metadata": {},
     "output_type": "execute_result"
    }
   ],
   "source": [
    "acutal = map(lambda x: [x.lower().split()],  analytics_table['eng'].values  ) \n",
    "acutal=list(acutal)\n",
    "acutal[0]\n",
    "\n"
   ]
  },
  {
   "cell_type": "code",
   "execution_count": 47,
   "metadata": {},
   "outputs": [
    {
     "data": {
      "text/html": [
       "<div>\n",
       "<style scoped>\n",
       "    .dataframe tbody tr th:only-of-type {\n",
       "        vertical-align: middle;\n",
       "    }\n",
       "\n",
       "    .dataframe tbody tr th {\n",
       "        vertical-align: top;\n",
       "    }\n",
       "\n",
       "    .dataframe thead th {\n",
       "        text-align: right;\n",
       "    }\n",
       "</style>\n",
       "<table border=\"1\" class=\"dataframe\">\n",
       "  <thead>\n",
       "    <tr style=\"text-align: right;\">\n",
       "      <th></th>\n",
       "      <th>Unnamed: 0</th>\n",
       "      <th>hindi</th>\n",
       "      <th>eng</th>\n",
       "      <th>gpt</th>\n",
       "    </tr>\n",
       "  </thead>\n",
       "  <tbody>\n",
       "    <tr>\n",
       "      <th>0</th>\n",
       "      <td>0</td>\n",
       "      <td>आपकी कार में ब्लैक बॉक्स</td>\n",
       "      <td>a black box in your car</td>\n",
       "      <td>Black box in your car</td>\n",
       "    </tr>\n",
       "    <tr>\n",
       "      <th>1</th>\n",
       "      <td>6</td>\n",
       "      <td>अमेरिकी नागरिक स्वतंत्रता संघ भी विभिन्न प्रका...</td>\n",
       "      <td>the american civil liberties union is deeply c...</td>\n",
       "      <td>The American Civil Liberties Union is also ver...</td>\n",
       "    </tr>\n",
       "    <tr>\n",
       "      <th>2</th>\n",
       "      <td>10</td>\n",
       "      <td>यह हमारे देश के लिए वास्तव में अनिवार्य वस्तु है।</td>\n",
       "      <td>this really is a must for our nation</td>\n",
       "      <td>This is truly an essential item for our country.</td>\n",
       "    </tr>\n",
       "    <tr>\n",
       "      <th>3</th>\n",
       "      <td>12</td>\n",
       "      <td>हमारे द्वारा कर भुगतान किए जाने के तरीके में प...</td>\n",
       "      <td>there is going to be a change in how we pay th...</td>\n",
       "      <td>The modes of payment made by us are undergoing...</td>\n",
       "    </tr>\n",
       "    <tr>\n",
       "      <th>4</th>\n",
       "      <td>13</td>\n",
       "      <td>ऐसा करने के लिए प्रौद्योगिकी है।</td>\n",
       "      <td>the technology is there to do it</td>\n",
       "      <td>It is technology to do that.</td>\n",
       "    </tr>\n",
       "    <tr>\n",
       "      <th>...</th>\n",
       "      <td>...</td>\n",
       "      <td>...</td>\n",
       "      <td>...</td>\n",
       "      <td>...</td>\n",
       "    </tr>\n",
       "    <tr>\n",
       "      <th>295</th>\n",
       "      <td>1001</td>\n",
       "      <td>सुबह में लोग धूप का आनंद लेते भी नजर आए।</td>\n",
       "      <td>people were seen enjoying the sunshine in the ...</td>\n",
       "      <td>In the morning people also enjoy the warmth of...</td>\n",
       "    </tr>\n",
       "    <tr>\n",
       "      <th>296</th>\n",
       "      <td>1003</td>\n",
       "      <td>बच्चे भी स्वेटर पहन कर अपने स्कूल पहुंचे।</td>\n",
       "      <td>the children also went to school wearing sweaters</td>\n",
       "      <td>The children also wore sweaters to go to their...</td>\n",
       "    </tr>\n",
       "    <tr>\n",
       "      <th>297</th>\n",
       "      <td>1005</td>\n",
       "      <td>जबकि 78 मिलीमीटर बारिश दर्ज की गई।</td>\n",
       "      <td>78 millimetres of rainfall was recorded</td>\n",
       "      <td>While 78 millimeters of rain was recorded.</td>\n",
       "    </tr>\n",
       "    <tr>\n",
       "      <th>298</th>\n",
       "      <td>1006</td>\n",
       "      <td>मौसम विभाग के अनुसार आगे भी आसमान पर बादल छाए ...</td>\n",
       "      <td>according to the weather department the skies ...</td>\n",
       "      <td>According to the Meteorological Department, cl...</td>\n",
       "    </tr>\n",
       "    <tr>\n",
       "      <th>299</th>\n",
       "      <td>1007</td>\n",
       "      <td>सीट चौड़ाई के लिए विवाद से जेट निर्माताओं के ब...</td>\n",
       "      <td>jet makers feud over seat width with big order...</td>\n",
       "      <td>The big orders of jet manufacturers are at sta...</td>\n",
       "    </tr>\n",
       "  </tbody>\n",
       "</table>\n",
       "<p>300 rows × 4 columns</p>\n",
       "</div>"
      ],
      "text/plain": [
       "     Unnamed: 0                                              hindi  \\\n",
       "0             0                           आपकी कार में ब्लैक बॉक्स   \n",
       "1             6  अमेरिकी नागरिक स्वतंत्रता संघ भी विभिन्न प्रका...   \n",
       "2            10  यह हमारे देश के लिए वास्तव में अनिवार्य वस्तु है।   \n",
       "3            12  हमारे द्वारा कर भुगतान किए जाने के तरीके में प...   \n",
       "4            13                   ऐसा करने के लिए प्रौद्योगिकी है।   \n",
       "..          ...                                                ...   \n",
       "295        1001           सुबह में लोग धूप का आनंद लेते भी नजर आए।   \n",
       "296        1003          बच्चे भी स्वेटर पहन कर अपने स्कूल पहुंचे।   \n",
       "297        1005                 जबकि 78 मिलीमीटर बारिश दर्ज की गई।   \n",
       "298        1006  मौसम विभाग के अनुसार आगे भी आसमान पर बादल छाए ...   \n",
       "299        1007  सीट चौड़ाई के लिए विवाद से जेट निर्माताओं के ब...   \n",
       "\n",
       "                                                   eng  \\\n",
       "0                              a black box in your car   \n",
       "1    the american civil liberties union is deeply c...   \n",
       "2                 this really is a must for our nation   \n",
       "3    there is going to be a change in how we pay th...   \n",
       "4                     the technology is there to do it   \n",
       "..                                                 ...   \n",
       "295  people were seen enjoying the sunshine in the ...   \n",
       "296  the children also went to school wearing sweaters   \n",
       "297            78 millimetres of rainfall was recorded   \n",
       "298  according to the weather department the skies ...   \n",
       "299  jet makers feud over seat width with big order...   \n",
       "\n",
       "                                                   gpt  \n",
       "0                                Black box in your car  \n",
       "1    The American Civil Liberties Union is also ver...  \n",
       "2     This is truly an essential item for our country.  \n",
       "3    The modes of payment made by us are undergoing...  \n",
       "4                         It is technology to do that.  \n",
       "..                                                 ...  \n",
       "295  In the morning people also enjoy the warmth of...  \n",
       "296  The children also wore sweaters to go to their...  \n",
       "297         While 78 millimeters of rain was recorded.  \n",
       "298  According to the Meteorological Department, cl...  \n",
       "299  The big orders of jet manufacturers are at sta...  \n",
       "\n",
       "[300 rows x 4 columns]"
      ]
     },
     "execution_count": 47,
     "metadata": {},
     "output_type": "execute_result"
    }
   ],
   "source": [
    "analytics_table"
   ]
  },
  {
   "cell_type": "code",
   "execution_count": 48,
   "metadata": {},
   "outputs": [
    {
     "data": {
      "text/plain": [
       "['black', 'box', 'in', 'your', 'car']"
      ]
     },
     "execution_count": 48,
     "metadata": {},
     "output_type": "execute_result"
    }
   ],
   "source": [
    "# predicted_1= ((analytics_table['gpt'].values)[0]).split()\n",
    "# predicted_1= (\"a black box in the car\").split()\n",
    "# predicted=[predicted_1]\n",
    "predicted = map(lambda x: x.lower().split(),  analytics_table['gpt'].values  ) \n",
    "predicted=list(predicted)\n",
    "predicted[0]"
   ]
  },
  {
   "cell_type": "code",
   "execution_count": 49,
   "metadata": {},
   "outputs": [
    {
     "data": {
      "image/png": "[encoded data removed]",
      "text/plain": [
       "<Figure size 640x480 with 1 Axes>"
      ]
     },
     "metadata": {},
     "output_type": "display_data"
    }
   ],
   "source": [
    "\n",
    "import matplotlib.pyplot as plt\n",
    "plt.figure(facecolor='grey')\n",
    "\n",
    "ax = plt.axes()\n",
    "ax.set_facecolor(\"black\")\n",
    "from performance_metric import  bleu_score, calculate_ROUGE,get_cosine_val\n",
    "\n",
    "bleu_test=bleu_score(acutal, predicted)\n",
    "plt.bar(x = bleu_test.keys(), height = bleu_test.values())\n",
    "plt.title(\"BLEU Score with the test set\")\n",
    "plt.ylim((0,1))\n",
    "plt.show()"
   ]
  },
  {
   "cell_type": "code",
   "execution_count": 50,
   "metadata": {},
   "outputs": [
    {
     "data": {
      "text/plain": [
       "Unnamed: 0    300\n",
       "hindi         300\n",
       "eng           300\n",
       "gpt           300\n",
       "dtype: int64"
      ]
     },
     "execution_count": 50,
     "metadata": {},
     "output_type": "execute_result"
    }
   ],
   "source": [
    "analytics_table.count()"
   ]
  },
  {
   "cell_type": "code",
   "execution_count": 55,
   "metadata": {},
   "outputs": [
    {
     "data": {
      "image/png": "[encoded data removed]",
      "text/plain": [
       "<Figure size 640x480 with 1 Axes>"
      ]
     },
     "metadata": {},
     "output_type": "display_data"
    }
   ],
   "source": [
    "actual_rouge = map(lambda x: x.lower().split(),  analytics_table['eng'].values  ) \n",
    "actual_rouge=list(actual_rouge)\n",
    "actual_rouge[0]\n",
    "rouge_test = calculate_ROUGE(actual=actual_rouge, predicted=predicted)\n",
    "rouge_test\n",
    "plt.figure(facecolor='grey')\n",
    "ax = plt.axes()\n",
    "ax.set_facecolor(\"black\")\n",
    "plt.bar(x = rouge_test.keys(), height = rouge_test.values())\n",
    "plt.title(\"ROUGE Score with the test set\")\n",
    "plt.ylim((0,1))\n",
    "plt.show()"
   ]
  },
  {
   "cell_type": "code",
   "execution_count": 57,
   "metadata": {},
   "outputs": [
    {
     "data": {
      "image/png": "[encoded data removed]",
      "text/plain": [
       "<Figure size 640x480 with 1 Axes>"
      ]
     },
     "metadata": {},
     "output_type": "display_data"
    }
   ],
   "source": [
    "from statistics import mean\n",
    "\n",
    "translation= (analytics_table['gpt'].values)[0]\n",
    "raw_target= (analytics_table['eng'].values)[0]\n",
    "cosine_value_list= []\n",
    "for reference, candidate in zip(analytics_table['eng'], analytics_table['gpt']):\n",
    "    cosine_value= get_cosine_val (translation,raw_target )\n",
    "    cosine_value_list.append(cosine_value)\n",
    "   \n",
    "average_cosine= mean(cosine_value_list)\n",
    "\n",
    "plt.figure(facecolor='grey')\n",
    "ax = plt.axes()\n",
    "ax.set_facecolor(\"black\")\n",
    "plt.bar(x = \"cosine_average\", height = average_cosine)\n",
    "plt.title(\"Cosine Score with the test set\")\n",
    "plt.ylim((0,1))\n",
    "plt.show()\n"
   ]
  },
  {
   "cell_type": "code",
   "execution_count": 58,
   "metadata": {
    "scrolled": true
   },
   "outputs": [
    {
     "data": {
      "image/png": "[encoded data removed]",
      "text/plain": [
       "<Figure size 1500x1000 with 1 Axes>"
      ]
     },
     "metadata": {},
     "output_type": "display_data"
    }
   ],
   "source": [
    "import matplotlib.pyplot as plot\n",
    "from matplotlib.ticker import ScalarFormatter\n",
    "\n",
    "#,figsize=(10,15)\n",
    "keys=[\"Dataset Size\", *rouge_test.keys(), \"cosine_similarity\", *bleu_test.keys()]\n",
    "values=[total_sentences,  *rouge_test.values(), average_cosine, *bleu_test.values() ]\n",
    "table =pd.DataFrame(columns=keys, data=[values])\n",
    "table.plot.bar(x=\"Dataset Size\",figsize=(15,10))\n",
    "plot.show(block=True)\n"
   ]
  },
  {
   "cell_type": "code",
   "execution_count": 59,
   "metadata": {},
   "outputs": [
    {
     "data": {
      "text/html": [
       "<div>\n",
       "<style scoped>\n",
       "    .dataframe tbody tr th:only-of-type {\n",
       "        vertical-align: middle;\n",
       "    }\n",
       "\n",
       "    .dataframe tbody tr th {\n",
       "        vertical-align: top;\n",
       "    }\n",
       "\n",
       "    .dataframe thead th {\n",
       "        text-align: right;\n",
       "    }\n",
       "</style>\n",
       "<table border=\"1\" class=\"dataframe\">\n",
       "  <thead>\n",
       "    <tr style=\"text-align: right;\">\n",
       "      <th></th>\n",
       "      <th>Unnamed: 0</th>\n",
       "      <th>hindi</th>\n",
       "      <th>eng</th>\n",
       "      <th>gpt</th>\n",
       "    </tr>\n",
       "  </thead>\n",
       "  <tbody>\n",
       "    <tr>\n",
       "      <th>0</th>\n",
       "      <td>0</td>\n",
       "      <td>आपकी कार में ब्लैक बॉक्स</td>\n",
       "      <td>a black box in your car</td>\n",
       "      <td>Black box in your car</td>\n",
       "    </tr>\n",
       "    <tr>\n",
       "      <th>1</th>\n",
       "      <td>6</td>\n",
       "      <td>अमेरिकी नागरिक स्वतंत्रता संघ भी विभिन्न प्रका...</td>\n",
       "      <td>the american civil liberties union is deeply c...</td>\n",
       "      <td>The American Civil Liberties Union is also ver...</td>\n",
       "    </tr>\n",
       "    <tr>\n",
       "      <th>2</th>\n",
       "      <td>10</td>\n",
       "      <td>यह हमारे देश के लिए वास्तव में अनिवार्य वस्तु है।</td>\n",
       "      <td>this really is a must for our nation</td>\n",
       "      <td>This is truly an essential item for our country.</td>\n",
       "    </tr>\n",
       "    <tr>\n",
       "      <th>3</th>\n",
       "      <td>12</td>\n",
       "      <td>हमारे द्वारा कर भुगतान किए जाने के तरीके में प...</td>\n",
       "      <td>there is going to be a change in how we pay th...</td>\n",
       "      <td>The modes of payment made by us are undergoing...</td>\n",
       "    </tr>\n",
       "    <tr>\n",
       "      <th>4</th>\n",
       "      <td>13</td>\n",
       "      <td>ऐसा करने के लिए प्रौद्योगिकी है।</td>\n",
       "      <td>the technology is there to do it</td>\n",
       "      <td>It is technology to do that.</td>\n",
       "    </tr>\n",
       "    <tr>\n",
       "      <th>...</th>\n",
       "      <td>...</td>\n",
       "      <td>...</td>\n",
       "      <td>...</td>\n",
       "      <td>...</td>\n",
       "    </tr>\n",
       "    <tr>\n",
       "      <th>295</th>\n",
       "      <td>1001</td>\n",
       "      <td>सुबह में लोग धूप का आनंद लेते भी नजर आए।</td>\n",
       "      <td>people were seen enjoying the sunshine in the ...</td>\n",
       "      <td>In the morning people also enjoy the warmth of...</td>\n",
       "    </tr>\n",
       "    <tr>\n",
       "      <th>296</th>\n",
       "      <td>1003</td>\n",
       "      <td>बच्चे भी स्वेटर पहन कर अपने स्कूल पहुंचे।</td>\n",
       "      <td>the children also went to school wearing sweaters</td>\n",
       "      <td>The children also wore sweaters to go to their...</td>\n",
       "    </tr>\n",
       "    <tr>\n",
       "      <th>297</th>\n",
       "      <td>1005</td>\n",
       "      <td>जबकि 78 मिलीमीटर बारिश दर्ज की गई।</td>\n",
       "      <td>78 millimetres of rainfall was recorded</td>\n",
       "      <td>While 78 millimeters of rain was recorded.</td>\n",
       "    </tr>\n",
       "    <tr>\n",
       "      <th>298</th>\n",
       "      <td>1006</td>\n",
       "      <td>मौसम विभाग के अनुसार आगे भी आसमान पर बादल छाए ...</td>\n",
       "      <td>according to the weather department the skies ...</td>\n",
       "      <td>According to the Meteorological Department, cl...</td>\n",
       "    </tr>\n",
       "    <tr>\n",
       "      <th>299</th>\n",
       "      <td>1007</td>\n",
       "      <td>सीट चौड़ाई के लिए विवाद से जेट निर्माताओं के ब...</td>\n",
       "      <td>jet makers feud over seat width with big order...</td>\n",
       "      <td>The big orders of jet manufacturers are at sta...</td>\n",
       "    </tr>\n",
       "  </tbody>\n",
       "</table>\n",
       "<p>300 rows × 4 columns</p>\n",
       "</div>"
      ],
      "text/plain": [
       "     Unnamed: 0                                              hindi  \\\n",
       "0             0                           आपकी कार में ब्लैक बॉक्स   \n",
       "1             6  अमेरिकी नागरिक स्वतंत्रता संघ भी विभिन्न प्रका...   \n",
       "2            10  यह हमारे देश के लिए वास्तव में अनिवार्य वस्तु है।   \n",
       "3            12  हमारे द्वारा कर भुगतान किए जाने के तरीके में प...   \n",
       "4            13                   ऐसा करने के लिए प्रौद्योगिकी है।   \n",
       "..          ...                                                ...   \n",
       "295        1001           सुबह में लोग धूप का आनंद लेते भी नजर आए।   \n",
       "296        1003          बच्चे भी स्वेटर पहन कर अपने स्कूल पहुंचे।   \n",
       "297        1005                 जबकि 78 मिलीमीटर बारिश दर्ज की गई।   \n",
       "298        1006  मौसम विभाग के अनुसार आगे भी आसमान पर बादल छाए ...   \n",
       "299        1007  सीट चौड़ाई के लिए विवाद से जेट निर्माताओं के ब...   \n",
       "\n",
       "                                                   eng  \\\n",
       "0                              a black box in your car   \n",
       "1    the american civil liberties union is deeply c...   \n",
       "2                 this really is a must for our nation   \n",
       "3    there is going to be a change in how we pay th...   \n",
       "4                     the technology is there to do it   \n",
       "..                                                 ...   \n",
       "295  people were seen enjoying the sunshine in the ...   \n",
       "296  the children also went to school wearing sweaters   \n",
       "297            78 millimetres of rainfall was recorded   \n",
       "298  according to the weather department the skies ...   \n",
       "299  jet makers feud over seat width with big order...   \n",
       "\n",
       "                                                   gpt  \n",
       "0                                Black box in your car  \n",
       "1    The American Civil Liberties Union is also ver...  \n",
       "2     This is truly an essential item for our country.  \n",
       "3    The modes of payment made by us are undergoing...  \n",
       "4                         It is technology to do that.  \n",
       "..                                                 ...  \n",
       "295  In the morning people also enjoy the warmth of...  \n",
       "296  The children also wore sweaters to go to their...  \n",
       "297         While 78 millimeters of rain was recorded.  \n",
       "298  According to the Meteorological Department, cl...  \n",
       "299  The big orders of jet manufacturers are at sta...  \n",
       "\n",
       "[300 rows x 4 columns]"
      ]
     },
     "execution_count": 59,
     "metadata": {},
     "output_type": "execute_result"
    }
   ],
   "source": [
    "analytics_table"
   ]
  },
  {
   "cell_type": "code",
   "execution_count": 61,
   "metadata": {},
   "outputs": [
    {
     "data": {
      "text/plain": [
       "0                                  Black box in your car\n",
       "1      The American Civil Liberties Union is also ver...\n",
       "2       This is truly an essential item for our country.\n",
       "3      The modes of payment made by us are undergoing...\n",
       "4                           It is technology to do that.\n",
       "                             ...                        \n",
       "295    In the morning people also enjoy the warmth of...\n",
       "296    The children also wore sweaters to go to their...\n",
       "297           While 78 millimeters of rain was recorded.\n",
       "298    According to the Meteorological Department, cl...\n",
       "299    The big orders of jet manufacturers are at sta...\n",
       "Name: gpt, Length: 300, dtype: object"
      ]
     },
     "execution_count": 61,
     "metadata": {},
     "output_type": "execute_result"
    }
   ],
   "source": [
    "analytics_table['gpt']"
   ]
  },
  {
   "cell_type": "code",
   "execution_count": null,
   "metadata": {},
   "outputs": [],
   "source": []
  },
  {
   "cell_type": "code",
   "execution_count": null,
   "metadata": {},
   "outputs": [],
   "source": []
  }
 ],
 "metadata": {
  "kernelspec": {
   "display_name": "Shakiri",
   "language": "python",
   "name": "shaq-o-neil"
  },
  "language_info": {
   "codemirror_mode": {
    "name": "ipython",
    "version": 3
   },
   "file_extension": ".py",
   "mimetype": "text/x-python",
   "name": "python",
   "nbconvert_exporter": "python",
   "pygments_lexer": "ipython3",
   "version": "3.9.13"
  },
  "vscode": {
   "interpreter": {
    "hash": "e352912fe3ad2ab8dbd713ee78512b0e9bd694ed8413d5c8469c5c1ca1a3d63d"
   }
  }
 },
 "nbformat": 4,
 "nbformat_minor": 2
}
