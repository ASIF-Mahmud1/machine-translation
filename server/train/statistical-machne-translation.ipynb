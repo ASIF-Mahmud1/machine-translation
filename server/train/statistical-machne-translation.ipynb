{
 "cells": [
  {
   "cell_type": "code",
   "execution_count": 1,
   "metadata": {},
   "outputs": [],
   "source": [
    "from nltk.translate.ibm1 import IBMModel1\n",
    "from nltk.translate.api import AlignedSent\n",
    "import dill as pickle\n",
    "import gzip\n",
    "import random\n",
    "\n",
    "def read_sents(filename):\n",
    "    sents = []\n",
    "    c=0\n",
    "    with open(filename,'r') as fi:\n",
    "        for li in fi:\n",
    "            sents.append(li.split())\n",
    "    return sents"
   ]
  },
  {
   "cell_type": "code",
   "execution_count": 2,
   "metadata": {},
   "outputs": [
    {
     "name": "stdout",
     "output_type": "stream",
     "text": [
      "Size of english sentences:  5000\n",
      "Size of french sentences:  5000\n",
      "Training smt model\n",
      "Training complete\n"
     ]
    }
   ],
   "source": [
    "max_count=5000\n",
    "eng_sents_all = read_sents('./data/train_en_lines.txt')\n",
    "fr_sents_all = read_sents('./data/train_fr_lines.txt')\n",
    "eng_sents = eng_sents_all[:max_count]\n",
    "fr_sents = fr_sents_all[:max_count]\n",
    "print(\"Size of english sentences: \", len(eng_sents))\n",
    "print(\"Size of french sentences: \", len(fr_sents))\n",
    "aligned_text = []\n",
    "for i in range(len(eng_sents)):\n",
    "    al_sent = AlignedSent(fr_sents[i],eng_sents[i])\n",
    "    aligned_text.append(al_sent)\n",
    "print(\"Training smt model\")\n",
    "ibm_model = IBMModel1(aligned_text,5)\n",
    "print(\"Training complete\")"
   ]
  },
  {
   "cell_type": "code",
   "execution_count": 3,
   "metadata": {},
   "outputs": [],
   "source": [
    "fi = open('../ml-model/ibm_smt.pkl','wb')\n",
    "pickle.dump(ibm_model,fi)\n",
    "fi.close()"
   ]
  },
  {
   "cell_type": "code",
   "execution_count": 4,
   "metadata": {},
   "outputs": [
    {
     "name": "stdout",
     "output_type": "stream",
     "text": [
      "French sentence:  Nous faisons pousser des choses.\n",
      "Translated Eng sentence:  We're glow. grow. business glow.\n",
      "Original translation:  We make things grow.\n"
     ]
    }
   ],
   "source": [
    "#n_random = random.randint(max_count,len(fr_sents_all))\n",
    "n_random = random.randint(0,max_count)\n",
    "fr_sent = fr_sents_all[n_random]\n",
    "eng_sent_actual_tr = eng_sents_all[n_random]\n",
    "tr_sent = []\n",
    "for w in fr_sent:\n",
    "    probs = ibm_model.translation_table[w]\n",
    "    if(len(probs)==0):\n",
    "        continue\n",
    "    sorted_words = sorted([(k,v) for k, v in probs.items()],key=lambda x: x[1], reverse=True)\n",
    "    top_word = sorted_words[1][0]\n",
    "    if top_word is not None:\n",
    "        tr_sent.append(top_word)\n",
    "print(\"French sentence: \", \" \".join(fr_sent))\n",
    "print(\"Translated Eng sentence: \", \" \".join(tr_sent))\n",
    "print(\"Original translation: \", \" \".join(eng_sent_actual_tr))"
   ]
  }
 ],
 "metadata": {
  "interpreter": {
   "hash": "916dbcbb3f70747c44a77c7bcd40155683ae19c65e1c03b4aa3499c5328201f1"
  },
  "kernelspec": {
   "display_name": "Python 3.8.10 64-bit",
   "language": "python",
   "name": "python3"
  },
  "language_info": {
   "codemirror_mode": {
    "name": "ipython",
    "version": 3
   },
   "file_extension": ".py",
   "mimetype": "text/x-python",
   "name": "python",
   "nbconvert_exporter": "python",
   "pygments_lexer": "ipython3",
   "version": "3.8.10"
  },
  "orig_nbformat": 4
 },
 "nbformat": 4,
 "nbformat_minor": 2
}
