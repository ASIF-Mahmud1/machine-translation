{
 "cells": [
  {
   "cell_type": "markdown",
   "metadata": {},
   "source": [
    "## Import Libraries"
   ]
  },
  {
   "cell_type": "code",
   "execution_count": 2,
   "metadata": {},
   "outputs": [],
   "source": [
    "import string\n",
    "import re\n",
    "import pandas as pd\n",
    "from keras.models import Sequential\n",
    "from keras.layers import Dense, LSTM, Embedding, RepeatVector\n",
    "from keras.preprocessing.text import Tokenizer\n",
    "from keras.callbacks import ModelCheckpoint\n",
    "from keras.preprocessing.sequence import pad_sequences\n",
    "from keras.models import load_model\n",
    "from tensorflow.keras import optimizers\n",
    "import matplotlib.pyplot as plt\n",
    "from datasets import load_dataset\n",
    "\n",
    "pd.set_option('display.max_colwidth', 200)\n",
    "#pd.set_option('display.expand_frame_repr', False)\n"
   ]
  },
  {
   "cell_type": "markdown",
   "metadata": {},
   "source": [
    "# Download Hindi-English IIT Data from "
   ]
  },
  {
   "cell_type": "code",
   "execution_count": 3,
   "metadata": {},
   "outputs": [
    {
     "name": "stderr",
     "output_type": "stream",
     "text": [
      "Using custom data configuration cfilt--iitb-english-hindi-911387c6837f8b91\n",
      "Reusing dataset parquet (/Users/learn/.cache/huggingface/datasets/parquet/cfilt--iitb-english-hindi-911387c6837f8b91/0.0.0/1638526fd0e8d960534e2155dc54fdff8dce73851f21f031d2fb9c2cf757c121)\n"
     ]
    },
    {
     "data": {
      "application/vnd.jupyter.widget-view+json": {
       "model_id": "93c61f38fbec44119fd374a95841efb9",
       "version_major": 2,
       "version_minor": 0
      },
      "text/plain": [
       "  0%|          | 0/3 [00:00<?, ?it/s]"
      ]
     },
     "metadata": {},
     "output_type": "display_data"
    },
    {
     "data": {
      "text/html": [
       "<div>\n",
       "<style scoped>\n",
       "    .dataframe tbody tr th:only-of-type {\n",
       "        vertical-align: middle;\n",
       "    }\n",
       "\n",
       "    .dataframe tbody tr th {\n",
       "        vertical-align: top;\n",
       "    }\n",
       "\n",
       "    .dataframe thead th {\n",
       "        text-align: right;\n",
       "    }\n",
       "</style>\n",
       "<table border=\"1\" class=\"dataframe\">\n",
       "  <thead>\n",
       "    <tr style=\"text-align: right;\">\n",
       "      <th></th>\n",
       "      <th>hindi</th>\n",
       "      <th>eng</th>\n",
       "    </tr>\n",
       "  </thead>\n",
       "  <tbody>\n",
       "    <tr>\n",
       "      <th>49995</th>\n",
       "      <td>ऑडियो जाँच</td>\n",
       "      <td>Audio test</td>\n",
       "    </tr>\n",
       "    <tr>\n",
       "      <th>49996</th>\n",
       "      <td>मूक</td>\n",
       "      <td>Silent</td>\n",
       "    </tr>\n",
       "    <tr>\n",
       "      <th>49997</th>\n",
       "      <td>वीडियो जाँचScreencast</td>\n",
       "      <td>Video test</td>\n",
       "    </tr>\n",
       "    <tr>\n",
       "      <th>49998</th>\n",
       "      <td>दीवाना</td>\n",
       "      <td>Crazy</td>\n",
       "    </tr>\n",
       "    <tr>\n",
       "      <th>49999</th>\n",
       "      <td>स्क्रीनकास्ट</td>\n",
       "      <td>Screencast</td>\n",
       "    </tr>\n",
       "  </tbody>\n",
       "</table>\n",
       "</div>"
      ],
      "text/plain": [
       "                       hindi         eng\n",
       "49995             ऑडियो जाँच  Audio test\n",
       "49996                    मूक      Silent\n",
       "49997  वीडियो जाँचScreencast  Video test\n",
       "49998                 दीवाना       Crazy\n",
       "49999           स्क्रीनकास्ट  Screencast"
      ]
     },
     "execution_count": 3,
     "metadata": {},
     "output_type": "execute_result"
    }
   ],
   "source": [
    "dataset = load_dataset(\"cfilt/iitb-english-hindi\")\n",
    "\n",
    "pairs=[] \n",
    "for translation_pair in dataset[\"train\"][\"translation\"]:\n",
    "  source_sentence = translation_pair[\"hi\"]\n",
    "  target_sentence = translation_pair[\"en\"]\n",
    "  pairs.append([source_sentence, target_sentence])\n",
    "\n",
    "lines= pd.DataFrame(columns=[ \"hindi\",\"eng\"], data=pairs)\n",
    "lines= lines[:50000]\n",
    "lines.tail()"
   ]
  },
  {
   "cell_type": "code",
   "execution_count": 4,
   "metadata": {},
   "outputs": [],
   "source": [
    "######### Remove Punctuation\n",
    "lines['hindi']= [ (sent.translate(str.maketrans('', '', string.punctuation)) )    for sent in lines['hindi']  ]\n",
    "lines['eng']= [ (sent.translate(str.maketrans('', '', string.punctuation)) )    for sent in lines['eng']  ]\n",
    "######### Remove Punctuation\n",
    "\n",
    "######### Convert To Lowercase \n",
    "lines['hindi']= [ (sent.lower())  for sent in lines['hindi']   ]\n",
    "lines['eng']= [ (sent.lower())  for sent in lines['eng']   ]\n",
    "######### Convert To Lowercase \n"
   ]
  },
  {
   "cell_type": "code",
   "execution_count": 5,
   "metadata": {},
   "outputs": [
    {
     "data": {
      "image/png": "[encoded data removed]",
      "text/plain": [
       "<Figure size 640x480 with 2 Axes>"
      ]
     },
     "metadata": {},
     "output_type": "display_data"
    }
   ],
   "source": [
    "##################  Popualte the lsit with sentence lengths\n",
    "\n",
    "hindi_sent_length_list=[  (len(sent.split()))  for sent in lines['hindi'] ]\n",
    "eng_sent_length_list=[  (len(sent.split()))  for sent in lines['eng'] ]\n",
    "\n",
    "length_df = pd.DataFrame({'eng':eng_sent_length_list, 'hindi':hindi_sent_length_list})\n",
    "length_df.hist(bins = 30)\n",
    "plt.show()"
   ]
  },
  {
   "cell_type": "markdown",
   "metadata": {},
   "source": [
    "## (Tokenize) Convert each sentence to list of integers"
   ]
  },
  {
   "cell_type": "code",
   "execution_count": 6,
   "metadata": {},
   "outputs": [],
   "source": [
    "\n",
    "############ Function to build a tokenizer\n",
    "def tokenization(lines):\n",
    "    tokenizer = Tokenizer()\n",
    "    tokenizer.fit_on_texts(lines)\n",
    "    return tokenizer\n",
    "############ Function to build a tokenizer    "
   ]
  },
  {
   "cell_type": "code",
   "execution_count": 7,
   "metadata": {},
   "outputs": [
    {
     "name": "stdout",
     "output_type": "stream",
     "text": [
      "English Vocabulary Size: 3706\n",
      "Hindi Vocabulary Size: 4953\n"
     ]
    }
   ],
   "source": [
    "################ Create english tokenizer\n",
    "eng_tokenizer = tokenization(lines['eng'])\n",
    "eng_vocab_size = len(eng_tokenizer.word_index) + 1\n",
    "eng_length = 8\n",
    "print('English Vocabulary Size: %d' % eng_vocab_size)\n",
    "################ Create english tokenizer\n",
    "\n",
    "################ Create hindi tokenizer\n",
    "hindi_tokenizer = tokenization(lines['hindi'])\n",
    "hindi_vocab_size = len(hindi_tokenizer.word_index) + 1\n",
    "hindi_length = 8\n",
    "print('Hindi Vocabulary Size: %d' % hindi_vocab_size)\n",
    "################ Create hindi tokenizer\n",
    "\n",
    "\n",
    "## To print eng dictionary\n",
    "# eng_tokenizer.word_index\n",
    "\n",
    "## To print hindi dictionary\n",
    "# hindi_tokenizer.word_index"
   ]
  },
  {
   "cell_type": "markdown",
   "metadata": {},
   "source": [
    "### Encode amd Pad Sentences"
   ]
  },
  {
   "cell_type": "code",
   "execution_count": 8,
   "metadata": {},
   "outputs": [],
   "source": [
    "\n",
    "def encode_sequences(tokenizer, length, lines):\n",
    "    seq = tokenizer.texts_to_sequences(lines)\n",
    "    # pad sequences with 0 values\n",
    "    seq = pad_sequences(seq, maxlen=length, padding='post')\n",
    "    return seq"
   ]
  },
  {
   "cell_type": "markdown",
   "metadata": {},
   "source": [
    "## Create 2D list where first element is hindi and second element is english"
   ]
  },
  {
   "cell_type": "code",
   "execution_count": 9,
   "metadata": {},
   "outputs": [
    {
     "data": {
      "text/plain": [
       "array([['अपने अनुप्रयोग को पहुंचनीयता व्यायाम का लाभ दें',\n",
       "        'give your application an accessibility workout'],\n",
       "       ['एक्सेर्साइसर पहुंचनीयता अन्वेषक',\n",
       "        'accerciser accessibility explorer'],\n",
       "       ['निचले पटल के लिए डिफोल्ट प्लगइन खाका',\n",
       "        'the default plugin layout for the bottom panel'],\n",
       "       ['ऊपरी पटल के लिए डिफोल्ट प्लगइन खाका',\n",
       "        'the default plugin layout for the top panel'],\n",
       "       ['उन प्लगइनों की सूची जिन्हें डिफोल्ट रूप से निष्क्रिय किया गया है',\n",
       "        'a list of plugins that are disabled by default']], dtype=object)"
      ]
     },
     "execution_count": 9,
     "metadata": {},
     "output_type": "execute_result"
    }
   ],
   "source": [
    "hindi_eng=lines[['hindi','eng']].to_numpy()\n",
    "hindi_eng[:5]  #.shape"
   ]
  },
  {
   "cell_type": "code",
   "execution_count": 10,
   "metadata": {},
   "outputs": [],
   "source": [
    "from sklearn.model_selection import train_test_split\n",
    "\n",
    "# split data into train and test set\n",
    "train, test = train_test_split(hindi_eng, test_size=0.2, random_state = 12)"
   ]
  },
  {
   "cell_type": "code",
   "execution_count": 11,
   "metadata": {},
   "outputs": [
    {
     "data": {
      "text/plain": [
       "(40000, 2)"
      ]
     },
     "execution_count": 11,
     "metadata": {},
     "output_type": "execute_result"
    }
   ],
   "source": [
    "train.shape"
   ]
  },
  {
   "cell_type": "markdown",
   "metadata": {},
   "source": [
    "## Prepare Training and Validation Data"
   ]
  },
  {
   "cell_type": "code",
   "execution_count": 12,
   "metadata": {},
   "outputs": [],
   "source": [
    "############# Training Data \n",
    "trainX= encode_sequences(hindi_tokenizer, hindi_length,train[:,0] )\n",
    "trainY= encode_sequences(eng_tokenizer, eng_length, train[:,1])\n",
    "############# Validation Data \n",
    "testX= encode_sequences(hindi_tokenizer, hindi_length,test[:,0] )\n",
    "testY= encode_sequences(eng_tokenizer, eng_length, test[:,1])\n"
   ]
  },
  {
   "cell_type": "markdown",
   "metadata": {},
   "source": [
    "### Define the Model"
   ]
  },
  {
   "cell_type": "code",
   "execution_count": 13,
   "metadata": {},
   "outputs": [],
   "source": [
    "######## Build NMT model\n",
    "def create_model(source_vocab_size, target_vocab_size, source_timesteps, target_timesteps, units):\n",
    "    model= Sequential()\n",
    "    model.add(Embedding(source_vocab_size,units, input_length=source_timesteps, mask_zero=True))\n",
    "    model.add(LSTM(units))\n",
    "    model.add(RepeatVector(target_timesteps))\n",
    "    model.add(LSTM(units, return_sequences=True ))\n",
    "    model.add(Dense(target_vocab_size, activation='softmax'))\n",
    "    return model\n"
   ]
  },
  {
   "cell_type": "code",
   "execution_count": 14,
   "metadata": {},
   "outputs": [],
   "source": [
    "# model compilation\n",
    "model = create_model(hindi_vocab_size, eng_vocab_size, hindi_length, eng_length, 512)"
   ]
  },
  {
   "cell_type": "code",
   "execution_count": 15,
   "metadata": {},
   "outputs": [],
   "source": [
    "rms = optimizers.RMSprop(learning_rate=0.001)\n",
    "model.compile(optimizer=rms, loss='sparse_categorical_crossentropy')"
   ]
  },
  {
   "cell_type": "markdown",
   "metadata": {},
   "source": [
    "## Fit the Model"
   ]
  },
  {
   "cell_type": "code",
   "execution_count": 16,
   "metadata": {},
   "outputs": [
    {
     "data": {
      "text/plain": [
       "(40000, 8)"
      ]
     },
     "execution_count": 16,
     "metadata": {},
     "output_type": "execute_result"
    }
   ],
   "source": [
    "trainX.shape"
   ]
  },
  {
   "cell_type": "code",
   "execution_count": 17,
   "metadata": {},
   "outputs": [
    {
     "name": "stdout",
     "output_type": "stream",
     "text": [
      "Epoch 1/30\n"
     ]
    },
    {
     "name": "stderr",
     "output_type": "stream",
     "text": [
      "2022-11-06 16:43:16.660841: W tensorflow/core/platform/profile_utils/cpu_utils.cc:128] Failed to get CPU frequency: 0 Hz\n"
     ]
    },
    {
     "name": "stdout",
     "output_type": "stream",
     "text": [
      "63/63 [==============================] - ETA: 0s - loss: 3.6450\n",
      "Epoch 1: val_loss improved from inf to 3.08368, saving model to model.h1.6_nov_22\n"
     ]
    },
    {
     "name": "stderr",
     "output_type": "stream",
     "text": [
      "2022-11-06 16:44:05.609285: W tensorflow/python/util/util.cc:368] Sets are not currently considered sequences, but this may change in the future, so consider avoiding using them.\n",
      "WARNING:absl:Found untraced functions such as lstm_cell_layer_call_fn, lstm_cell_layer_call_and_return_conditional_losses, lstm_cell_1_layer_call_fn, lstm_cell_1_layer_call_and_return_conditional_losses while saving (showing 4 of 4). These functions will not be directly callable after loading.\n"
     ]
    },
    {
     "name": "stdout",
     "output_type": "stream",
     "text": [
      "INFO:tensorflow:Assets written to: model.h1.6_nov_22/assets\n"
     ]
    },
    {
     "name": "stderr",
     "output_type": "stream",
     "text": [
      "INFO:tensorflow:Assets written to: model.h1.6_nov_22/assets\n",
      "WARNING:absl:<keras.layers.recurrent.LSTMCell object at 0x28ccca610> has the same name 'LSTMCell' as a built-in Keras object. Consider renaming <class 'keras.layers.recurrent.LSTMCell'> to avoid naming conflicts when loading with `tf.keras.models.load_model`. If renaming is not possible, pass the object in the `custom_objects` parameter of the load function.\n",
      "WARNING:absl:<keras.layers.recurrent.LSTMCell object at 0x28f614160> has the same name 'LSTMCell' as a built-in Keras object. Consider renaming <class 'keras.layers.recurrent.LSTMCell'> to avoid naming conflicts when loading with `tf.keras.models.load_model`. If renaming is not possible, pass the object in the `custom_objects` parameter of the load function.\n"
     ]
    },
    {
     "name": "stdout",
     "output_type": "stream",
     "text": [
      "63/63 [==============================] - 52s 767ms/step - loss: 3.6450 - val_loss: 3.0837\n",
      "Epoch 2/30\n",
      "63/63 [==============================] - ETA: 0s - loss: 3.0489\n",
      "Epoch 2: val_loss improved from 3.08368 to 2.92896, saving model to model.h1.6_nov_22\n"
     ]
    },
    {
     "name": "stderr",
     "output_type": "stream",
     "text": [
      "WARNING:absl:Found untraced functions such as lstm_cell_layer_call_fn, lstm_cell_layer_call_and_return_conditional_losses, lstm_cell_1_layer_call_fn, lstm_cell_1_layer_call_and_return_conditional_losses while saving (showing 4 of 4). These functions will not be directly callable after loading.\n"
     ]
    },
    {
     "name": "stdout",
     "output_type": "stream",
     "text": [
      "INFO:tensorflow:Assets written to: model.h1.6_nov_22/assets\n"
     ]
    },
    {
     "name": "stderr",
     "output_type": "stream",
     "text": [
      "INFO:tensorflow:Assets written to: model.h1.6_nov_22/assets\n",
      "WARNING:absl:<keras.layers.recurrent.LSTMCell object at 0x28ccca610> has the same name 'LSTMCell' as a built-in Keras object. Consider renaming <class 'keras.layers.recurrent.LSTMCell'> to avoid naming conflicts when loading with `tf.keras.models.load_model`. If renaming is not possible, pass the object in the `custom_objects` parameter of the load function.\n",
      "WARNING:absl:<keras.layers.recurrent.LSTMCell object at 0x28f614160> has the same name 'LSTMCell' as a built-in Keras object. Consider renaming <class 'keras.layers.recurrent.LSTMCell'> to avoid naming conflicts when loading with `tf.keras.models.load_model`. If renaming is not possible, pass the object in the `custom_objects` parameter of the load function.\n"
     ]
    },
    {
     "name": "stdout",
     "output_type": "stream",
     "text": [
      "63/63 [==============================] - 58s 922ms/step - loss: 3.0489 - val_loss: 2.9290\n",
      "Epoch 3/30\n",
      "63/63 [==============================] - ETA: 0s - loss: 2.9093\n",
      "Epoch 3: val_loss improved from 2.92896 to 2.85396, saving model to model.h1.6_nov_22\n"
     ]
    },
    {
     "name": "stderr",
     "output_type": "stream",
     "text": [
      "WARNING:absl:Found untraced functions such as lstm_cell_layer_call_fn, lstm_cell_layer_call_and_return_conditional_losses, lstm_cell_1_layer_call_fn, lstm_cell_1_layer_call_and_return_conditional_losses while saving (showing 4 of 4). These functions will not be directly callable after loading.\n"
     ]
    },
    {
     "name": "stdout",
     "output_type": "stream",
     "text": [
      "INFO:tensorflow:Assets written to: model.h1.6_nov_22/assets\n"
     ]
    },
    {
     "name": "stderr",
     "output_type": "stream",
     "text": [
      "INFO:tensorflow:Assets written to: model.h1.6_nov_22/assets\n",
      "WARNING:absl:<keras.layers.recurrent.LSTMCell object at 0x28ccca610> has the same name 'LSTMCell' as a built-in Keras object. Consider renaming <class 'keras.layers.recurrent.LSTMCell'> to avoid naming conflicts when loading with `tf.keras.models.load_model`. If renaming is not possible, pass the object in the `custom_objects` parameter of the load function.\n",
      "WARNING:absl:<keras.layers.recurrent.LSTMCell object at 0x28f614160> has the same name 'LSTMCell' as a built-in Keras object. Consider renaming <class 'keras.layers.recurrent.LSTMCell'> to avoid naming conflicts when loading with `tf.keras.models.load_model`. If renaming is not possible, pass the object in the `custom_objects` parameter of the load function.\n"
     ]
    },
    {
     "name": "stdout",
     "output_type": "stream",
     "text": [
      "63/63 [==============================] - 56s 886ms/step - loss: 2.9093 - val_loss: 2.8540\n",
      "Epoch 4/30\n",
      "63/63 [==============================] - ETA: 0s - loss: 2.7850\n",
      "Epoch 4: val_loss improved from 2.85396 to 2.72243, saving model to model.h1.6_nov_22\n"
     ]
    },
    {
     "name": "stderr",
     "output_type": "stream",
     "text": [
      "WARNING:absl:Found untraced functions such as lstm_cell_layer_call_fn, lstm_cell_layer_call_and_return_conditional_losses, lstm_cell_1_layer_call_fn, lstm_cell_1_layer_call_and_return_conditional_losses while saving (showing 4 of 4). These functions will not be directly callable after loading.\n"
     ]
    },
    {
     "name": "stdout",
     "output_type": "stream",
     "text": [
      "INFO:tensorflow:Assets written to: model.h1.6_nov_22/assets\n"
     ]
    },
    {
     "name": "stderr",
     "output_type": "stream",
     "text": [
      "INFO:tensorflow:Assets written to: model.h1.6_nov_22/assets\n",
      "WARNING:absl:<keras.layers.recurrent.LSTMCell object at 0x28ccca610> has the same name 'LSTMCell' as a built-in Keras object. Consider renaming <class 'keras.layers.recurrent.LSTMCell'> to avoid naming conflicts when loading with `tf.keras.models.load_model`. If renaming is not possible, pass the object in the `custom_objects` parameter of the load function.\n",
      "WARNING:absl:<keras.layers.recurrent.LSTMCell object at 0x28f614160> has the same name 'LSTMCell' as a built-in Keras object. Consider renaming <class 'keras.layers.recurrent.LSTMCell'> to avoid naming conflicts when loading with `tf.keras.models.load_model`. If renaming is not possible, pass the object in the `custom_objects` parameter of the load function.\n"
     ]
    },
    {
     "name": "stdout",
     "output_type": "stream",
     "text": [
      "63/63 [==============================] - 57s 908ms/step - loss: 2.7850 - val_loss: 2.7224\n",
      "Epoch 5/30\n",
      "63/63 [==============================] - ETA: 0s - loss: 2.6353\n",
      "Epoch 5: val_loss improved from 2.72243 to 2.60746, saving model to model.h1.6_nov_22\n"
     ]
    },
    {
     "name": "stderr",
     "output_type": "stream",
     "text": [
      "WARNING:absl:Found untraced functions such as lstm_cell_layer_call_fn, lstm_cell_layer_call_and_return_conditional_losses, lstm_cell_1_layer_call_fn, lstm_cell_1_layer_call_and_return_conditional_losses while saving (showing 4 of 4). These functions will not be directly callable after loading.\n"
     ]
    },
    {
     "name": "stdout",
     "output_type": "stream",
     "text": [
      "INFO:tensorflow:Assets written to: model.h1.6_nov_22/assets\n"
     ]
    },
    {
     "name": "stderr",
     "output_type": "stream",
     "text": [
      "INFO:tensorflow:Assets written to: model.h1.6_nov_22/assets\n",
      "WARNING:absl:<keras.layers.recurrent.LSTMCell object at 0x28ccca610> has the same name 'LSTMCell' as a built-in Keras object. Consider renaming <class 'keras.layers.recurrent.LSTMCell'> to avoid naming conflicts when loading with `tf.keras.models.load_model`. If renaming is not possible, pass the object in the `custom_objects` parameter of the load function.\n",
      "WARNING:absl:<keras.layers.recurrent.LSTMCell object at 0x28f614160> has the same name 'LSTMCell' as a built-in Keras object. Consider renaming <class 'keras.layers.recurrent.LSTMCell'> to avoid naming conflicts when loading with `tf.keras.models.load_model`. If renaming is not possible, pass the object in the `custom_objects` parameter of the load function.\n"
     ]
    },
    {
     "name": "stdout",
     "output_type": "stream",
     "text": [
      "63/63 [==============================] - 63s 998ms/step - loss: 2.6353 - val_loss: 2.6075\n",
      "Epoch 6/30\n",
      "63/63 [==============================] - ETA: 0s - loss: 2.4934\n",
      "Epoch 6: val_loss improved from 2.60746 to 2.50437, saving model to model.h1.6_nov_22\n"
     ]
    },
    {
     "name": "stderr",
     "output_type": "stream",
     "text": [
      "WARNING:absl:Found untraced functions such as lstm_cell_layer_call_fn, lstm_cell_layer_call_and_return_conditional_losses, lstm_cell_1_layer_call_fn, lstm_cell_1_layer_call_and_return_conditional_losses while saving (showing 4 of 4). These functions will not be directly callable after loading.\n"
     ]
    },
    {
     "name": "stdout",
     "output_type": "stream",
     "text": [
      "INFO:tensorflow:Assets written to: model.h1.6_nov_22/assets\n"
     ]
    },
    {
     "name": "stderr",
     "output_type": "stream",
     "text": [
      "INFO:tensorflow:Assets written to: model.h1.6_nov_22/assets\n",
      "WARNING:absl:<keras.layers.recurrent.LSTMCell object at 0x28ccca610> has the same name 'LSTMCell' as a built-in Keras object. Consider renaming <class 'keras.layers.recurrent.LSTMCell'> to avoid naming conflicts when loading with `tf.keras.models.load_model`. If renaming is not possible, pass the object in the `custom_objects` parameter of the load function.\n",
      "WARNING:absl:<keras.layers.recurrent.LSTMCell object at 0x28f614160> has the same name 'LSTMCell' as a built-in Keras object. Consider renaming <class 'keras.layers.recurrent.LSTMCell'> to avoid naming conflicts when loading with `tf.keras.models.load_model`. If renaming is not possible, pass the object in the `custom_objects` parameter of the load function.\n"
     ]
    },
    {
     "name": "stdout",
     "output_type": "stream",
     "text": [
      "63/63 [==============================] - 64s 1s/step - loss: 2.4934 - val_loss: 2.5044\n",
      "Epoch 7/30\n",
      "63/63 [==============================] - ETA: 0s - loss: 2.3544\n",
      "Epoch 7: val_loss improved from 2.50437 to 2.30505, saving model to model.h1.6_nov_22\n"
     ]
    },
    {
     "name": "stderr",
     "output_type": "stream",
     "text": [
      "WARNING:absl:Found untraced functions such as lstm_cell_layer_call_fn, lstm_cell_layer_call_and_return_conditional_losses, lstm_cell_1_layer_call_fn, lstm_cell_1_layer_call_and_return_conditional_losses while saving (showing 4 of 4). These functions will not be directly callable after loading.\n"
     ]
    },
    {
     "name": "stdout",
     "output_type": "stream",
     "text": [
      "INFO:tensorflow:Assets written to: model.h1.6_nov_22/assets\n"
     ]
    },
    {
     "name": "stderr",
     "output_type": "stream",
     "text": [
      "INFO:tensorflow:Assets written to: model.h1.6_nov_22/assets\n",
      "WARNING:absl:<keras.layers.recurrent.LSTMCell object at 0x28ccca610> has the same name 'LSTMCell' as a built-in Keras object. Consider renaming <class 'keras.layers.recurrent.LSTMCell'> to avoid naming conflicts when loading with `tf.keras.models.load_model`. If renaming is not possible, pass the object in the `custom_objects` parameter of the load function.\n",
      "WARNING:absl:<keras.layers.recurrent.LSTMCell object at 0x28f614160> has the same name 'LSTMCell' as a built-in Keras object. Consider renaming <class 'keras.layers.recurrent.LSTMCell'> to avoid naming conflicts when loading with `tf.keras.models.load_model`. If renaming is not possible, pass the object in the `custom_objects` parameter of the load function.\n"
     ]
    },
    {
     "name": "stdout",
     "output_type": "stream",
     "text": [
      "63/63 [==============================] - 72s 1s/step - loss: 2.3544 - val_loss: 2.3050\n",
      "Epoch 8/30\n",
      "63/63 [==============================] - ETA: 0s - loss: 2.2137\n",
      "Epoch 8: val_loss improved from 2.30505 to 2.22302, saving model to model.h1.6_nov_22\n"
     ]
    },
    {
     "name": "stderr",
     "output_type": "stream",
     "text": [
      "WARNING:absl:Found untraced functions such as lstm_cell_layer_call_fn, lstm_cell_layer_call_and_return_conditional_losses, lstm_cell_1_layer_call_fn, lstm_cell_1_layer_call_and_return_conditional_losses while saving (showing 4 of 4). These functions will not be directly callable after loading.\n"
     ]
    },
    {
     "name": "stdout",
     "output_type": "stream",
     "text": [
      "INFO:tensorflow:Assets written to: model.h1.6_nov_22/assets\n"
     ]
    },
    {
     "name": "stderr",
     "output_type": "stream",
     "text": [
      "INFO:tensorflow:Assets written to: model.h1.6_nov_22/assets\n",
      "WARNING:absl:<keras.layers.recurrent.LSTMCell object at 0x28ccca610> has the same name 'LSTMCell' as a built-in Keras object. Consider renaming <class 'keras.layers.recurrent.LSTMCell'> to avoid naming conflicts when loading with `tf.keras.models.load_model`. If renaming is not possible, pass the object in the `custom_objects` parameter of the load function.\n",
      "WARNING:absl:<keras.layers.recurrent.LSTMCell object at 0x28f614160> has the same name 'LSTMCell' as a built-in Keras object. Consider renaming <class 'keras.layers.recurrent.LSTMCell'> to avoid naming conflicts when loading with `tf.keras.models.load_model`. If renaming is not possible, pass the object in the `custom_objects` parameter of the load function.\n"
     ]
    },
    {
     "name": "stdout",
     "output_type": "stream",
     "text": [
      "63/63 [==============================] - 79s 1s/step - loss: 2.2137 - val_loss: 2.2230\n",
      "Epoch 9/30\n",
      "63/63 [==============================] - ETA: 0s - loss: 2.0648\n",
      "Epoch 9: val_loss improved from 2.22302 to 2.07737, saving model to model.h1.6_nov_22\n"
     ]
    },
    {
     "name": "stderr",
     "output_type": "stream",
     "text": [
      "WARNING:absl:Found untraced functions such as lstm_cell_layer_call_fn, lstm_cell_layer_call_and_return_conditional_losses, lstm_cell_1_layer_call_fn, lstm_cell_1_layer_call_and_return_conditional_losses while saving (showing 4 of 4). These functions will not be directly callable after loading.\n"
     ]
    },
    {
     "name": "stdout",
     "output_type": "stream",
     "text": [
      "INFO:tensorflow:Assets written to: model.h1.6_nov_22/assets\n"
     ]
    },
    {
     "name": "stderr",
     "output_type": "stream",
     "text": [
      "INFO:tensorflow:Assets written to: model.h1.6_nov_22/assets\n",
      "WARNING:absl:<keras.layers.recurrent.LSTMCell object at 0x28ccca610> has the same name 'LSTMCell' as a built-in Keras object. Consider renaming <class 'keras.layers.recurrent.LSTMCell'> to avoid naming conflicts when loading with `tf.keras.models.load_model`. If renaming is not possible, pass the object in the `custom_objects` parameter of the load function.\n",
      "WARNING:absl:<keras.layers.recurrent.LSTMCell object at 0x28f614160> has the same name 'LSTMCell' as a built-in Keras object. Consider renaming <class 'keras.layers.recurrent.LSTMCell'> to avoid naming conflicts when loading with `tf.keras.models.load_model`. If renaming is not possible, pass the object in the `custom_objects` parameter of the load function.\n"
     ]
    },
    {
     "name": "stdout",
     "output_type": "stream",
     "text": [
      "63/63 [==============================] - 82s 1s/step - loss: 2.0648 - val_loss: 2.0774\n",
      "Epoch 10/30\n",
      "63/63 [==============================] - ETA: 0s - loss: 1.9098\n",
      "Epoch 10: val_loss improved from 2.07737 to 1.92564, saving model to model.h1.6_nov_22\n"
     ]
    },
    {
     "name": "stderr",
     "output_type": "stream",
     "text": [
      "WARNING:absl:Found untraced functions such as lstm_cell_layer_call_fn, lstm_cell_layer_call_and_return_conditional_losses, lstm_cell_1_layer_call_fn, lstm_cell_1_layer_call_and_return_conditional_losses while saving (showing 4 of 4). These functions will not be directly callable after loading.\n"
     ]
    },
    {
     "name": "stdout",
     "output_type": "stream",
     "text": [
      "INFO:tensorflow:Assets written to: model.h1.6_nov_22/assets\n"
     ]
    },
    {
     "name": "stderr",
     "output_type": "stream",
     "text": [
      "INFO:tensorflow:Assets written to: model.h1.6_nov_22/assets\n",
      "WARNING:absl:<keras.layers.recurrent.LSTMCell object at 0x28ccca610> has the same name 'LSTMCell' as a built-in Keras object. Consider renaming <class 'keras.layers.recurrent.LSTMCell'> to avoid naming conflicts when loading with `tf.keras.models.load_model`. If renaming is not possible, pass the object in the `custom_objects` parameter of the load function.\n",
      "WARNING:absl:<keras.layers.recurrent.LSTMCell object at 0x28f614160> has the same name 'LSTMCell' as a built-in Keras object. Consider renaming <class 'keras.layers.recurrent.LSTMCell'> to avoid naming conflicts when loading with `tf.keras.models.load_model`. If renaming is not possible, pass the object in the `custom_objects` parameter of the load function.\n"
     ]
    },
    {
     "name": "stdout",
     "output_type": "stream",
     "text": [
      "63/63 [==============================] - 97s 2s/step - loss: 1.9098 - val_loss: 1.9256\n",
      "Epoch 11/30\n",
      "63/63 [==============================] - ETA: 0s - loss: 1.7497\n",
      "Epoch 11: val_loss improved from 1.92564 to 1.79536, saving model to model.h1.6_nov_22\n"
     ]
    },
    {
     "name": "stderr",
     "output_type": "stream",
     "text": [
      "WARNING:absl:Found untraced functions such as lstm_cell_layer_call_fn, lstm_cell_layer_call_and_return_conditional_losses, lstm_cell_1_layer_call_fn, lstm_cell_1_layer_call_and_return_conditional_losses while saving (showing 4 of 4). These functions will not be directly callable after loading.\n"
     ]
    },
    {
     "name": "stdout",
     "output_type": "stream",
     "text": [
      "INFO:tensorflow:Assets written to: model.h1.6_nov_22/assets\n"
     ]
    },
    {
     "name": "stderr",
     "output_type": "stream",
     "text": [
      "INFO:tensorflow:Assets written to: model.h1.6_nov_22/assets\n",
      "WARNING:absl:<keras.layers.recurrent.LSTMCell object at 0x28ccca610> has the same name 'LSTMCell' as a built-in Keras object. Consider renaming <class 'keras.layers.recurrent.LSTMCell'> to avoid naming conflicts when loading with `tf.keras.models.load_model`. If renaming is not possible, pass the object in the `custom_objects` parameter of the load function.\n",
      "WARNING:absl:<keras.layers.recurrent.LSTMCell object at 0x28f614160> has the same name 'LSTMCell' as a built-in Keras object. Consider renaming <class 'keras.layers.recurrent.LSTMCell'> to avoid naming conflicts when loading with `tf.keras.models.load_model`. If renaming is not possible, pass the object in the `custom_objects` parameter of the load function.\n"
     ]
    },
    {
     "name": "stdout",
     "output_type": "stream",
     "text": [
      "63/63 [==============================] - 97s 2s/step - loss: 1.7497 - val_loss: 1.7954\n",
      "Epoch 12/30\n",
      "63/63 [==============================] - ETA: 0s - loss: 1.5980\n",
      "Epoch 12: val_loss improved from 1.79536 to 1.64920, saving model to model.h1.6_nov_22\n"
     ]
    },
    {
     "name": "stderr",
     "output_type": "stream",
     "text": [
      "WARNING:absl:Found untraced functions such as lstm_cell_layer_call_fn, lstm_cell_layer_call_and_return_conditional_losses, lstm_cell_1_layer_call_fn, lstm_cell_1_layer_call_and_return_conditional_losses while saving (showing 4 of 4). These functions will not be directly callable after loading.\n"
     ]
    },
    {
     "name": "stdout",
     "output_type": "stream",
     "text": [
      "INFO:tensorflow:Assets written to: model.h1.6_nov_22/assets\n"
     ]
    },
    {
     "name": "stderr",
     "output_type": "stream",
     "text": [
      "INFO:tensorflow:Assets written to: model.h1.6_nov_22/assets\n",
      "WARNING:absl:<keras.layers.recurrent.LSTMCell object at 0x28ccca610> has the same name 'LSTMCell' as a built-in Keras object. Consider renaming <class 'keras.layers.recurrent.LSTMCell'> to avoid naming conflicts when loading with `tf.keras.models.load_model`. If renaming is not possible, pass the object in the `custom_objects` parameter of the load function.\n",
      "WARNING:absl:<keras.layers.recurrent.LSTMCell object at 0x28f614160> has the same name 'LSTMCell' as a built-in Keras object. Consider renaming <class 'keras.layers.recurrent.LSTMCell'> to avoid naming conflicts when loading with `tf.keras.models.load_model`. If renaming is not possible, pass the object in the `custom_objects` parameter of the load function.\n"
     ]
    },
    {
     "name": "stdout",
     "output_type": "stream",
     "text": [
      "63/63 [==============================] - 93s 1s/step - loss: 1.5980 - val_loss: 1.6492\n",
      "Epoch 13/30\n",
      "63/63 [==============================] - ETA: 0s - loss: 1.4451\n",
      "Epoch 13: val_loss improved from 1.64920 to 1.49602, saving model to model.h1.6_nov_22\n"
     ]
    },
    {
     "name": "stderr",
     "output_type": "stream",
     "text": [
      "WARNING:absl:Found untraced functions such as lstm_cell_layer_call_fn, lstm_cell_layer_call_and_return_conditional_losses, lstm_cell_1_layer_call_fn, lstm_cell_1_layer_call_and_return_conditional_losses while saving (showing 4 of 4). These functions will not be directly callable after loading.\n"
     ]
    },
    {
     "name": "stdout",
     "output_type": "stream",
     "text": [
      "INFO:tensorflow:Assets written to: model.h1.6_nov_22/assets\n"
     ]
    },
    {
     "name": "stderr",
     "output_type": "stream",
     "text": [
      "INFO:tensorflow:Assets written to: model.h1.6_nov_22/assets\n",
      "WARNING:absl:<keras.layers.recurrent.LSTMCell object at 0x28ccca610> has the same name 'LSTMCell' as a built-in Keras object. Consider renaming <class 'keras.layers.recurrent.LSTMCell'> to avoid naming conflicts when loading with `tf.keras.models.load_model`. If renaming is not possible, pass the object in the `custom_objects` parameter of the load function.\n",
      "WARNING:absl:<keras.layers.recurrent.LSTMCell object at 0x28f614160> has the same name 'LSTMCell' as a built-in Keras object. Consider renaming <class 'keras.layers.recurrent.LSTMCell'> to avoid naming conflicts when loading with `tf.keras.models.load_model`. If renaming is not possible, pass the object in the `custom_objects` parameter of the load function.\n"
     ]
    },
    {
     "name": "stdout",
     "output_type": "stream",
     "text": [
      "63/63 [==============================] - 95s 2s/step - loss: 1.4451 - val_loss: 1.4960\n",
      "Epoch 14/30\n",
      "63/63 [==============================] - ETA: 0s - loss: 1.2976\n",
      "Epoch 14: val_loss improved from 1.49602 to 1.38181, saving model to model.h1.6_nov_22\n"
     ]
    },
    {
     "name": "stderr",
     "output_type": "stream",
     "text": [
      "WARNING:absl:Found untraced functions such as lstm_cell_layer_call_fn, lstm_cell_layer_call_and_return_conditional_losses, lstm_cell_1_layer_call_fn, lstm_cell_1_layer_call_and_return_conditional_losses while saving (showing 4 of 4). These functions will not be directly callable after loading.\n"
     ]
    },
    {
     "name": "stdout",
     "output_type": "stream",
     "text": [
      "INFO:tensorflow:Assets written to: model.h1.6_nov_22/assets\n"
     ]
    },
    {
     "name": "stderr",
     "output_type": "stream",
     "text": [
      "INFO:tensorflow:Assets written to: model.h1.6_nov_22/assets\n",
      "WARNING:absl:<keras.layers.recurrent.LSTMCell object at 0x28ccca610> has the same name 'LSTMCell' as a built-in Keras object. Consider renaming <class 'keras.layers.recurrent.LSTMCell'> to avoid naming conflicts when loading with `tf.keras.models.load_model`. If renaming is not possible, pass the object in the `custom_objects` parameter of the load function.\n",
      "WARNING:absl:<keras.layers.recurrent.LSTMCell object at 0x28f614160> has the same name 'LSTMCell' as a built-in Keras object. Consider renaming <class 'keras.layers.recurrent.LSTMCell'> to avoid naming conflicts when loading with `tf.keras.models.load_model`. If renaming is not possible, pass the object in the `custom_objects` parameter of the load function.\n"
     ]
    },
    {
     "name": "stdout",
     "output_type": "stream",
     "text": [
      "63/63 [==============================] - 93s 1s/step - loss: 1.2976 - val_loss: 1.3818\n",
      "Epoch 15/30\n",
      "63/63 [==============================] - ETA: 0s - loss: 1.1649\n",
      "Epoch 15: val_loss improved from 1.38181 to 1.25826, saving model to model.h1.6_nov_22\n"
     ]
    },
    {
     "name": "stderr",
     "output_type": "stream",
     "text": [
      "WARNING:absl:Found untraced functions such as lstm_cell_layer_call_fn, lstm_cell_layer_call_and_return_conditional_losses, lstm_cell_1_layer_call_fn, lstm_cell_1_layer_call_and_return_conditional_losses while saving (showing 4 of 4). These functions will not be directly callable after loading.\n"
     ]
    },
    {
     "name": "stdout",
     "output_type": "stream",
     "text": [
      "INFO:tensorflow:Assets written to: model.h1.6_nov_22/assets\n"
     ]
    },
    {
     "name": "stderr",
     "output_type": "stream",
     "text": [
      "INFO:tensorflow:Assets written to: model.h1.6_nov_22/assets\n",
      "WARNING:absl:<keras.layers.recurrent.LSTMCell object at 0x28ccca610> has the same name 'LSTMCell' as a built-in Keras object. Consider renaming <class 'keras.layers.recurrent.LSTMCell'> to avoid naming conflicts when loading with `tf.keras.models.load_model`. If renaming is not possible, pass the object in the `custom_objects` parameter of the load function.\n",
      "WARNING:absl:<keras.layers.recurrent.LSTMCell object at 0x28f614160> has the same name 'LSTMCell' as a built-in Keras object. Consider renaming <class 'keras.layers.recurrent.LSTMCell'> to avoid naming conflicts when loading with `tf.keras.models.load_model`. If renaming is not possible, pass the object in the `custom_objects` parameter of the load function.\n"
     ]
    },
    {
     "name": "stdout",
     "output_type": "stream",
     "text": [
      "63/63 [==============================] - 95s 2s/step - loss: 1.1649 - val_loss: 1.2583\n",
      "Epoch 16/30\n",
      "63/63 [==============================] - ETA: 0s - loss: 1.0412\n",
      "Epoch 16: val_loss improved from 1.25826 to 1.16616, saving model to model.h1.6_nov_22\n"
     ]
    },
    {
     "name": "stderr",
     "output_type": "stream",
     "text": [
      "WARNING:absl:Found untraced functions such as lstm_cell_layer_call_fn, lstm_cell_layer_call_and_return_conditional_losses, lstm_cell_1_layer_call_fn, lstm_cell_1_layer_call_and_return_conditional_losses while saving (showing 4 of 4). These functions will not be directly callable after loading.\n"
     ]
    },
    {
     "name": "stdout",
     "output_type": "stream",
     "text": [
      "INFO:tensorflow:Assets written to: model.h1.6_nov_22/assets\n"
     ]
    },
    {
     "name": "stderr",
     "output_type": "stream",
     "text": [
      "INFO:tensorflow:Assets written to: model.h1.6_nov_22/assets\n",
      "WARNING:absl:<keras.layers.recurrent.LSTMCell object at 0x28ccca610> has the same name 'LSTMCell' as a built-in Keras object. Consider renaming <class 'keras.layers.recurrent.LSTMCell'> to avoid naming conflicts when loading with `tf.keras.models.load_model`. If renaming is not possible, pass the object in the `custom_objects` parameter of the load function.\n",
      "WARNING:absl:<keras.layers.recurrent.LSTMCell object at 0x28f614160> has the same name 'LSTMCell' as a built-in Keras object. Consider renaming <class 'keras.layers.recurrent.LSTMCell'> to avoid naming conflicts when loading with `tf.keras.models.load_model`. If renaming is not possible, pass the object in the `custom_objects` parameter of the load function.\n"
     ]
    },
    {
     "name": "stdout",
     "output_type": "stream",
     "text": [
      "63/63 [==============================] - 95s 2s/step - loss: 1.0412 - val_loss: 1.1662\n",
      "Epoch 17/30\n",
      "63/63 [==============================] - ETA: 0s - loss: 0.9273\n",
      "Epoch 17: val_loss improved from 1.16616 to 1.08403, saving model to model.h1.6_nov_22\n"
     ]
    },
    {
     "name": "stderr",
     "output_type": "stream",
     "text": [
      "WARNING:absl:Found untraced functions such as lstm_cell_layer_call_fn, lstm_cell_layer_call_and_return_conditional_losses, lstm_cell_1_layer_call_fn, lstm_cell_1_layer_call_and_return_conditional_losses while saving (showing 4 of 4). These functions will not be directly callable after loading.\n"
     ]
    },
    {
     "name": "stdout",
     "output_type": "stream",
     "text": [
      "INFO:tensorflow:Assets written to: model.h1.6_nov_22/assets\n"
     ]
    },
    {
     "name": "stderr",
     "output_type": "stream",
     "text": [
      "INFO:tensorflow:Assets written to: model.h1.6_nov_22/assets\n",
      "WARNING:absl:<keras.layers.recurrent.LSTMCell object at 0x28ccca610> has the same name 'LSTMCell' as a built-in Keras object. Consider renaming <class 'keras.layers.recurrent.LSTMCell'> to avoid naming conflicts when loading with `tf.keras.models.load_model`. If renaming is not possible, pass the object in the `custom_objects` parameter of the load function.\n",
      "WARNING:absl:<keras.layers.recurrent.LSTMCell object at 0x28f614160> has the same name 'LSTMCell' as a built-in Keras object. Consider renaming <class 'keras.layers.recurrent.LSTMCell'> to avoid naming conflicts when loading with `tf.keras.models.load_model`. If renaming is not possible, pass the object in the `custom_objects` parameter of the load function.\n"
     ]
    },
    {
     "name": "stdout",
     "output_type": "stream",
     "text": [
      "63/63 [==============================] - 92s 1s/step - loss: 0.9273 - val_loss: 1.0840\n",
      "Epoch 18/30\n",
      "63/63 [==============================] - ETA: 0s - loss: 0.8257\n",
      "Epoch 18: val_loss improved from 1.08403 to 0.97280, saving model to model.h1.6_nov_22\n"
     ]
    },
    {
     "name": "stderr",
     "output_type": "stream",
     "text": [
      "WARNING:absl:Found untraced functions such as lstm_cell_layer_call_fn, lstm_cell_layer_call_and_return_conditional_losses, lstm_cell_1_layer_call_fn, lstm_cell_1_layer_call_and_return_conditional_losses while saving (showing 4 of 4). These functions will not be directly callable after loading.\n"
     ]
    },
    {
     "name": "stdout",
     "output_type": "stream",
     "text": [
      "INFO:tensorflow:Assets written to: model.h1.6_nov_22/assets\n"
     ]
    },
    {
     "name": "stderr",
     "output_type": "stream",
     "text": [
      "INFO:tensorflow:Assets written to: model.h1.6_nov_22/assets\n",
      "WARNING:absl:<keras.layers.recurrent.LSTMCell object at 0x28ccca610> has the same name 'LSTMCell' as a built-in Keras object. Consider renaming <class 'keras.layers.recurrent.LSTMCell'> to avoid naming conflicts when loading with `tf.keras.models.load_model`. If renaming is not possible, pass the object in the `custom_objects` parameter of the load function.\n",
      "WARNING:absl:<keras.layers.recurrent.LSTMCell object at 0x28f614160> has the same name 'LSTMCell' as a built-in Keras object. Consider renaming <class 'keras.layers.recurrent.LSTMCell'> to avoid naming conflicts when loading with `tf.keras.models.load_model`. If renaming is not possible, pass the object in the `custom_objects` parameter of the load function.\n"
     ]
    },
    {
     "name": "stdout",
     "output_type": "stream",
     "text": [
      "63/63 [==============================] - 94s 1s/step - loss: 0.8257 - val_loss: 0.9728\n",
      "Epoch 19/30\n",
      "63/63 [==============================] - ETA: 0s - loss: 0.7324\n",
      "Epoch 19: val_loss improved from 0.97280 to 0.91908, saving model to model.h1.6_nov_22\n"
     ]
    },
    {
     "name": "stderr",
     "output_type": "stream",
     "text": [
      "WARNING:absl:Found untraced functions such as lstm_cell_layer_call_fn, lstm_cell_layer_call_and_return_conditional_losses, lstm_cell_1_layer_call_fn, lstm_cell_1_layer_call_and_return_conditional_losses while saving (showing 4 of 4). These functions will not be directly callable after loading.\n"
     ]
    },
    {
     "name": "stdout",
     "output_type": "stream",
     "text": [
      "INFO:tensorflow:Assets written to: model.h1.6_nov_22/assets\n"
     ]
    },
    {
     "name": "stderr",
     "output_type": "stream",
     "text": [
      "INFO:tensorflow:Assets written to: model.h1.6_nov_22/assets\n",
      "WARNING:absl:<keras.layers.recurrent.LSTMCell object at 0x28ccca610> has the same name 'LSTMCell' as a built-in Keras object. Consider renaming <class 'keras.layers.recurrent.LSTMCell'> to avoid naming conflicts when loading with `tf.keras.models.load_model`. If renaming is not possible, pass the object in the `custom_objects` parameter of the load function.\n",
      "WARNING:absl:<keras.layers.recurrent.LSTMCell object at 0x28f614160> has the same name 'LSTMCell' as a built-in Keras object. Consider renaming <class 'keras.layers.recurrent.LSTMCell'> to avoid naming conflicts when loading with `tf.keras.models.load_model`. If renaming is not possible, pass the object in the `custom_objects` parameter of the load function.\n"
     ]
    },
    {
     "name": "stdout",
     "output_type": "stream",
     "text": [
      "63/63 [==============================] - 100s 2s/step - loss: 0.7324 - val_loss: 0.9191\n",
      "Epoch 20/30\n",
      "63/63 [==============================] - ETA: 0s - loss: 0.6540\n",
      "Epoch 20: val_loss improved from 0.91908 to 0.81136, saving model to model.h1.6_nov_22\n"
     ]
    },
    {
     "name": "stderr",
     "output_type": "stream",
     "text": [
      "WARNING:absl:Found untraced functions such as lstm_cell_layer_call_fn, lstm_cell_layer_call_and_return_conditional_losses, lstm_cell_1_layer_call_fn, lstm_cell_1_layer_call_and_return_conditional_losses while saving (showing 4 of 4). These functions will not be directly callable after loading.\n"
     ]
    },
    {
     "name": "stdout",
     "output_type": "stream",
     "text": [
      "INFO:tensorflow:Assets written to: model.h1.6_nov_22/assets\n"
     ]
    },
    {
     "name": "stderr",
     "output_type": "stream",
     "text": [
      "INFO:tensorflow:Assets written to: model.h1.6_nov_22/assets\n",
      "WARNING:absl:<keras.layers.recurrent.LSTMCell object at 0x28ccca610> has the same name 'LSTMCell' as a built-in Keras object. Consider renaming <class 'keras.layers.recurrent.LSTMCell'> to avoid naming conflicts when loading with `tf.keras.models.load_model`. If renaming is not possible, pass the object in the `custom_objects` parameter of the load function.\n",
      "WARNING:absl:<keras.layers.recurrent.LSTMCell object at 0x28f614160> has the same name 'LSTMCell' as a built-in Keras object. Consider renaming <class 'keras.layers.recurrent.LSTMCell'> to avoid naming conflicts when loading with `tf.keras.models.load_model`. If renaming is not possible, pass the object in the `custom_objects` parameter of the load function.\n"
     ]
    },
    {
     "name": "stdout",
     "output_type": "stream",
     "text": [
      "63/63 [==============================] - 99s 2s/step - loss: 0.6540 - val_loss: 0.8114\n",
      "Epoch 21/30\n",
      "63/63 [==============================] - ETA: 0s - loss: 0.5761\n",
      "Epoch 21: val_loss improved from 0.81136 to 0.76499, saving model to model.h1.6_nov_22\n"
     ]
    },
    {
     "name": "stderr",
     "output_type": "stream",
     "text": [
      "WARNING:absl:Found untraced functions such as lstm_cell_layer_call_fn, lstm_cell_layer_call_and_return_conditional_losses, lstm_cell_1_layer_call_fn, lstm_cell_1_layer_call_and_return_conditional_losses while saving (showing 4 of 4). These functions will not be directly callable after loading.\n"
     ]
    },
    {
     "name": "stdout",
     "output_type": "stream",
     "text": [
      "INFO:tensorflow:Assets written to: model.h1.6_nov_22/assets\n"
     ]
    },
    {
     "name": "stderr",
     "output_type": "stream",
     "text": [
      "INFO:tensorflow:Assets written to: model.h1.6_nov_22/assets\n",
      "WARNING:absl:<keras.layers.recurrent.LSTMCell object at 0x28ccca610> has the same name 'LSTMCell' as a built-in Keras object. Consider renaming <class 'keras.layers.recurrent.LSTMCell'> to avoid naming conflicts when loading with `tf.keras.models.load_model`. If renaming is not possible, pass the object in the `custom_objects` parameter of the load function.\n",
      "WARNING:absl:<keras.layers.recurrent.LSTMCell object at 0x28f614160> has the same name 'LSTMCell' as a built-in Keras object. Consider renaming <class 'keras.layers.recurrent.LSTMCell'> to avoid naming conflicts when loading with `tf.keras.models.load_model`. If renaming is not possible, pass the object in the `custom_objects` parameter of the load function.\n"
     ]
    },
    {
     "name": "stdout",
     "output_type": "stream",
     "text": [
      "63/63 [==============================] - 96s 2s/step - loss: 0.5761 - val_loss: 0.7650\n",
      "Epoch 22/30\n",
      "63/63 [==============================] - ETA: 0s - loss: 0.5121\n",
      "Epoch 22: val_loss improved from 0.76499 to 0.69645, saving model to model.h1.6_nov_22\n"
     ]
    },
    {
     "name": "stderr",
     "output_type": "stream",
     "text": [
      "WARNING:absl:Found untraced functions such as lstm_cell_layer_call_fn, lstm_cell_layer_call_and_return_conditional_losses, lstm_cell_1_layer_call_fn, lstm_cell_1_layer_call_and_return_conditional_losses while saving (showing 4 of 4). These functions will not be directly callable after loading.\n"
     ]
    },
    {
     "name": "stdout",
     "output_type": "stream",
     "text": [
      "INFO:tensorflow:Assets written to: model.h1.6_nov_22/assets\n"
     ]
    },
    {
     "name": "stderr",
     "output_type": "stream",
     "text": [
      "INFO:tensorflow:Assets written to: model.h1.6_nov_22/assets\n",
      "WARNING:absl:<keras.layers.recurrent.LSTMCell object at 0x28ccca610> has the same name 'LSTMCell' as a built-in Keras object. Consider renaming <class 'keras.layers.recurrent.LSTMCell'> to avoid naming conflicts when loading with `tf.keras.models.load_model`. If renaming is not possible, pass the object in the `custom_objects` parameter of the load function.\n",
      "WARNING:absl:<keras.layers.recurrent.LSTMCell object at 0x28f614160> has the same name 'LSTMCell' as a built-in Keras object. Consider renaming <class 'keras.layers.recurrent.LSTMCell'> to avoid naming conflicts when loading with `tf.keras.models.load_model`. If renaming is not possible, pass the object in the `custom_objects` parameter of the load function.\n"
     ]
    },
    {
     "name": "stdout",
     "output_type": "stream",
     "text": [
      "63/63 [==============================] - 79s 1s/step - loss: 0.5121 - val_loss: 0.6965\n",
      "Epoch 23/30\n",
      "63/63 [==============================] - ETA: 0s - loss: 0.4552\n",
      "Epoch 23: val_loss improved from 0.69645 to 0.62871, saving model to model.h1.6_nov_22\n"
     ]
    },
    {
     "name": "stderr",
     "output_type": "stream",
     "text": [
      "WARNING:absl:Found untraced functions such as lstm_cell_layer_call_fn, lstm_cell_layer_call_and_return_conditional_losses, lstm_cell_1_layer_call_fn, lstm_cell_1_layer_call_and_return_conditional_losses while saving (showing 4 of 4). These functions will not be directly callable after loading.\n"
     ]
    },
    {
     "name": "stdout",
     "output_type": "stream",
     "text": [
      "INFO:tensorflow:Assets written to: model.h1.6_nov_22/assets\n"
     ]
    },
    {
     "name": "stderr",
     "output_type": "stream",
     "text": [
      "INFO:tensorflow:Assets written to: model.h1.6_nov_22/assets\n",
      "WARNING:absl:<keras.layers.recurrent.LSTMCell object at 0x28ccca610> has the same name 'LSTMCell' as a built-in Keras object. Consider renaming <class 'keras.layers.recurrent.LSTMCell'> to avoid naming conflicts when loading with `tf.keras.models.load_model`. If renaming is not possible, pass the object in the `custom_objects` parameter of the load function.\n",
      "WARNING:absl:<keras.layers.recurrent.LSTMCell object at 0x28f614160> has the same name 'LSTMCell' as a built-in Keras object. Consider renaming <class 'keras.layers.recurrent.LSTMCell'> to avoid naming conflicts when loading with `tf.keras.models.load_model`. If renaming is not possible, pass the object in the `custom_objects` parameter of the load function.\n"
     ]
    },
    {
     "name": "stdout",
     "output_type": "stream",
     "text": [
      "63/63 [==============================] - 66s 1s/step - loss: 0.4552 - val_loss: 0.6287\n",
      "Epoch 24/30\n",
      "63/63 [==============================] - ETA: 0s - loss: 0.4060\n",
      "Epoch 24: val_loss improved from 0.62871 to 0.59106, saving model to model.h1.6_nov_22\n"
     ]
    },
    {
     "name": "stderr",
     "output_type": "stream",
     "text": [
      "WARNING:absl:Found untraced functions such as lstm_cell_layer_call_fn, lstm_cell_layer_call_and_return_conditional_losses, lstm_cell_1_layer_call_fn, lstm_cell_1_layer_call_and_return_conditional_losses while saving (showing 4 of 4). These functions will not be directly callable after loading.\n"
     ]
    },
    {
     "name": "stdout",
     "output_type": "stream",
     "text": [
      "INFO:tensorflow:Assets written to: model.h1.6_nov_22/assets\n"
     ]
    },
    {
     "name": "stderr",
     "output_type": "stream",
     "text": [
      "INFO:tensorflow:Assets written to: model.h1.6_nov_22/assets\n",
      "WARNING:absl:<keras.layers.recurrent.LSTMCell object at 0x28ccca610> has the same name 'LSTMCell' as a built-in Keras object. Consider renaming <class 'keras.layers.recurrent.LSTMCell'> to avoid naming conflicts when loading with `tf.keras.models.load_model`. If renaming is not possible, pass the object in the `custom_objects` parameter of the load function.\n",
      "WARNING:absl:<keras.layers.recurrent.LSTMCell object at 0x28f614160> has the same name 'LSTMCell' as a built-in Keras object. Consider renaming <class 'keras.layers.recurrent.LSTMCell'> to avoid naming conflicts when loading with `tf.keras.models.load_model`. If renaming is not possible, pass the object in the `custom_objects` parameter of the load function.\n"
     ]
    },
    {
     "name": "stdout",
     "output_type": "stream",
     "text": [
      "63/63 [==============================] - 65s 1s/step - loss: 0.4060 - val_loss: 0.5911\n",
      "Epoch 25/30\n",
      "63/63 [==============================] - ETA: 0s - loss: 0.3584\n",
      "Epoch 25: val_loss improved from 0.59106 to 0.56198, saving model to model.h1.6_nov_22\n"
     ]
    },
    {
     "name": "stderr",
     "output_type": "stream",
     "text": [
      "WARNING:absl:Found untraced functions such as lstm_cell_layer_call_fn, lstm_cell_layer_call_and_return_conditional_losses, lstm_cell_1_layer_call_fn, lstm_cell_1_layer_call_and_return_conditional_losses while saving (showing 4 of 4). These functions will not be directly callable after loading.\n"
     ]
    },
    {
     "name": "stdout",
     "output_type": "stream",
     "text": [
      "INFO:tensorflow:Assets written to: model.h1.6_nov_22/assets\n"
     ]
    },
    {
     "name": "stderr",
     "output_type": "stream",
     "text": [
      "INFO:tensorflow:Assets written to: model.h1.6_nov_22/assets\n",
      "WARNING:absl:<keras.layers.recurrent.LSTMCell object at 0x28ccca610> has the same name 'LSTMCell' as a built-in Keras object. Consider renaming <class 'keras.layers.recurrent.LSTMCell'> to avoid naming conflicts when loading with `tf.keras.models.load_model`. If renaming is not possible, pass the object in the `custom_objects` parameter of the load function.\n",
      "WARNING:absl:<keras.layers.recurrent.LSTMCell object at 0x28f614160> has the same name 'LSTMCell' as a built-in Keras object. Consider renaming <class 'keras.layers.recurrent.LSTMCell'> to avoid naming conflicts when loading with `tf.keras.models.load_model`. If renaming is not possible, pass the object in the `custom_objects` parameter of the load function.\n"
     ]
    },
    {
     "name": "stdout",
     "output_type": "stream",
     "text": [
      "63/63 [==============================] - 71s 1s/step - loss: 0.3584 - val_loss: 0.5620\n",
      "Epoch 26/30\n",
      "63/63 [==============================] - ETA: 0s - loss: 0.3251\n",
      "Epoch 26: val_loss improved from 0.56198 to 0.51684, saving model to model.h1.6_nov_22\n"
     ]
    },
    {
     "name": "stderr",
     "output_type": "stream",
     "text": [
      "WARNING:absl:Found untraced functions such as lstm_cell_layer_call_fn, lstm_cell_layer_call_and_return_conditional_losses, lstm_cell_1_layer_call_fn, lstm_cell_1_layer_call_and_return_conditional_losses while saving (showing 4 of 4). These functions will not be directly callable after loading.\n"
     ]
    },
    {
     "name": "stdout",
     "output_type": "stream",
     "text": [
      "INFO:tensorflow:Assets written to: model.h1.6_nov_22/assets\n"
     ]
    },
    {
     "name": "stderr",
     "output_type": "stream",
     "text": [
      "INFO:tensorflow:Assets written to: model.h1.6_nov_22/assets\n",
      "WARNING:absl:<keras.layers.recurrent.LSTMCell object at 0x28ccca610> has the same name 'LSTMCell' as a built-in Keras object. Consider renaming <class 'keras.layers.recurrent.LSTMCell'> to avoid naming conflicts when loading with `tf.keras.models.load_model`. If renaming is not possible, pass the object in the `custom_objects` parameter of the load function.\n",
      "WARNING:absl:<keras.layers.recurrent.LSTMCell object at 0x28f614160> has the same name 'LSTMCell' as a built-in Keras object. Consider renaming <class 'keras.layers.recurrent.LSTMCell'> to avoid naming conflicts when loading with `tf.keras.models.load_model`. If renaming is not possible, pass the object in the `custom_objects` parameter of the load function.\n"
     ]
    },
    {
     "name": "stdout",
     "output_type": "stream",
     "text": [
      "63/63 [==============================] - 80s 1s/step - loss: 0.3251 - val_loss: 0.5168\n",
      "Epoch 27/30\n",
      "63/63 [==============================] - ETA: 0s - loss: 0.2899\n",
      "Epoch 27: val_loss improved from 0.51684 to 0.48950, saving model to model.h1.6_nov_22\n"
     ]
    },
    {
     "name": "stderr",
     "output_type": "stream",
     "text": [
      "WARNING:absl:Found untraced functions such as lstm_cell_layer_call_fn, lstm_cell_layer_call_and_return_conditional_losses, lstm_cell_1_layer_call_fn, lstm_cell_1_layer_call_and_return_conditional_losses while saving (showing 4 of 4). These functions will not be directly callable after loading.\n"
     ]
    },
    {
     "name": "stdout",
     "output_type": "stream",
     "text": [
      "INFO:tensorflow:Assets written to: model.h1.6_nov_22/assets\n"
     ]
    },
    {
     "name": "stderr",
     "output_type": "stream",
     "text": [
      "INFO:tensorflow:Assets written to: model.h1.6_nov_22/assets\n",
      "WARNING:absl:<keras.layers.recurrent.LSTMCell object at 0x28ccca610> has the same name 'LSTMCell' as a built-in Keras object. Consider renaming <class 'keras.layers.recurrent.LSTMCell'> to avoid naming conflicts when loading with `tf.keras.models.load_model`. If renaming is not possible, pass the object in the `custom_objects` parameter of the load function.\n",
      "WARNING:absl:<keras.layers.recurrent.LSTMCell object at 0x28f614160> has the same name 'LSTMCell' as a built-in Keras object. Consider renaming <class 'keras.layers.recurrent.LSTMCell'> to avoid naming conflicts when loading with `tf.keras.models.load_model`. If renaming is not possible, pass the object in the `custom_objects` parameter of the load function.\n"
     ]
    },
    {
     "name": "stdout",
     "output_type": "stream",
     "text": [
      "63/63 [==============================] - 79s 1s/step - loss: 0.2899 - val_loss: 0.4895\n",
      "Epoch 28/30\n",
      "63/63 [==============================] - ETA: 0s - loss: 0.2655\n",
      "Epoch 28: val_loss improved from 0.48950 to 0.46441, saving model to model.h1.6_nov_22\n"
     ]
    },
    {
     "name": "stderr",
     "output_type": "stream",
     "text": [
      "WARNING:absl:Found untraced functions such as lstm_cell_layer_call_fn, lstm_cell_layer_call_and_return_conditional_losses, lstm_cell_1_layer_call_fn, lstm_cell_1_layer_call_and_return_conditional_losses while saving (showing 4 of 4). These functions will not be directly callable after loading.\n"
     ]
    },
    {
     "name": "stdout",
     "output_type": "stream",
     "text": [
      "INFO:tensorflow:Assets written to: model.h1.6_nov_22/assets\n"
     ]
    },
    {
     "name": "stderr",
     "output_type": "stream",
     "text": [
      "INFO:tensorflow:Assets written to: model.h1.6_nov_22/assets\n",
      "WARNING:absl:<keras.layers.recurrent.LSTMCell object at 0x28ccca610> has the same name 'LSTMCell' as a built-in Keras object. Consider renaming <class 'keras.layers.recurrent.LSTMCell'> to avoid naming conflicts when loading with `tf.keras.models.load_model`. If renaming is not possible, pass the object in the `custom_objects` parameter of the load function.\n",
      "WARNING:absl:<keras.layers.recurrent.LSTMCell object at 0x28f614160> has the same name 'LSTMCell' as a built-in Keras object. Consider renaming <class 'keras.layers.recurrent.LSTMCell'> to avoid naming conflicts when loading with `tf.keras.models.load_model`. If renaming is not possible, pass the object in the `custom_objects` parameter of the load function.\n"
     ]
    },
    {
     "name": "stdout",
     "output_type": "stream",
     "text": [
      "63/63 [==============================] - 83s 1s/step - loss: 0.2655 - val_loss: 0.4644\n",
      "Epoch 29/30\n",
      "63/63 [==============================] - ETA: 0s - loss: 0.2388\n",
      "Epoch 29: val_loss improved from 0.46441 to 0.44274, saving model to model.h1.6_nov_22\n"
     ]
    },
    {
     "name": "stderr",
     "output_type": "stream",
     "text": [
      "WARNING:absl:Found untraced functions such as lstm_cell_layer_call_fn, lstm_cell_layer_call_and_return_conditional_losses, lstm_cell_1_layer_call_fn, lstm_cell_1_layer_call_and_return_conditional_losses while saving (showing 4 of 4). These functions will not be directly callable after loading.\n"
     ]
    },
    {
     "name": "stdout",
     "output_type": "stream",
     "text": [
      "INFO:tensorflow:Assets written to: model.h1.6_nov_22/assets\n"
     ]
    },
    {
     "name": "stderr",
     "output_type": "stream",
     "text": [
      "INFO:tensorflow:Assets written to: model.h1.6_nov_22/assets\n",
      "WARNING:absl:<keras.layers.recurrent.LSTMCell object at 0x28ccca610> has the same name 'LSTMCell' as a built-in Keras object. Consider renaming <class 'keras.layers.recurrent.LSTMCell'> to avoid naming conflicts when loading with `tf.keras.models.load_model`. If renaming is not possible, pass the object in the `custom_objects` parameter of the load function.\n",
      "WARNING:absl:<keras.layers.recurrent.LSTMCell object at 0x28f614160> has the same name 'LSTMCell' as a built-in Keras object. Consider renaming <class 'keras.layers.recurrent.LSTMCell'> to avoid naming conflicts when loading with `tf.keras.models.load_model`. If renaming is not possible, pass the object in the `custom_objects` parameter of the load function.\n"
     ]
    },
    {
     "name": "stdout",
     "output_type": "stream",
     "text": [
      "63/63 [==============================] - 88s 1s/step - loss: 0.2388 - val_loss: 0.4427\n",
      "Epoch 30/30\n",
      "63/63 [==============================] - ETA: 0s - loss: 0.2194\n",
      "Epoch 30: val_loss improved from 0.44274 to 0.42990, saving model to model.h1.6_nov_22\n"
     ]
    },
    {
     "name": "stderr",
     "output_type": "stream",
     "text": [
      "WARNING:absl:Found untraced functions such as lstm_cell_layer_call_fn, lstm_cell_layer_call_and_return_conditional_losses, lstm_cell_1_layer_call_fn, lstm_cell_1_layer_call_and_return_conditional_losses while saving (showing 4 of 4). These functions will not be directly callable after loading.\n"
     ]
    },
    {
     "name": "stdout",
     "output_type": "stream",
     "text": [
      "INFO:tensorflow:Assets written to: model.h1.6_nov_22/assets\n"
     ]
    },
    {
     "name": "stderr",
     "output_type": "stream",
     "text": [
      "INFO:tensorflow:Assets written to: model.h1.6_nov_22/assets\n",
      "WARNING:absl:<keras.layers.recurrent.LSTMCell object at 0x28ccca610> has the same name 'LSTMCell' as a built-in Keras object. Consider renaming <class 'keras.layers.recurrent.LSTMCell'> to avoid naming conflicts when loading with `tf.keras.models.load_model`. If renaming is not possible, pass the object in the `custom_objects` parameter of the load function.\n",
      "WARNING:absl:<keras.layers.recurrent.LSTMCell object at 0x28f614160> has the same name 'LSTMCell' as a built-in Keras object. Consider renaming <class 'keras.layers.recurrent.LSTMCell'> to avoid naming conflicts when loading with `tf.keras.models.load_model`. If renaming is not possible, pass the object in the `custom_objects` parameter of the load function.\n"
     ]
    },
    {
     "name": "stdout",
     "output_type": "stream",
     "text": [
      "63/63 [==============================] - 91s 1s/step - loss: 0.2194 - val_loss: 0.4299\n"
     ]
    }
   ],
   "source": [
    "filename = 'model.h1.6_nov_22'\n",
    "checkpoint = ModelCheckpoint(filename, monitor='val_loss', verbose=1, save_best_only=True, mode='min')\n",
    "\n",
    "########## Train the Model\n",
    "history = model.fit(trainX, trainY.reshape(trainY.shape[0], trainY.shape[1], 1),\n",
    "                    epochs=30, batch_size=512, validation_split = 0.2,callbacks=[checkpoint], \n",
    "                    verbose=1)"
   ]
  },
  {
   "cell_type": "code",
   "execution_count": 18,
   "metadata": {},
   "outputs": [
    {
     "data": {
      "image/png": "[encoded data removed]",
      "text/plain": [
       "<Figure size 640x480 with 1 Axes>"
      ]
     },
     "metadata": {},
     "output_type": "display_data"
    }
   ],
   "source": [
    "plt.plot(history.history['loss'])\n",
    "plt.plot(history.history['val_loss'])\n",
    "plt.legend(['train','validation'])\n",
    "plt.show()"
   ]
  },
  {
   "cell_type": "markdown",
   "metadata": {},
   "source": [
    "## Prediction on Unseen Data"
   ]
  },
  {
   "cell_type": "code",
   "execution_count": 19,
   "metadata": {},
   "outputs": [
    {
     "name": "stderr",
     "output_type": "stream",
     "text": [
      "2022-11-06 17:23:49.623373: W tensorflow/core/common_runtime/graph_constructor.cc:803] Node 'cond/while' has 13 outputs but the _output_shapes attribute specifies shapes for 46 outputs. Output shapes may be inaccurate.\n",
      "2022-11-06 17:23:51.959963: W tensorflow/core/common_runtime/graph_constructor.cc:803] Node 'cond/while' has 13 outputs but the _output_shapes attribute specifies shapes for 46 outputs. Output shapes may be inaccurate.\n",
      "2022-11-06 17:23:52.386990: W tensorflow/core/common_runtime/graph_constructor.cc:803] Node 'cond/while' has 13 outputs but the _output_shapes attribute specifies shapes for 46 outputs. Output shapes may be inaccurate.\n",
      "2022-11-06 17:23:52.396252: W tensorflow/core/common_runtime/graph_constructor.cc:803] Node 'cond' has 5 outputs but the _output_shapes attribute specifies shapes for 46 outputs. Output shapes may be inaccurate.\n",
      "2022-11-06 17:23:52.525886: W tensorflow/core/common_runtime/graph_constructor.cc:803] Node 'cond/while' has 13 outputs but the _output_shapes attribute specifies shapes for 46 outputs. Output shapes may be inaccurate.\n",
      "2022-11-06 17:23:52.533869: W tensorflow/core/common_runtime/graph_constructor.cc:803] Node 'cond' has 5 outputs but the _output_shapes attribute specifies shapes for 46 outputs. Output shapes may be inaccurate.\n",
      "2022-11-06 17:23:52.582083: W tensorflow/core/common_runtime/graph_constructor.cc:803] Node 'cond/while' has 13 outputs but the _output_shapes attribute specifies shapes for 46 outputs. Output shapes may be inaccurate.\n",
      "2022-11-06 17:23:52.590716: W tensorflow/core/common_runtime/graph_constructor.cc:803] Node 'cond' has 5 outputs but the _output_shapes attribute specifies shapes for 46 outputs. Output shapes may be inaccurate.\n",
      "2022-11-06 17:23:52.765192: W tensorflow/core/common_runtime/graph_constructor.cc:803] Node 'cond' has 5 outputs but the _output_shapes attribute specifies shapes for 46 outputs. Output shapes may be inaccurate.\n",
      "2022-11-06 17:23:52.833962: W tensorflow/core/common_runtime/graph_constructor.cc:803] Node 'cond/while' has 13 outputs but the _output_shapes attribute specifies shapes for 46 outputs. Output shapes may be inaccurate.\n",
      "2022-11-06 17:23:52.841417: W tensorflow/core/common_runtime/graph_constructor.cc:803] Node 'cond' has 5 outputs but the _output_shapes attribute specifies shapes for 46 outputs. Output shapes may be inaccurate.\n",
      "2022-11-06 17:23:52.919104: W tensorflow/core/common_runtime/graph_constructor.cc:803] Node 'cond/while' has 13 outputs but the _output_shapes attribute specifies shapes for 46 outputs. Output shapes may be inaccurate.\n",
      "2022-11-06 17:23:52.926811: W tensorflow/core/common_runtime/graph_constructor.cc:803] Node 'cond' has 5 outputs but the _output_shapes attribute specifies shapes for 46 outputs. Output shapes may be inaccurate.\n",
      "2022-11-06 17:23:53.520362: W tensorflow/core/common_runtime/graph_constructor.cc:803] Node 'cond' has 5 outputs but the _output_shapes attribute specifies shapes for 46 outputs. Output shapes may be inaccurate.\n"
     ]
    }
   ],
   "source": [
    "import numpy as np\n",
    "model = load_model(filename)\n",
    "\n",
    "temp=model.predict(testX.reshape((testX.shape[0],testX.shape[1]))) \n",
    "preds=np.argmax(temp,axis=1)\n",
    "\n"
   ]
  },
  {
   "cell_type": "code",
   "execution_count": 20,
   "metadata": {},
   "outputs": [],
   "source": [
    "def get_word(n, tokenizer):\n",
    "    for word, index in tokenizer.word_index.items():\n",
    "        if index == n:\n",
    "            return word\n",
    "    return None"
   ]
  },
  {
   "cell_type": "code",
   "execution_count": 21,
   "metadata": {},
   "outputs": [],
   "source": [
    "preds_text = []\n",
    "for i in preds:\n",
    "    temp = []\n",
    "    for j in range(len(i)):\n",
    "        t = get_word(i[j], eng_tokenizer)\n",
    "        if j > 0:\n",
    "            if (t == get_word(i[j-1], eng_tokenizer)) or (t == None):\n",
    "                temp.append('')\n",
    "            else:\n",
    "                temp.append(t)\n",
    "        else:\n",
    "            if(t == None):\n",
    "                temp.append('')\n",
    "            else:\n",
    "                temp.append(t) \n",
    "\n",
    "    preds_text.append(' '.join(temp))"
   ]
  },
  {
   "cell_type": "code",
   "execution_count": 22,
   "metadata": {},
   "outputs": [
    {
     "data": {
      "text/plain": [
       "6944"
      ]
     },
     "execution_count": 22,
     "metadata": {},
     "output_type": "execute_result"
    }
   ],
   "source": [
    "temp = np.array(preds_text)\n",
    "len(temp[0])"
   ]
  },
  {
   "cell_type": "code",
   "execution_count": 23,
   "metadata": {},
   "outputs": [],
   "source": [
    "pred_df = pd.DataFrame({'actual' : test[:,1], 'predicted' : preds_text})"
   ]
  },
  {
   "cell_type": "code",
   "execution_count": 24,
   "metadata": {},
   "outputs": [
    {
     "data": {
      "text/html": [
       "<div>\n",
       "<style scoped>\n",
       "    .dataframe tbody tr th:only-of-type {\n",
       "        vertical-align: middle;\n",
       "    }\n",
       "\n",
       "    .dataframe tbody tr th {\n",
       "        vertical-align: top;\n",
       "    }\n",
       "\n",
       "    .dataframe thead th {\n",
       "        text-align: right;\n",
       "    }\n",
       "</style>\n",
       "<table border=\"1\" class=\"dataframe\">\n",
       "  <thead>\n",
       "    <tr style=\"text-align: right;\">\n",
       "      <th></th>\n",
       "      <th>actual</th>\n",
       "      <th>predicted</th>\n",
       "    </tr>\n",
       "  </thead>\n",
       "  <tbody>\n",
       "    <tr>\n",
       "      <th>0</th>\n",
       "      <td>video dvd could not be opened</td>\n",
       "      <td>project  of  the    the  of a to  the  the  s  the       file   of             the  the  the to  the  to   the file  of the s     file  the    s  the  file  to  the   s  the   file   to the       ...</td>\n",
       "    </tr>\n",
       "    <tr>\n",
       "      <th>1</th>\n",
       "      <td>translator  credits</td>\n",
       "      <td>s project  a  to file project  file  project the  project  file project   a the  to a   project a to project to  a project the  to project  to  project  project  the file  a to  a  the  to the pro...</td>\n",
       "    </tr>\n",
       "    <tr>\n",
       "      <th>2</th>\n",
       "      <td>next document</td>\n",
       "      <td>s file to a the to the  project the  s   a the to  the   the     the    to            the    the to  the        the project the     the to  to     the   the  the    project a the   to   to   the  ...</td>\n",
       "    </tr>\n",
       "    <tr>\n",
       "      <th>3</th>\n",
       "      <td>unknown notification</td>\n",
       "      <td>project to the to  to the  to the to  the  the to the   to      to     to  the to     to      to   to  to  to    the   to  the   to   the       of to   to   to    the to      to the  to   to      ...</td>\n",
       "    </tr>\n",
       "    <tr>\n",
       "      <th>4</th>\n",
       "      <td>the scrolling direction</td>\n",
       "      <td>s  the      the   s     to    the to   to      to          to     file  to  the  the       to    project    to           the  to  the file    to   of     the to  the          to the    to  the to ...</td>\n",
       "    </tr>\n",
       "    <tr>\n",
       "      <th>5</th>\n",
       "      <td>natural height set</td>\n",
       "      <td>project the    to   the   a to  to  of the       to of the to  the of  the    the  the   to the   a the   the  the to  the  to the to  to the    the  to the  to the to  the a the to the   the of t...</td>\n",
       "    </tr>\n",
       "    <tr>\n",
       "      <th>6</th>\n",
       "      <td>control style</td>\n",
       "      <td>file the          file the  the  the         the  the  the   the    the  the      the project the   the     the   the a  the     the    the     the       the a the   the   a the to the  the  the  ...</td>\n",
       "    </tr>\n",
       "    <tr>\n",
       "      <th>7</th>\n",
       "      <td>vertical repeat</td>\n",
       "      <td>s the    to the project the  the     the        the  the    the   the      the     the           the    the  the     the     the    the   the                        the   the  the     the   the   ...</td>\n",
       "    </tr>\n",
       "    <tr>\n",
       "      <th>8</th>\n",
       "      <td>apply selected stash</td>\n",
       "      <td>project the  to the to      of to  to   the to the to    to  the to   to  the   the to  to   to the to   the to  to  the   the  to the to  to the   to the to   the  to      to the to  to of the to...</td>\n",
       "    </tr>\n",
       "    <tr>\n",
       "      <th>9</th>\n",
       "      <td>x start scale</td>\n",
       "      <td>s  the     the project the  project the  the  the to the   to   to  the to  the project   the  the   to     the  project to     the      the project  the    the to  to    the to   the    to  to fi...</td>\n",
       "    </tr>\n",
       "    <tr>\n",
       "      <th>10</th>\n",
       "      <td>are you sure that you do not want a log message</td>\n",
       "      <td>project  of the of   a s the of  to  the a the  a the a   a the     a  to a  to a the     the  the  the a of  the     of the   to  the  the to    a the  the  a the  a  to  the  to of the    the   ...</td>\n",
       "    </tr>\n",
       "    <tr>\n",
       "      <th>11</th>\n",
       "      <td>bookmark selected accessible</td>\n",
       "      <td>file the    of   project file  project to  to   the to the to the   to  the   the   the to  the      to the    the   the  the   the   the to  the  project  the  to   the  the  project  the  to the...</td>\n",
       "    </tr>\n",
       "    <tr>\n",
       "      <th>12</th>\n",
       "      <td>d</td>\n",
       "      <td>project the      the    of    the      the                      the      the       the           the      s       a     of  the      the             a                 the  the                     ...</td>\n",
       "    </tr>\n",
       "    <tr>\n",
       "      <th>13</th>\n",
       "      <td>spider</td>\n",
       "      <td>project  the of  the   of the a  the  s the a the   a    the  s the to  a  the  the   the   the  the   s  a  the      the   a     the  the      the    the     the  a  the a the   project   the    ...</td>\n",
       "    </tr>\n",
       "    <tr>\n",
       "      <th>14</th>\n",
       "      <td>version</td>\n",
       "      <td>project of to     the to  the of    the of  the   the  of  of  the  the of  the  of         to   the to  the   to   the   of the              a  the  to    to s  the of   to of the   of   the    t...</td>\n",
       "    </tr>\n",
       "  </tbody>\n",
       "</table>\n",
       "</div>"
      ],
      "text/plain": [
       "                                             actual  \\\n",
       "0                     video dvd could not be opened   \n",
       "1                               translator  credits   \n",
       "2                                     next document   \n",
       "3                              unknown notification   \n",
       "4                           the scrolling direction   \n",
       "5                                natural height set   \n",
       "6                                     control style   \n",
       "7                                   vertical repeat   \n",
       "8                              apply selected stash   \n",
       "9                                     x start scale   \n",
       "10  are you sure that you do not want a log message   \n",
       "11                     bookmark selected accessible   \n",
       "12                                                d   \n",
       "13                                           spider   \n",
       "14                                          version   \n",
       "\n",
       "                                                                                                                                                                                                  predicted  \n",
       "0   project  of  the    the  of a to  the  the  s  the       file   of             the  the  the to  the  to   the file  of the s     file  the    s  the  file  to  the   s  the   file   to the       ...  \n",
       "1   s project  a  to file project  file  project the  project  file project   a the  to a   project a to project to  a project the  to project  to  project  project  the file  a to  a  the  to the pro...  \n",
       "2   s file to a the to the  project the  s   a the to  the   the     the    to            the    the to  the        the project the     the to  to     the   the  the    project a the   to   to   the  ...  \n",
       "3   project to the to  to the  to the to  the  the to the   to      to     to  the to     to      to   to  to  to    the   to  the   to   the       of to   to   to    the to      to the  to   to      ...  \n",
       "4   s  the      the   s     to    the to   to      to          to     file  to  the  the       to    project    to           the  to  the file    to   of     the to  the          to the    to  the to ...  \n",
       "5   project the    to   the   a to  to  of the       to of the to  the of  the    the  the   to the   a the   the  the to  the  to the to  to the    the  to the  to the to  the a the to the   the of t...  \n",
       "6   file the          file the  the  the         the  the  the   the    the  the      the project the   the     the   the a  the     the    the     the       the a the   the   a the to the  the  the  ...  \n",
       "7   s the    to the project the  the     the        the  the    the   the      the     the           the    the  the     the     the    the   the                        the   the  the     the   the   ...  \n",
       "8   project the  to the to      of to  to   the to the to    to  the to   to  the   the to  to   to the to   the to  to  the   the  to the to  to the   to the to   the  to      to the to  to of the to...  \n",
       "9   s  the     the project the  project the  the  the to the   to   to  the to  the project   the  the   to     the  project to     the      the project  the    the to  to    the to   the    to  to fi...  \n",
       "10  project  of the of   a s the of  to  the a the  a the a   a the     a  to a  to a the     the  the  the a of  the     of the   to  the  the to    a the  the  a the  a  to  the  to of the    the   ...  \n",
       "11  file the    of   project file  project to  to   the to the to the   to  the   the   the to  the      to the    the   the  the   the   the to  the  project  the  to   the  the  project  the  to the...  \n",
       "12  project the      the    of    the      the                      the      the       the           the      s       a     of  the      the             a                 the  the                     ...  \n",
       "13  project  the of  the   of the a  the  s the a the   a    the  s the to  a  the  the   the   the  the   s  a  the      the   a     the  the      the    the     the  a  the a the   project   the    ...  \n",
       "14  project of to     the to  the of    the of  the   the  of  of  the  the of  the  of         to   the to  the   to   the   of the              a  the  to    to s  the of   to of the   of   the    t...  "
      ]
     },
     "execution_count": 24,
     "metadata": {},
     "output_type": "execute_result"
    }
   ],
   "source": [
    "# print 15 rows randomly\n",
    "pred_df.head(15)"
   ]
  },
  {
   "cell_type": "code",
   "execution_count": 27,
   "metadata": {},
   "outputs": [
    {
     "data": {
      "text/plain": [
       "'project  of  the    the  of a to  the  the  s  the       file   of             the  the  the to  the  to   the file  of the s     file  the    s  the  file  to  the   s  the   file   to the          the   the   to    the   the  s  the   file     the      s    s  the    the     s  the  to      the s       file    the file the  the  to the  s   to   the    the   s      the  the     the    s the  s of file  file s the s    the   the     the    s file  the  file s    s  the  the  file s  the   the file   the  the file s     the    the   the     s  s  s file s the  file  the  the  file s     the   the   s   the file the   s  the  the   the      the to s  to the  s the   s   the   s file the   the     s the  s the s    the  s       s  the    s     the file the   s     the s  the  s the   s the   to the     the file s   file  the s  the    the   file  file the   to  s    file   the s  the     file  s    the s    the  the   file the   s   s  to the file  s file the   s the   to     the  s the  the s   file  file     file  file  the  the s  of     s the file the  s  the  s   file  s  the  file s    to  the s    the  s the  s  s  the  to  s  the   the   to the to the  the    the   s  the to the  s   file s  the  the   s  s  to the         the  file  the   to the   s the  the   to the   s   s file the   file  the to the s  the     the file  s  to     file     to    s the  s the  the   the s  the  s    the   the a the   the   the    the  file     the file the   s  s   s  to  s the   to      the   the    s  file the    s  the  s  s   the  file  the    s a  to  to  s to    file   the s file  s  file  the    s  s the s the s to the file   s  file  the   the file  to s  to     the    the   s the   the  s file     the to s file   the  s file the      the  s   to     the      s the  the  file the   s file  the  s  s to s   file   the file s the   the s   s to s  the  s    the s file the s the     s  to  s the s  file the   the   the  the s    the   s              to  the to   s    s the   s the  s     the    the file  s file  to  the  the to s  file   to s  file  the  the   the s  file the s   the s  the to  s   the file s to  the   to the s to  the  the    to  file   to the     the  to the s  s   to file the  s the s the    s   the s the      the   the  file s         the    to s the s    s the   the  to     s the   to file   the s the to  s to s file  the        to  s  the     the s    s    s  the  s file s to the  the  to s  the to the  to s  to file    file to  the  s   the s    the   file s  the s the s     s    to s    s the  the   the     the   the file  to  the   file  s    s the  to the   file  the      to  s file  to    file    the   the s  s  the file  s to the s  s   s    file   the  to  the to  s    the    s the  the  the to        to s file s  to  the s      the  s    s  the   s    file s file the to s the s  the s file s the   to    s to the    the    to     the  the  s      s file to the file s the           s   s to the   s   s the  file s      s file to the  s  to  s    s  the   the file the           file of  the to the s  the to  s  the  to  the   the  file s  to   file  the        the   the  s  to s   the   s file  s      the s the s  s  the  s  the   s    file  s   s    to file  file the    the  s   to   s    s file the   the s     s  to file s the  s file  file         file  s         the      s the    s    s  s the  the to     file s     s file  s  s to    s the  the  the  file the    the to           file           the to  s   to the file the     s  s file the s  file     the   the    to    file  to  s the to  the file s   s   the  s  file  to s    s  the s  s    the to  s  s     to the  s the s  the to file  s   s   the    the  the file the  to   the    s   to  to  the   the        to   to    file the to the s  to s   the  s  the to      the      the     file s the  the  the  s   the      the s to  the  the   the   s to        the        s   file   a file s   file s   to   s file  file the  the  of the s to       the s    the to the s       s    s        the     the  the  file s   file   the   s file   the  s  the project the  s   to s to the       to s   s  to the  s       s the   s  s      the    the     file to   the          s the to   the   file  to the         file     the  s file   the  the to     the file   file s the    file  s      the         the    the        file   s the s  s file  the  s file  file   the to   s    the   the     s  file      s         s the    the    s   the    the   the   the s      to     the s       to     s   the file    the          to    to        s the file  the s      the    the   the   file to     the     the  to s to    to s      the    the         s  the of s     the s  the     to file to  s   s to     s  the  s  to s  the s  the   the  the   s the s the s  s   s  to the  file s  s     s the  the  the      s file s     s                               the                                          s     s         s     the    the s   s   s  file s  s file  s  file to the file s     to  s to    s  to  the  s the  to  file   to file    s       to  the     the   the   s   file s to     s file  the  the   the   the file s   the s  file  s   to the to the   to the       to      the s  file  s the s  the  to  to file   s file s the s  the    to  s  file s  the s   the s    s   file   s the   s        s file the file  the file    file   s  the   the  s the  s   the   the   s  the s    the    the   s   the s the   the file the s   file s the s     the         the   s  file  file   to  file    to     the   file  the s    to s   to   the       s        s      s        to file  the s the  the  the s   the  the        file     the   s the     to s  s  the   the    the  the  s      s       s  s   s  file s       the file  s the file       file  to            the  s  to  the   to    s the   s  to s   s        file  s  s   s         s  to             file to    file      the   the   the  s     s     the    s file            s to s to  file   s  the        s   s to      file           the    file      file the  file  s     the  the   the file of    the     file s  s     s the    the      file            to the   s file    the   s   s          file the    file  to  s  the   the   file  the      s the   the   file   s        the   file the  the      s  s file s    file  s  to  file  the file     the  to   s to  file      s   s   the      to s    s file       the to file   the    the                                      the          the  the s    the  s  s     the                 the   s       s file            file     s the   file s    the s   to     the       s      file      s the         the   s  file    file  the   the   the    the to the    s  the     the        the     the    file    s  the     the                        the     the      the  the     the file the    s  the       the      the   to        s  s the   the  the s           the            s  file the           file   '"
      ]
     },
     "execution_count": 27,
     "metadata": {},
     "output_type": "execute_result"
    }
   ],
   "source": [
    "pred_df['predicted'][0]"
   ]
  },
  {
   "cell_type": "code",
   "execution_count": null,
   "metadata": {},
   "outputs": [],
   "source": []
  }
 ],
 "metadata": {
  "kernelspec": {
   "display_name": "Display Kernel Name is Kanye ",
   "language": "python",
   "name": "west-kanye"
  },
  "language_info": {
   "codemirror_mode": {
    "name": "ipython",
    "version": 3
   },
   "file_extension": ".py",
   "mimetype": "text/x-python",
   "name": "python",
   "nbconvert_exporter": "python",
   "pygments_lexer": "ipython3",
   "version": "3.9.13"
  }
 },
 "nbformat": 4,
 "nbformat_minor": 2
}
