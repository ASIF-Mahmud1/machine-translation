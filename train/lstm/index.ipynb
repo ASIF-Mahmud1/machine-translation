{
 "cells": [
  {
   "cell_type": "code",
   "execution_count": 1,
   "metadata": {},
   "outputs": [
    {
     "name": "stdout",
     "output_type": "stream",
     "text": [
      "['/Users/learn/Desktop/Projects/machine-translation/train/lstm', '/Users/learn/.vscode/extensions/ms-toolsai.jupyter-2022.11.1003412109/pythonFiles', '/Users/learn/.vscode/extensions/ms-toolsai.jupyter-2022.11.1003412109/pythonFiles/lib/python', '/Users/learn/Desktop/Projects/machine-translation/.env/lib/python39.zip', '/Users/learn/Desktop/Projects/machine-translation/.env/lib/python3.9', '/Users/learn/Desktop/Projects/machine-translation/.env/lib/python3.9/lib-dynload', '', '/Users/learn/Desktop/Projects/machine-translation/.env/lib/python3.9/site-packages']\n",
      "['/Users/learn/Desktop/Projects/machine-translation/train/lstm', '/Users/learn/.vscode/extensions/ms-toolsai.jupyter-2022.11.1003412109/pythonFiles', '/Users/learn/.vscode/extensions/ms-toolsai.jupyter-2022.11.1003412109/pythonFiles/lib/python', '/Users/learn/Desktop/Projects/machine-translation/.env/lib/python39.zip', '/Users/learn/Desktop/Projects/machine-translation/.env/lib/python3.9', '/Users/learn/Desktop/Projects/machine-translation/.env/lib/python3.9/lib-dynload', '', '/Users/learn/Desktop/Projects/machine-translation/.env/lib/python3.9/site-packages', '/Users/learn/Desktop/Projects/machine-translation/helper', '/Users/learn/Desktop/Projects/machine-translation/utils', '/Users/learn/Desktop/Projects/machine-translation/test/helper', '/Users/learn/Desktop/Projects/machine-translation/utils', '/Users/learn/Desktop/Projects/machine-translation/data', '/Users/learn/Desktop/Projects/machine-translation/train/lstm/create-model/lstm']\n"
     ]
    }
   ],
   "source": [
    "import string\n",
    "import re\n",
    "from numpy import array, argmax, random, take\n",
    "import pandas as pd\n",
    "from keras.models import Sequential\n",
    "from keras.layers import Dense, LSTM, Embedding, RepeatVector\n",
    "from keras.preprocessing.text import Tokenizer\n",
    "from keras.callbacks import ModelCheckpoint\n",
    "from keras.preprocessing.sequence import pad_sequences\n",
    "from keras.models import load_model\n",
    "from tensorflow.keras import optimizers\n",
    "import matplotlib.pyplot as plt\n",
    "import os\n",
    "import sys\n",
    "from statistics import mean\n",
    "import pickle\n",
    "\n",
    "%matplotlib inline\n",
    "pd.set_option('display.max_colwidth', 200)\n",
    "\n",
    "\n",
    "def handle_helper_functions():\n",
    "    print(sys.path)\n",
    "    directory_path = os.path.abspath(os.path.join('../../helper'))\n",
    "    if directory_path not in sys.path:\n",
    "        sys.path.append(directory_path)    \n",
    "\n",
    "    translation_path=os.path.abspath(os.path.join('../../utils')) \n",
    "    if translation_path not in sys.path:\n",
    "        sys.path.append(translation_path)   \n",
    "    sys.path.append('/Users/learn/Desktop/Projects/machine-translation/test/helper')                                       \n",
    "    sys.path.append('/Users/learn/Desktop/Projects/machine-translation/utils')\n",
    "    sys.path.append('/Users/learn/Desktop/Projects/machine-translation/data')\n",
    "\n",
    "\n",
    "    lstm_helper_path = os.path.abspath(os.path.join('./create-model/lstm/'))\n",
    "    if lstm_helper_path not in sys.path:\n",
    "        sys.path.append(lstm_helper_path)    \n",
    "\n",
    "    print(sys.path)\n",
    "    \n",
    "\n",
    "handle_helper_functions()"
   ]
  },
  {
   "attachments": {},
   "cell_type": "markdown",
   "metadata": {},
   "source": [
    "### Importing Path of Helper Functions"
   ]
  },
  {
   "cell_type": "code",
   "execution_count": 2,
   "metadata": {},
   "outputs": [
    {
     "name": "stderr",
     "output_type": "stream",
     "text": [
      "Using custom data configuration cfilt--iitb-english-hindi-911387c6837f8b91\n",
      "Reusing dataset parquet (/Users/learn/.cache/huggingface/datasets/parquet/cfilt--iitb-english-hindi-911387c6837f8b91/0.0.0/1638526fd0e8d960534e2155dc54fdff8dce73851f21f031d2fb9c2cf757c121)\n"
     ]
    },
    {
     "data": {
      "application/vnd.jupyter.widget-view+json": {
       "model_id": "42821189a7594371861c8419ca27d3f6",
       "version_major": 2,
       "version_minor": 0
      },
      "text/plain": [
       "  0%|          | 0/3 [00:00<?, ?it/s]"
      ]
     },
     "metadata": {},
     "output_type": "display_data"
    }
   ],
   "source": [
    "from nltk.translate.bleu_score import sentence_bleu\n",
    "import tensorflow_text as text\n",
    "from scoreTest import get_cosine_val, get_BLEU_score, get_ROUGE_score\n",
    "from translate import  translate_sentence\n",
    "from preprocessing_text import removePunctuation, toLowercase\n",
    "from iit_dataset import createDataset"
   ]
  },
  {
   "cell_type": "code",
   "execution_count": 3,
   "metadata": {},
   "outputs": [],
   "source": [
    "import warnings\n",
    "warnings.filterwarnings('ignore')\n",
    "import string\n",
    "import re\n",
    "from unicodedata import normalize\n",
    "import numpy as np\n",
    "from keras.preprocessing.text import Tokenizer\n",
    "from keras.preprocessing.sequence import pad_sequences\n",
    "from tensorflow.keras.utils import to_categorical\n",
    "import tensorflow as tf\n",
    "from keras.models import Sequential,load_model\n",
    "from keras.layers import LSTM,Dense,Embedding,RepeatVector,TimeDistributed\n",
    "from keras.callbacks import EarlyStopping\n",
    "from keras.preprocessing.text import Tokenizer\n",
    "from keras.preprocessing.sequence import pad_sequences\n",
    "from nltk.translate.bleu_score import corpus_bleu\n",
    "import pandas as pd\n",
    "from string import punctuation\n",
    "import matplotlib.pyplot as plt\n",
    "from IPython.display import Markdown, display\n",
    "\n",
    "def printmd(string):\n",
    "    # Print with Markdowns    \n",
    "    display(Markdown(string))"
   ]
  },
  {
   "cell_type": "code",
   "execution_count": 4,
   "metadata": {},
   "outputs": [],
   "source": [
    "data_size=15000\n",
    "\n",
    "pool_oftexts, pairs =createDataset(data_size=data_size, type=\"train\")\n",
    "dataset= pool_oftexts"
   ]
  },
  {
   "cell_type": "code",
   "execution_count": 5,
   "metadata": {},
   "outputs": [
    {
     "data": {
      "text/markdown": [
       "## 5000 \"parallel sentences\" will be loaded (original sentence + its translation)"
      ],
      "text/plain": [
       "<IPython.core.display.Markdown object>"
      ]
     },
     "metadata": {},
     "output_type": "display_data"
    },
    {
     "data": {
      "text/markdown": [
       "## 4500 \"parallel sentences\" will be used to train the model"
      ],
      "text/plain": [
       "<IPython.core.display.Markdown object>"
      ]
     },
     "metadata": {},
     "output_type": "display_data"
    },
    {
     "data": {
      "text/markdown": [
       "## 500 \"parallel sentences\" will be used to test the model"
      ],
      "text/plain": [
       "<IPython.core.display.Markdown object>"
      ]
     },
     "metadata": {},
     "output_type": "display_data"
    }
   ],
   "source": [
    "# How many sentences will be used\n",
    "# Limit the sentences to 10.000 on Kaggle to avoid exceding the\n",
    "# available RAM space\n",
    "# Build a generator to avoid this issue\n",
    "\n",
    "total_sentences = 5000\n",
    "\n",
    "# Load the dataset\n",
    "\n",
    "# What proportion of the sentences will be used for the test set\n",
    "test_proportion = 0.1\n",
    "train_test_threshold = int( (1-test_proportion) * total_sentences)\n",
    "\n",
    "printmd(f'## {total_sentences} \"parallel sentences\" will be loaded (original sentence + its translation)')\n",
    "printmd(f'## {train_test_threshold} \"parallel sentences\" will be used to train the model')\n",
    "printmd(f'## {total_sentences-train_test_threshold} \"parallel sentences\" will be used to test the model')"
   ]
  },
  {
   "attachments": {},
   "cell_type": "markdown",
   "metadata": {},
   "source": [
    "Source and Target Index"
   ]
  },
  {
   "cell_type": "code",
   "execution_count": 6,
   "metadata": {},
   "outputs": [],
   "source": [
    "idx_src=0\n",
    "idx_tar = 1"
   ]
  },
  {
   "cell_type": "code",
   "execution_count": 7,
   "metadata": {},
   "outputs": [
    {
     "data": {
      "text/html": [
       "<div>\n",
       "<style scoped>\n",
       "    .dataframe tbody tr th:only-of-type {\n",
       "        vertical-align: middle;\n",
       "    }\n",
       "\n",
       "    .dataframe tbody tr th {\n",
       "        vertical-align: top;\n",
       "    }\n",
       "\n",
       "    .dataframe thead th {\n",
       "        text-align: right;\n",
       "    }\n",
       "</style>\n",
       "<table border=\"1\" class=\"dataframe\">\n",
       "  <thead>\n",
       "    <tr style=\"text-align: right;\">\n",
       "      <th></th>\n",
       "      <th>hindi</th>\n",
       "      <th>eng</th>\n",
       "    </tr>\n",
       "  </thead>\n",
       "  <tbody>\n",
       "    <tr>\n",
       "      <th>2395</th>\n",
       "      <td>बेकर्स खेल</td>\n",
       "      <td>bakers game</td>\n",
       "    </tr>\n",
       "    <tr>\n",
       "      <th>7095</th>\n",
       "      <td>त्रुटि</td>\n",
       "      <td>error</td>\n",
       "    </tr>\n",
       "    <tr>\n",
       "      <th>280</th>\n",
       "      <td>नाम</td>\n",
       "      <td>name</td>\n",
       "    </tr>\n",
       "    <tr>\n",
       "      <th>14696</th>\n",
       "      <td>विजेट नहीं मिलाः s</td>\n",
       "      <td>widget not found s</td>\n",
       "    </tr>\n",
       "    <tr>\n",
       "      <th>6487</th>\n",
       "      <td>छैतिज पैमाना</td>\n",
       "      <td>editor text transformation</td>\n",
       "    </tr>\n",
       "    <tr>\n",
       "      <th>11028</th>\n",
       "      <td>सभी खण्डन बिन्दु अक्षम करें</td>\n",
       "      <td>disable all breakpoints</td>\n",
       "    </tr>\n",
       "    <tr>\n",
       "      <th>2994</th>\n",
       "      <td>नियंत्रण की शैली का चयन करें</td>\n",
       "      <td>select the style of control</td>\n",
       "    </tr>\n",
       "    <tr>\n",
       "      <th>4624</th>\n",
       "      <td>टूटते तारे</td>\n",
       "      <td>falling stars</td>\n",
       "    </tr>\n",
       "    <tr>\n",
       "      <th>11901</th>\n",
       "      <td>जोड़ें समूह</td>\n",
       "      <td>cannot add group</td>\n",
       "    </tr>\n",
       "    <tr>\n",
       "      <th>1018</th>\n",
       "      <td>मान</td>\n",
       "      <td>value</td>\n",
       "    </tr>\n",
       "  </tbody>\n",
       "</table>\n",
       "</div>"
      ],
      "text/plain": [
       "                              hindi                          eng\n",
       "2395                     बेकर्स खेल                  bakers game\n",
       "7095                         त्रुटि                        error\n",
       "280                             नाम                         name\n",
       "14696            विजेट नहीं मिलाः s           widget not found s\n",
       "6487                   छैतिज पैमाना   editor text transformation\n",
       "11028   सभी खण्डन बिन्दु अक्षम करें      disable all breakpoints\n",
       "2994   नियंत्रण की शैली का चयन करें  select the style of control\n",
       "4624                     टूटते तारे                falling stars\n",
       "11901                   जोड़ें समूह             cannot add group\n",
       "1018                            मान                        value"
      ]
     },
     "execution_count": 7,
     "metadata": {},
     "output_type": "execute_result"
    }
   ],
   "source": [
    "# Shuffle the dataset\n",
    "dataset = dataset.sample(frac=1, random_state=0)\n",
    "dataset.iloc[1000:1010]"
   ]
  },
  {
   "cell_type": "code",
   "execution_count": 8,
   "metadata": {},
   "outputs": [],
   "source": [
    "def clean(string):\n",
    "    # Clean the string\n",
    "    string = string.replace(\"\\u202f\",\" \") # Replace no-break space with space\n",
    "    string = string.lower()\n",
    "    \n",
    "    # Delete the punctuation and the numbers\n",
    "    for p in punctuation + \"«»\" + \"0123456789\":\n",
    "        string = string.replace(p,\" \")\n",
    "        \n",
    "    string = re.sub('\\s+',' ', string)\n",
    "    string = string.strip()\n",
    "           \n",
    "    return string\n",
    "\n",
    "# Clean the sentences\n",
    "dataset[\"eng\"] = dataset[\"eng\"].apply(lambda x: clean(x))\n",
    "dataset[\"hindi\"] = dataset[\"hindi\"].apply(lambda x: clean(x))\n",
    "\n",
    "# Select one part of the dataset\n",
    "dataset = dataset.values\n",
    "dataset = dataset[:total_sentences]\n",
    "\n",
    "# split into train/test\n",
    "train, test = dataset[:train_test_threshold], dataset[train_test_threshold:]\n",
    "\n",
    "# Define the name of the source and of the target\n",
    "# This will be used in the outputs of this notebook\n",
    "source_str, target_str = \"Hindi\", \"English\"\n",
    "\n",
    "# The index in the numpy array of the source and of the target\n"
   ]
  },
  {
   "cell_type": "code",
   "execution_count": 9,
   "metadata": {},
   "outputs": [
    {
     "data": {
      "text/html": [
       "<div>\n",
       "<style scoped>\n",
       "    .dataframe tbody tr th:only-of-type {\n",
       "        vertical-align: middle;\n",
       "    }\n",
       "\n",
       "    .dataframe tbody tr th {\n",
       "        vertical-align: top;\n",
       "    }\n",
       "\n",
       "    .dataframe thead th {\n",
       "        text-align: right;\n",
       "    }\n",
       "</style>\n",
       "<table border=\"1\" class=\"dataframe\">\n",
       "  <thead>\n",
       "    <tr style=\"text-align: right;\">\n",
       "      <th></th>\n",
       "      <th>0</th>\n",
       "      <th>1</th>\n",
       "    </tr>\n",
       "  </thead>\n",
       "  <tbody>\n",
       "    <tr>\n",
       "      <th>0</th>\n",
       "      <td>बेकर्स खेल</td>\n",
       "      <td>bakers game</td>\n",
       "    </tr>\n",
       "    <tr>\n",
       "      <th>1</th>\n",
       "      <td>त्रुटि</td>\n",
       "      <td>error</td>\n",
       "    </tr>\n",
       "    <tr>\n",
       "      <th>2</th>\n",
       "      <td>नाम</td>\n",
       "      <td>name</td>\n",
       "    </tr>\n",
       "    <tr>\n",
       "      <th>3</th>\n",
       "      <td>विजेट नहीं मिलाः s</td>\n",
       "      <td>widget not found s</td>\n",
       "    </tr>\n",
       "    <tr>\n",
       "      <th>4</th>\n",
       "      <td>छैतिज पैमाना</td>\n",
       "      <td>editor text transformation</td>\n",
       "    </tr>\n",
       "    <tr>\n",
       "      <th>5</th>\n",
       "      <td>सभी खण्डन बिन्दु अक्षम करें</td>\n",
       "      <td>disable all breakpoints</td>\n",
       "    </tr>\n",
       "    <tr>\n",
       "      <th>6</th>\n",
       "      <td>नियंत्रण की शैली का चयन करें</td>\n",
       "      <td>select the style of control</td>\n",
       "    </tr>\n",
       "    <tr>\n",
       "      <th>7</th>\n",
       "      <td>टूटते तारे</td>\n",
       "      <td>falling stars</td>\n",
       "    </tr>\n",
       "    <tr>\n",
       "      <th>8</th>\n",
       "      <td>जोड़ें समूह</td>\n",
       "      <td>cannot add group</td>\n",
       "    </tr>\n",
       "    <tr>\n",
       "      <th>9</th>\n",
       "      <td>मान</td>\n",
       "      <td>value</td>\n",
       "    </tr>\n",
       "  </tbody>\n",
       "</table>\n",
       "</div>"
      ],
      "text/plain": [
       "                              0                            1\n",
       "0                    बेकर्स खेल                  bakers game\n",
       "1                        त्रुटि                        error\n",
       "2                           नाम                         name\n",
       "3            विजेट नहीं मिलाः s           widget not found s\n",
       "4                  छैतिज पैमाना   editor text transformation\n",
       "5   सभी खण्डन बिन्दु अक्षम करें      disable all breakpoints\n",
       "6  नियंत्रण की शैली का चयन करें  select the style of control\n",
       "7                    टूटते तारे                falling stars\n",
       "8                   जोड़ें समूह             cannot add group\n",
       "9                           मान                        value"
      ]
     },
     "execution_count": 9,
     "metadata": {},
     "output_type": "execute_result"
    }
   ],
   "source": [
    "pd.DataFrame(dataset[1000:1010])\n"
   ]
  },
  {
   "cell_type": "code",
   "execution_count": 10,
   "metadata": {},
   "outputs": [
    {
     "data": {
      "text/markdown": [
       "\n",
       "Target (English) Vocabulary Size: 1696"
      ],
      "text/plain": [
       "<IPython.core.display.Markdown object>"
      ]
     },
     "metadata": {},
     "output_type": "display_data"
    },
    {
     "data": {
      "text/markdown": [
       "Target (English) Max Length: 15"
      ],
      "text/plain": [
       "<IPython.core.display.Markdown object>"
      ]
     },
     "metadata": {},
     "output_type": "display_data"
    },
    {
     "data": {
      "text/markdown": [
       "\n",
       "Source (Hindi) Vocabulary Size: 2032"
      ],
      "text/plain": [
       "<IPython.core.display.Markdown object>"
      ]
     },
     "metadata": {},
     "output_type": "display_data"
    },
    {
     "data": {
      "text/markdown": [
       "Source (Hindi) Max Length: 15\n"
      ],
      "text/plain": [
       "<IPython.core.display.Markdown object>"
      ]
     },
     "metadata": {},
     "output_type": "display_data"
    }
   ],
   "source": [
    "def create_tokenizer(lines):\n",
    "    # fit a tokenizer\n",
    "    tokenizer = Tokenizer()\n",
    "    tokenizer.fit_on_texts(lines)\n",
    "    return tokenizer\n",
    " \n",
    "\n",
    "def encode_sequences(tokenizer, length, lines):\n",
    "    # encode and pad sequences\n",
    "    X = tokenizer.texts_to_sequences(lines) # integer encode sequences\n",
    "    X = pad_sequences(X, maxlen=length, padding='post') # pad sequences with 0 values\n",
    "    return X\n",
    " \n",
    "def encode_output(sequences, vocab_size):\n",
    "    # one hot encode target sequence\n",
    "    ylist = list()\n",
    "    for sequence in sequences:\n",
    "        encoded = to_categorical(sequence, num_classes=vocab_size)\n",
    "        ylist.append(encoded)\n",
    "    y = np.array(ylist)\n",
    "    y = y.reshape(sequences.shape[0], sequences.shape[1], vocab_size)\n",
    "    return y\n",
    " \n",
    "# Prepare target tokenizer\n",
    "tar_tokenizer = create_tokenizer(dataset[:, idx_tar]) #save\n",
    "tar_vocab_size = len(tar_tokenizer.word_index) + 1  #save\n",
    "tar_length = 15  #save\n",
    "printmd(f'\\nTarget ({target_str}) Vocabulary Size: {tar_vocab_size}')\n",
    "printmd(f'Target ({target_str}) Max Length: {tar_length}')\n",
    "\n",
    "# Prepare source tokenizer\n",
    "src_tokenizer = create_tokenizer(dataset[:, idx_src])  #save\n",
    "src_vocab_size = len(src_tokenizer.word_index) + 1  #save\n",
    "src_length = 15  #save\n",
    "printmd(f'\\nSource ({source_str}) Vocabulary Size: {src_vocab_size}')\n",
    "printmd(f'Source ({source_str}) Max Length: {src_length}\\n')\n",
    " \n",
    "# Prepare training data\n",
    "trainX = encode_sequences(src_tokenizer, src_length, train[:, idx_src])\n",
    "trainY = encode_sequences(tar_tokenizer, tar_length, train[:, idx_tar])\n",
    "trainY = encode_output(trainY, tar_vocab_size)\n",
    "\n",
    "# Prepare test data\n",
    "testX = encode_sequences(src_tokenizer, src_length, test[:, idx_src])\n",
    "testY = encode_sequences(tar_tokenizer, tar_length, test[:, idx_tar])\n",
    "testY = encode_output(testY, tar_vocab_size)"
   ]
  },
  {
   "cell_type": "code",
   "execution_count": 11,
   "metadata": {},
   "outputs": [
    {
     "name": "stdout",
     "output_type": "stream",
     "text": [
      "Epoch 1/200\n"
     ]
    },
    {
     "name": "stderr",
     "output_type": "stream",
     "text": [
      "2023-01-21 23:25:44.486417: W tensorflow/core/platform/profile_utils/cpu_utils.cc:128] Failed to get CPU frequency: 0 Hz\n"
     ]
    },
    {
     "name": "stdout",
     "output_type": "stream",
     "text": [
      "64/64 [==============================] - 8s 90ms/step - loss: 2.9562 - val_loss: 1.7104\n",
      "Epoch 2/200\n",
      "64/64 [==============================] - 5s 82ms/step - loss: 1.6455 - val_loss: 1.5779\n",
      "Epoch 3/200\n",
      "64/64 [==============================] - 6s 91ms/step - loss: 1.5568 - val_loss: 1.5928\n",
      "Epoch 4/200\n",
      "64/64 [==============================] - 6s 91ms/step - loss: 1.5808 - val_loss: 1.7649\n",
      "Epoch 5/200\n",
      "64/64 [==============================] - 6s 95ms/step - loss: 1.6033 - val_loss: 1.7215\n",
      "Epoch 6/200\n",
      "64/64 [==============================] - 6s 94ms/step - loss: 1.5819 - val_loss: 1.7251\n",
      "Epoch 7/200\n",
      "64/64 [==============================] - 6s 90ms/step - loss: 1.5592 - val_loss: 1.6827\n",
      "Epoch 8/200\n",
      "64/64 [==============================] - 6s 90ms/step - loss: 1.5199 - val_loss: 1.6294\n",
      "Epoch 9/200\n",
      "64/64 [==============================] - 6s 88ms/step - loss: 1.4704 - val_loss: 1.5709\n",
      "Epoch 10/200\n",
      "64/64 [==============================] - 5s 84ms/step - loss: 1.4402 - val_loss: 1.5499\n",
      "Epoch 11/200\n",
      "64/64 [==============================] - 6s 88ms/step - loss: 1.3926 - val_loss: 1.4749\n",
      "Epoch 12/200\n",
      "64/64 [==============================] - 6s 100ms/step - loss: 1.3356 - val_loss: 1.4087\n",
      "Epoch 13/200\n",
      "64/64 [==============================] - 6s 87ms/step - loss: 1.2835 - val_loss: 1.3831\n",
      "Epoch 14/200\n",
      "64/64 [==============================] - 6s 87ms/step - loss: 1.2578 - val_loss: 1.3522\n",
      "Epoch 15/200\n",
      "64/64 [==============================] - 6s 86ms/step - loss: 1.2295 - val_loss: 1.3390\n",
      "Epoch 16/200\n",
      "64/64 [==============================] - 6s 92ms/step - loss: 1.2050 - val_loss: 1.3225\n",
      "Epoch 17/200\n",
      "64/64 [==============================] - 6s 88ms/step - loss: 1.1860 - val_loss: 1.3092\n",
      "Epoch 18/200\n",
      "64/64 [==============================] - 6s 86ms/step - loss: 1.1634 - val_loss: 1.3151\n",
      "Epoch 19/200\n",
      "64/64 [==============================] - 6s 88ms/step - loss: 1.1485 - val_loss: 1.2952\n",
      "Epoch 20/200\n",
      "64/64 [==============================] - 6s 91ms/step - loss: 1.1303 - val_loss: 1.2889\n",
      "Epoch 21/200\n",
      "64/64 [==============================] - 5s 85ms/step - loss: 1.1122 - val_loss: 1.2853\n",
      "Epoch 22/200\n",
      "64/64 [==============================] - 6s 91ms/step - loss: 1.0951 - val_loss: 1.2714\n",
      "Epoch 23/200\n",
      "64/64 [==============================] - 6s 88ms/step - loss: 1.0789 - val_loss: 1.2684\n",
      "Epoch 24/200\n",
      "64/64 [==============================] - 6s 94ms/step - loss: 1.0633 - val_loss: 1.2640\n",
      "Epoch 25/200\n",
      "64/64 [==============================] - 6s 88ms/step - loss: 1.0480 - val_loss: 1.2557\n",
      "Epoch 26/200\n",
      "64/64 [==============================] - 6s 91ms/step - loss: 1.0321 - val_loss: 1.2387\n",
      "Epoch 27/200\n",
      "64/64 [==============================] - 6s 89ms/step - loss: 1.0135 - val_loss: 1.2301\n",
      "Epoch 28/200\n",
      "64/64 [==============================] - 6s 91ms/step - loss: 1.0012 - val_loss: 1.2239\n",
      "Epoch 29/200\n",
      "64/64 [==============================] - 6s 92ms/step - loss: 0.9827 - val_loss: 1.2121\n",
      "Epoch 30/200\n",
      "64/64 [==============================] - 6s 95ms/step - loss: 0.9623 - val_loss: 1.2016\n",
      "Epoch 31/200\n",
      "64/64 [==============================] - 6s 89ms/step - loss: 0.9436 - val_loss: 1.1942\n",
      "Epoch 32/200\n",
      "64/64 [==============================] - 6s 94ms/step - loss: 0.9283 - val_loss: 1.1849\n",
      "Epoch 33/200\n",
      "64/64 [==============================] - 6s 97ms/step - loss: 0.9105 - val_loss: 1.1779\n",
      "Epoch 34/200\n",
      "64/64 [==============================] - 6s 92ms/step - loss: 0.8910 - val_loss: 1.1635\n",
      "Epoch 35/200\n",
      "64/64 [==============================] - 6s 87ms/step - loss: 0.8726 - val_loss: 1.1529\n",
      "Epoch 36/200\n",
      "64/64 [==============================] - 6s 88ms/step - loss: 0.8515 - val_loss: 1.1431\n",
      "Epoch 37/200\n",
      "64/64 [==============================] - 6s 89ms/step - loss: 0.8416 - val_loss: 1.1346\n",
      "Epoch 38/200\n",
      "64/64 [==============================] - 6s 88ms/step - loss: 0.8129 - val_loss: 1.1244\n",
      "Epoch 39/200\n",
      "64/64 [==============================] - 6s 88ms/step - loss: 0.7925 - val_loss: 1.1147\n",
      "Epoch 40/200\n",
      "64/64 [==============================] - 6s 93ms/step - loss: 0.7731 - val_loss: 1.1047\n",
      "Epoch 41/200\n",
      "64/64 [==============================] - 6s 91ms/step - loss: 0.7635 - val_loss: 1.0989\n",
      "Epoch 42/200\n",
      "64/64 [==============================] - 6s 96ms/step - loss: 0.7418 - val_loss: 1.0841\n",
      "Epoch 43/200\n",
      "64/64 [==============================] - 6s 93ms/step - loss: 0.7164 - val_loss: 1.0693\n",
      "Epoch 44/200\n",
      "64/64 [==============================] - 6s 90ms/step - loss: 0.6923 - val_loss: 1.0605\n",
      "Epoch 45/200\n",
      "64/64 [==============================] - 6s 93ms/step - loss: 0.6727 - val_loss: 1.0571\n",
      "Epoch 46/200\n",
      "64/64 [==============================] - 6s 98ms/step - loss: 0.6538 - val_loss: 1.0380\n",
      "Epoch 47/200\n",
      "64/64 [==============================] - 6s 93ms/step - loss: 0.6330 - val_loss: 1.0332\n",
      "Epoch 48/200\n",
      "64/64 [==============================] - 6s 91ms/step - loss: 0.6141 - val_loss: 1.0319\n",
      "Epoch 49/200\n",
      "64/64 [==============================] - 6s 88ms/step - loss: 0.5957 - val_loss: 1.0185\n",
      "Epoch 50/200\n",
      "64/64 [==============================] - 6s 90ms/step - loss: 0.5829 - val_loss: 1.0116\n",
      "Epoch 51/200\n",
      "64/64 [==============================] - 6s 90ms/step - loss: 0.5643 - val_loss: 0.9949\n",
      "Epoch 52/200\n",
      "64/64 [==============================] - 6s 90ms/step - loss: 0.5446 - val_loss: 0.9983\n",
      "Epoch 53/200\n",
      "64/64 [==============================] - 6s 90ms/step - loss: 0.5286 - val_loss: 0.9791\n",
      "Epoch 54/200\n",
      "64/64 [==============================] - 6s 88ms/step - loss: 0.5102 - val_loss: 0.9767\n",
      "Epoch 55/200\n",
      "64/64 [==============================] - 6s 94ms/step - loss: 0.4957 - val_loss: 0.9759\n",
      "Epoch 56/200\n",
      "64/64 [==============================] - 6s 89ms/step - loss: 0.4827 - val_loss: 0.9598\n",
      "Epoch 57/200\n",
      "64/64 [==============================] - 6s 90ms/step - loss: 0.4666 - val_loss: 0.9569\n",
      "Epoch 58/200\n",
      "64/64 [==============================] - 6s 90ms/step - loss: 0.4620 - val_loss: 0.9553\n",
      "Epoch 59/200\n",
      "64/64 [==============================] - 6s 88ms/step - loss: 0.4406 - val_loss: 0.9374\n",
      "Epoch 60/200\n",
      "64/64 [==============================] - 6s 91ms/step - loss: 0.4295 - val_loss: 0.9272\n",
      "Epoch 61/200\n",
      "64/64 [==============================] - 6s 95ms/step - loss: 0.4266 - val_loss: 0.9303\n",
      "Epoch 62/200\n",
      "64/64 [==============================] - 6s 92ms/step - loss: 0.4054 - val_loss: 0.9214\n",
      "Epoch 63/200\n",
      "64/64 [==============================] - 6s 91ms/step - loss: 0.3921 - val_loss: 0.9197\n",
      "Epoch 64/200\n",
      "64/64 [==============================] - 6s 97ms/step - loss: 0.3824 - val_loss: 0.9059\n",
      "Epoch 65/200\n",
      "64/64 [==============================] - 6s 94ms/step - loss: 0.3741 - val_loss: 0.9112\n",
      "Epoch 66/200\n",
      "64/64 [==============================] - 6s 95ms/step - loss: 0.3625 - val_loss: 0.9023\n",
      "Epoch 67/200\n",
      "64/64 [==============================] - 6s 89ms/step - loss: 0.3522 - val_loss: 0.9029\n",
      "Epoch 68/200\n",
      "64/64 [==============================] - 6s 94ms/step - loss: 0.3505 - val_loss: 0.8941\n",
      "Epoch 69/200\n",
      "64/64 [==============================] - 6s 92ms/step - loss: 0.3343 - val_loss: 0.8965\n",
      "Epoch 70/200\n",
      "64/64 [==============================] - 6s 94ms/step - loss: 0.3225 - val_loss: 0.8854\n",
      "Epoch 71/200\n",
      "64/64 [==============================] - 6s 95ms/step - loss: 0.3168 - val_loss: 0.8839\n",
      "Epoch 72/200\n",
      "64/64 [==============================] - 6s 93ms/step - loss: 0.3074 - val_loss: 0.8794\n",
      "Epoch 73/200\n",
      "64/64 [==============================] - 6s 94ms/step - loss: 0.3012 - val_loss: 0.8787\n",
      "Epoch 74/200\n",
      "64/64 [==============================] - 6s 91ms/step - loss: 0.2927 - val_loss: 0.8754\n",
      "Epoch 75/200\n",
      "64/64 [==============================] - 6s 96ms/step - loss: 0.2852 - val_loss: 0.8737\n",
      "Epoch 76/200\n",
      "64/64 [==============================] - 7s 105ms/step - loss: 0.2776 - val_loss: 0.8703\n",
      "Epoch 77/200\n",
      "64/64 [==============================] - 8s 126ms/step - loss: 0.2702 - val_loss: 0.8642\n",
      "Epoch 78/200\n",
      "64/64 [==============================] - 9s 137ms/step - loss: 0.2678 - val_loss: 0.8686\n",
      "Epoch 79/200\n",
      "64/64 [==============================] - 10s 151ms/step - loss: 0.2610 - val_loss: 0.8678\n",
      "Epoch 80/200\n",
      "64/64 [==============================] - 8s 128ms/step - loss: 0.2530 - val_loss: 0.8630\n",
      "Epoch 81/200\n",
      "64/64 [==============================] - 6s 89ms/step - loss: 0.2455 - val_loss: 0.8607\n",
      "Epoch 82/200\n",
      "64/64 [==============================] - 6s 93ms/step - loss: 0.2404 - val_loss: 0.8628\n",
      "Epoch 83/200\n",
      "64/64 [==============================] - 6s 87ms/step - loss: 0.2343 - val_loss: 0.8565\n",
      "Epoch 84/200\n",
      "64/64 [==============================] - 6s 91ms/step - loss: 0.2304 - val_loss: 0.8546\n",
      "Epoch 85/200\n",
      "64/64 [==============================] - 6s 87ms/step - loss: 0.2272 - val_loss: 0.8608\n",
      "Epoch 86/200\n",
      "64/64 [==============================] - 6s 87ms/step - loss: 0.2230 - val_loss: 0.8585\n",
      "Epoch 87/200\n",
      "64/64 [==============================] - 6s 93ms/step - loss: 0.2167 - val_loss: 0.8485\n",
      "Epoch 88/200\n",
      "64/64 [==============================] - 6s 91ms/step - loss: 0.2109 - val_loss: 0.8507\n",
      "Epoch 89/200\n",
      "64/64 [==============================] - 6s 90ms/step - loss: 0.2053 - val_loss: 0.8481\n",
      "Epoch 90/200\n",
      "64/64 [==============================] - 6s 90ms/step - loss: 0.2071 - val_loss: 0.8524\n",
      "Epoch 91/200\n",
      "64/64 [==============================] - 6s 88ms/step - loss: 0.2010 - val_loss: 0.8494\n",
      "Epoch 92/200\n",
      "64/64 [==============================] - 6s 94ms/step - loss: 0.1934 - val_loss: 0.8461\n",
      "Epoch 93/200\n",
      "64/64 [==============================] - 6s 92ms/step - loss: 0.1929 - val_loss: 0.8446\n",
      "Epoch 94/200\n",
      "64/64 [==============================] - 6s 96ms/step - loss: 0.1926 - val_loss: 0.8471\n",
      "Epoch 95/200\n",
      "64/64 [==============================] - 6s 97ms/step - loss: 0.1824 - val_loss: 0.8444\n",
      "Epoch 96/200\n",
      "64/64 [==============================] - 6s 94ms/step - loss: 0.1759 - val_loss: 0.8430\n",
      "Epoch 97/200\n",
      "64/64 [==============================] - 6s 95ms/step - loss: 0.1724 - val_loss: 0.8418\n",
      "Epoch 98/200\n",
      "64/64 [==============================] - 6s 94ms/step - loss: 0.1705 - val_loss: 0.8442\n",
      "Epoch 99/200\n",
      "64/64 [==============================] - 6s 95ms/step - loss: 0.1694 - val_loss: 0.8415\n",
      "Epoch 100/200\n",
      "64/64 [==============================] - 6s 97ms/step - loss: 0.1669 - val_loss: 0.8512\n",
      "Epoch 101/200\n",
      "64/64 [==============================] - 6s 95ms/step - loss: 0.1612 - val_loss: 0.8404\n",
      "Epoch 102/200\n",
      "64/64 [==============================] - 6s 97ms/step - loss: 0.1587 - val_loss: 0.8396\n",
      "Epoch 103/200\n",
      "64/64 [==============================] - 6s 96ms/step - loss: 0.1554 - val_loss: 0.8393\n",
      "Epoch 104/200\n",
      "64/64 [==============================] - 6s 98ms/step - loss: 0.1544 - val_loss: 0.8465\n",
      "Epoch 105/200\n",
      "64/64 [==============================] - 6s 100ms/step - loss: 0.1509 - val_loss: 0.8508\n",
      "Epoch 106/200\n",
      "64/64 [==============================] - 6s 98ms/step - loss: 0.1546 - val_loss: 0.8471\n",
      "Epoch 107/200\n",
      "64/64 [==============================] - 6s 95ms/step - loss: 0.1496 - val_loss: 0.8427\n",
      "Epoch 108/200\n",
      "64/64 [==============================] - 6s 96ms/step - loss: 0.1463 - val_loss: 0.8405\n",
      "Epoch 109/200\n",
      "64/64 [==============================] - 6s 100ms/step - loss: 0.1433 - val_loss: 0.8379\n",
      "Epoch 110/200\n",
      "64/64 [==============================] - 6s 98ms/step - loss: 0.1383 - val_loss: 0.8481\n",
      "Epoch 111/200\n",
      "64/64 [==============================] - 7s 103ms/step - loss: 0.1361 - val_loss: 0.8450\n",
      "Epoch 112/200\n",
      "64/64 [==============================] - 6s 101ms/step - loss: 0.1344 - val_loss: 0.8419\n",
      "Epoch 113/200\n",
      "64/64 [==============================] - 6s 98ms/step - loss: 0.1389 - val_loss: 0.8536\n",
      "Epoch 114/200\n",
      "64/64 [==============================] - 6s 98ms/step - loss: 0.1393 - val_loss: 0.8391\n",
      "Epoch 115/200\n",
      "64/64 [==============================] - 6s 99ms/step - loss: 0.1309 - val_loss: 0.8438\n",
      "Epoch 116/200\n",
      "64/64 [==============================] - 6s 99ms/step - loss: 0.1312 - val_loss: 0.8548\n",
      "Epoch 117/200\n",
      "64/64 [==============================] - 6s 95ms/step - loss: 0.1302 - val_loss: 0.8398\n",
      "Epoch 118/200\n",
      "64/64 [==============================] - 6s 99ms/step - loss: 0.1263 - val_loss: 0.8411\n",
      "Epoch 119/200\n",
      "64/64 [==============================] - 6s 101ms/step - loss: 0.1251 - val_loss: 0.8470\n",
      "Model: \"sequential\"\n",
      "_________________________________________________________________\n",
      " Layer (type)                Output Shape              Param #   \n",
      "=================================================================\n",
      " embedding (Embedding)       (None, 15, 256)           520192    \n",
      "                                                                 \n",
      " lstm (LSTM)                 (None, 256)               525312    \n",
      "                                                                 \n",
      " repeat_vector (RepeatVector  (None, 15, 256)          0         \n",
      " )                                                               \n",
      "                                                                 \n",
      " lstm_1 (LSTM)               (None, 15, 256)           525312    \n",
      "                                                                 \n",
      " time_distributed (TimeDistr  (None, 15, 1696)         435872    \n",
      " ibuted)                                                         \n",
      "                                                                 \n",
      "=================================================================\n",
      "Total params: 2,006,688\n",
      "Trainable params: 2,006,688\n",
      "Non-trainable params: 0\n",
      "_________________________________________________________________\n"
     ]
    },
    {
     "data": {
      "image/png": "[encoded data removed]",
      "text/plain": [
       "<Figure size 640x480 with 1 Axes>"
      ]
     },
     "metadata": {},
     "output_type": "display_data"
    }
   ],
   "source": [
    "def create_model(src_vocab, tar_vocab, src_timesteps, tar_timesteps, n_units):\n",
    "    # Create the model\n",
    "    model = Sequential()\n",
    "    model.add(Embedding(src_vocab, n_units, input_length=src_timesteps, mask_zero=True))\n",
    "    model.add(LSTM(n_units))\n",
    "    model.add(RepeatVector(tar_timesteps))\n",
    "    model.add(LSTM(n_units, return_sequences=True))\n",
    "    model.add(TimeDistributed(Dense(tar_vocab, activation='softmax')))\n",
    "    return model\n",
    " \n",
    "# Create model\n",
    "model = create_model(src_vocab_size, tar_vocab_size, src_length, tar_length, 256)\n",
    "model.compile(optimizer='adam', loss='categorical_crossentropy')\n",
    "\n",
    "history = model.fit(trainX, \n",
    "          trainY, \n",
    "          epochs=200,#200 \n",
    "          batch_size=64, \n",
    "          validation_split=0.1, \n",
    "          verbose=1,\n",
    "          callbacks=[\n",
    "                        EarlyStopping(\n",
    "                        monitor='val_loss',\n",
    "                        patience=10,\n",
    "                        restore_best_weights=True\n",
    "                    )\n",
    "            ])\n",
    "\n",
    "\n",
    "model.summary()\n",
    "# save model in computer '/Users/learn/Desktop/Projects/machine-translation/data'\n",
    "# model.save()\n",
    "pd.DataFrame(history.history).plot()\n",
    "plt.title(\"Loss\")\n",
    "plt.show()"
   ]
  },
  {
   "attachments": {},
   "cell_type": "markdown",
   "metadata": {},
   "source": [
    "### Load Previously Saved Model"
   ]
  },
  {
   "cell_type": "code",
   "execution_count": 12,
   "metadata": {},
   "outputs": [],
   "source": [
    "# from tensorflow import keras\n",
    "# model = keras.models.load_model('lstm_model')\n",
    "# model.summary()"
   ]
  },
  {
   "cell_type": "code",
   "execution_count": 13,
   "metadata": {},
   "outputs": [],
   "source": [
    "def word_for_id(integer, tokenizer):\n",
    "    # map an integer to a word\n",
    "    for word, index in tokenizer.word_index.items():\n",
    "        if index == integer:\n",
    "            return word\n",
    "    return None\n",
    " \n",
    "def predict_seq(model, tokenizer, source):\n",
    "    # generate target from a source sequence\n",
    "    prediction = model.predict(source, verbose=0)[0]\n",
    "    integers = [np.argmax(vector) for vector in prediction]\n",
    "    target = list()\n",
    "    for i in integers:\n",
    "        word = word_for_id(i, tokenizer)\n",
    "        if word is None:\n",
    "            break\n",
    "        target.append(word)\n",
    "    return ' '.join(target)\n",
    "    \n",
    "def create_dataframe_to_score(model, tokenizer, sources, raw_dataset):\n",
    "    # Get the bleu score of a model\n",
    "    actual, predicted, actual_rouge , cosine_value_list= [], [],[], []\n",
    "    for i, source in enumerate(sources):\n",
    "        # translate encoded source text\n",
    "        source = source.reshape((1, source.shape[0]))\n",
    "        translation = predict_seq(model, tar_tokenizer, source)\n",
    "        raw_src, raw_target = raw_dataset[i]\n",
    "        actual.append([raw_target.split()])\n",
    "        actual_rouge.append(raw_target.split())\n",
    "        predicted.append(translation.split())\n",
    "        #######################################################################\n",
    "                    ####   Calculate Cosine Value   ####\n",
    "\n",
    "        cosine_value= get_cosine_val (translation,raw_target )\n",
    "        cosine_value_list.append(cosine_value)\n",
    "        #######################################################################\n",
    "        # print(\"predicted \",translation.split())    \n",
    "   \n",
    "    average_cosine= mean(cosine_value_list)\n",
    "    return actual, predicted, actual_rouge, average_cosine\n",
    "\n",
    "actual, predicted, actual_rouge, average_cosine =create_dataframe_to_score(model, tar_tokenizer, testX, test)"
   ]
  },
  {
   "cell_type": "code",
   "execution_count": 14,
   "metadata": {},
   "outputs": [],
   "source": [
    "def bleu_score(actual, predicted):\n",
    "    # Get the bleu score of a model\n",
    "    bleu_dic = {}\n",
    "    bleu_dic['bleu-1-grams'] = corpus_bleu(actual, predicted, weights=(1.0, 0, 0, 0))\n",
    "    bleu_dic['bleu-1-2-grams'] = corpus_bleu(actual, predicted, weights=(0.5, 0.5, 0, 0))\n",
    "    bleu_dic['bleu-1-3-grams'] = corpus_bleu(actual, predicted, weights=(0.3, 0.3, 0.3, 0))\n",
    "    bleu_dic['bleu-1-4-grams'] = corpus_bleu(actual, predicted, weights=(0.25, 0.25, 0.25, 0.25))\n",
    "    \n",
    "    return bleu_dic\n",
    "\n",
    "def calculate_ROUGE(actual, predicted):\n",
    "    hypotheses = tf.ragged.constant(predicted)\n",
    "    references = tf.ragged.constant(actual)\n",
    "\n",
    "    rouge_test= text.metrics.rouge_l(hypotheses, references)\n",
    "    f_measure_list= rouge_test.f_measure\n",
    "    p_measure_list= rouge_test.p_measure\n",
    "    r_measure_list= rouge_test.r_measure\n",
    "  \n",
    "\n",
    "    f_measure_average= (f_measure_list.numpy()).mean()\n",
    "    p_measure_average= (p_measure_list.numpy()).mean()\n",
    "    r_measure_average=(r_measure_list.numpy()).mean()\n",
    "    return { \"f_measure_average\":f_measure_average, \"p_measure_average\":p_measure_average, \"r_measure_average\":r_measure_average  }  \n",
    "\n",
    "\n"
   ]
  },
  {
   "cell_type": "code",
   "execution_count": 15,
   "metadata": {},
   "outputs": [
    {
     "data": {
      "text/plain": [
       "[['starter']]"
      ]
     },
     "execution_count": 15,
     "metadata": {},
     "output_type": "execute_result"
    }
   ],
   "source": [
    "# result= get_cosine_val (actual[0], predicted[0])\n",
    "\n",
    "# result= get_cosine_val (\"I love cow\",\"i love grass\" )\n",
    "# result\n",
    "\n",
    "actual[0]"
   ]
  },
  {
   "cell_type": "code",
   "execution_count": 16,
   "metadata": {},
   "outputs": [
    {
     "data": {
      "text/plain": [
       "['started']"
      ]
     },
     "execution_count": 16,
     "metadata": {},
     "output_type": "execute_result"
    }
   ],
   "source": [
    "predicted[0]"
   ]
  },
  {
   "cell_type": "code",
   "execution_count": 17,
   "metadata": {},
   "outputs": [],
   "source": [
    "# Compute the BLEU Score\n",
    "# bleu_train = bleu_score(model, tar_tokenizer, trainX, train)\n",
    "bleu_test = bleu_score(actual, predicted)\n",
    "rouge_test = calculate_ROUGE(actual=actual_rouge, predicted=predicted)"
   ]
  },
  {
   "cell_type": "code",
   "execution_count": 18,
   "metadata": {},
   "outputs": [
    {
     "name": "stdout",
     "output_type": "stream",
     "text": [
      "{'f_measure_average': 0.6280448, 'p_measure_average': 0.6425304, 'r_measure_average': 0.6244826}\n",
      "{'bleu-1-grams': 0.5761875971001981, 'bleu-1-2-grams': 0.47235718946621513, 'bleu-1-3-grams': 0.4180643700339435, 'bleu-1-4-grams': 0.31438295639571906}\n",
      "0.6457518530382219\n"
     ]
    }
   ],
   "source": [
    "print(rouge_test)\n",
    "print(bleu_test)\n",
    "print(average_cosine)"
   ]
  },
  {
   "cell_type": "code",
   "execution_count": 19,
   "metadata": {},
   "outputs": [],
   "source": [
    "# plt.bar(x = bleu_train.keys(), height = bleu_train.values())\n",
    "# plt.title(\"BLEU Score with the training set\")\n",
    "# plt.ylim((0,1))\n",
    "# plt.show()"
   ]
  },
  {
   "cell_type": "code",
   "execution_count": 20,
   "metadata": {},
   "outputs": [
    {
     "data": {
      "image/png": "[encoded data removed]",
      "text/plain": [
       "<Figure size 640x480 with 1 Axes>"
      ]
     },
     "metadata": {},
     "output_type": "display_data"
    }
   ],
   "source": [
    "plt.bar(x = bleu_test.keys(), height = bleu_test.values())\n",
    "plt.title(\"BLEU Score with the test set\")\n",
    "plt.ylim((0,1))\n",
    "plt.show()"
   ]
  },
  {
   "cell_type": "code",
   "execution_count": 21,
   "metadata": {},
   "outputs": [
    {
     "data": {
      "image/png": "[encoded data removed]",
      "text/plain": [
       "<Figure size 640x480 with 1 Axes>"
      ]
     },
     "metadata": {},
     "output_type": "display_data"
    }
   ],
   "source": [
    "plt.bar(x = rouge_test.keys(), height = rouge_test.values())\n",
    "plt.title(\"ROUGE Score with the test set\")\n",
    "plt.ylim((0,1))\n",
    "plt.show()"
   ]
  },
  {
   "cell_type": "code",
   "execution_count": 22,
   "metadata": {},
   "outputs": [
    {
     "data": {
      "image/png": "[encoded data removed]",
      "text/plain": [
       "<Figure size 640x480 with 1 Axes>"
      ]
     },
     "metadata": {},
     "output_type": "display_data"
    }
   ],
   "source": [
    "plt.bar(x = \"cosine_average\", height = average_cosine)\n",
    "plt.title(\"Cosine Score with the test set\")\n",
    "plt.ylim((0,1))\n",
    "plt.show()"
   ]
  },
  {
   "cell_type": "code",
   "execution_count": 23,
   "metadata": {},
   "outputs": [
    {
     "data": {
      "text/html": [
       "<div>\n",
       "<style scoped>\n",
       "    .dataframe tbody tr th:only-of-type {\n",
       "        vertical-align: middle;\n",
       "    }\n",
       "\n",
       "    .dataframe tbody tr th {\n",
       "        vertical-align: top;\n",
       "    }\n",
       "\n",
       "    .dataframe thead th {\n",
       "        text-align: right;\n",
       "    }\n",
       "</style>\n",
       "<table border=\"1\" class=\"dataframe\">\n",
       "  <thead>\n",
       "    <tr style=\"text-align: right;\">\n",
       "      <th></th>\n",
       "      <th>Dataset Size</th>\n",
       "      <th>f_measure_average</th>\n",
       "      <th>p_measure_average</th>\n",
       "      <th>r_measure_average</th>\n",
       "      <th>cosine_similarity</th>\n",
       "      <th>bleu-1-grams</th>\n",
       "      <th>bleu-1-2-grams</th>\n",
       "      <th>bleu-1-3-grams</th>\n",
       "      <th>bleu-1-4-grams</th>\n",
       "    </tr>\n",
       "  </thead>\n",
       "  <tbody>\n",
       "    <tr>\n",
       "      <th>0</th>\n",
       "      <td>5000</td>\n",
       "      <td>0.628045</td>\n",
       "      <td>0.64253</td>\n",
       "      <td>0.624483</td>\n",
       "      <td>0.645752</td>\n",
       "      <td>0.576188</td>\n",
       "      <td>0.472357</td>\n",
       "      <td>0.418064</td>\n",
       "      <td>0.314383</td>\n",
       "    </tr>\n",
       "  </tbody>\n",
       "</table>\n",
       "</div>"
      ],
      "text/plain": [
       "   Dataset Size  f_measure_average  p_measure_average  r_measure_average  \\\n",
       "0          5000           0.628045            0.64253           0.624483   \n",
       "\n",
       "   cosine_similarity  bleu-1-grams  bleu-1-2-grams  bleu-1-3-grams  \\\n",
       "0           0.645752      0.576188        0.472357        0.418064   \n",
       "\n",
       "   bleu-1-4-grams  \n",
       "0        0.314383  "
      ]
     },
     "execution_count": 23,
     "metadata": {},
     "output_type": "execute_result"
    }
   ],
   "source": [
    "keys=[\"Dataset Size\", *rouge_test.keys(), \"cosine_similarity\", *bleu_test.keys()]\n",
    "\n",
    "values=[total_sentences,  *rouge_test.values(), average_cosine, *bleu_test.values() ]\n",
    "\n",
    "table =pd.DataFrame(columns=keys, data=[values])\n",
    "table\n"
   ]
  },
  {
   "cell_type": "code",
   "execution_count": 24,
   "metadata": {},
   "outputs": [
    {
     "data": {
      "image/png": "[encoded data removed]",
      "text/plain": [
       "<Figure size 1500x1000 with 1 Axes>"
      ]
     },
     "metadata": {},
     "output_type": "display_data"
    }
   ],
   "source": [
    "import matplotlib.pyplot as plot\n",
    "from matplotlib.ticker import ScalarFormatter\n",
    "#,figsize=(10,15)\n",
    "\n",
    "table.plot.bar(x=\"Dataset Size\",figsize=(15,10))\n",
    "plot.show(block=True)\n"
   ]
  },
  {
   "attachments": {},
   "cell_type": "markdown",
   "metadata": {},
   "source": [
    "###  Save Model and Parameters"
   ]
  },
  {
   "cell_type": "code",
   "execution_count": 25,
   "metadata": {},
   "outputs": [
    {
     "name": "stderr",
     "output_type": "stream",
     "text": [
      "2023-01-21 23:37:53.932260: W tensorflow/python/util/util.cc:368] Sets are not currently considered sequences, but this may change in the future, so consider avoiding using them.\n",
      "WARNING:absl:Found untraced functions such as lstm_cell_layer_call_fn, lstm_cell_layer_call_and_return_conditional_losses, lstm_cell_1_layer_call_fn, lstm_cell_1_layer_call_and_return_conditional_losses while saving (showing 4 of 4). These functions will not be directly callable after loading.\n"
     ]
    },
    {
     "name": "stdout",
     "output_type": "stream",
     "text": [
      "INFO:tensorflow:Assets written to: ../../model/lstm/5000/lstm_model/assets\n"
     ]
    },
    {
     "name": "stderr",
     "output_type": "stream",
     "text": [
      "INFO:tensorflow:Assets written to: ../../model/lstm/5000/lstm_model/assets\n",
      "WARNING:absl:<keras.layers.recurrent.LSTMCell object at 0x288f9e580> has the same name 'LSTMCell' as a built-in Keras object. Consider renaming <class 'keras.layers.recurrent.LSTMCell'> to avoid naming conflicts when loading with `tf.keras.models.load_model`. If renaming is not possible, pass the object in the `custom_objects` parameter of the load function.\n",
      "WARNING:absl:<keras.layers.recurrent.LSTMCell object at 0x289ae0340> has the same name 'LSTMCell' as a built-in Keras object. Consider renaming <class 'keras.layers.recurrent.LSTMCell'> to avoid naming conflicts when loading with `tf.keras.models.load_model`. If renaming is not possible, pass the object in the `custom_objects` parameter of the load function.\n"
     ]
    },
    {
     "name": "stdout",
     "output_type": "stream",
     "text": [
      "Update  [[1.00000000e+004 7.64712036e-001 7.75633931e-001 7.64969170e-001\n",
      "  7.86634681e-001 7.47674297e-001 6.53796439e-001 5.93642770e-001\n",
      "  4.87186522e-001]\n",
      " [1.00000000e+003 2.93089580e-002 5.75000010e-002 2.00046729e-002\n",
      "  5.06093138e-002 7.78850730e-003 3.61603232e-156 9.77707822e-187\n",
      "  7.79150476e-233]\n",
      " [5.00000000e+003 6.28044784e-001 6.42530382e-001 6.24482572e-001\n",
      "  6.45751853e-001 5.76187597e-001 4.72357189e-001 4.18064370e-001\n",
      "  3.14382956e-001]]\n"
     ]
    }
   ],
   "source": [
    "import json\n",
    "import os\n",
    "\n",
    "def saveAnalytics(analytics_table):\n",
    " \n",
    "\n",
    "    fname = \"../../analytics/lstm/\"+\"analytics.json\"\n",
    "\n",
    "    if os.path.exists(fname):\n",
    "        # read existing file and append new data\n",
    "        with open(fname,\"r\") as f:\n",
    "            df = pd.read_json(fname)\n",
    "            new_data=(analytics_table.to_numpy())[0] \n",
    "            df.loc[len(df.index)] = new_data # add another row\n",
    "            print(\"Update \",df.to_numpy() )\n",
    "            df.to_json(r'../../analytics/lstm/'+\"analytics.json\",orient='records')\n",
    "    else:\n",
    "        # create new json\n",
    "        print(\"Create \",analytics_table )\n",
    "        analytics_table.to_json(r'../../analytics/lstm/'+\"analytics.json\",orient='records')\n",
    "\n",
    "\n",
    "def save_models_and_parameters(total_sentences,model,src_tokenizer, tar_tokenizer, src_length, tar_length, src_vocab_size,tar_vocab_size, analytics_table ):\n",
    "    model_name = str(total_sentences)\n",
    "    path=\"../../model/lstm/\"+model_name+\"/\"\n",
    "    \n",
    "    src_parameters={\n",
    "        'src_length': src_length,\n",
    "        'src_vocab_size': src_vocab_size,\n",
    "    }\n",
    "    src_tokenizer= src_tokenizer\n",
    "\n",
    "    target_parameters={\n",
    "        'target_length': tar_length,\n",
    "        'target_vocab_size': tar_vocab_size,\n",
    "    }\n",
    "    target_tokenizer= tar_tokenizer\n",
    "\n",
    "    model.save(path+'lstm_model' ) \n",
    "    with open(path+'src_parameters.pickle', 'wb') as handle:\n",
    "        pickle.dump(src_parameters, handle, protocol=pickle.HIGHEST_PROTOCOL)\n",
    "    with open(path+'src_tokenizer.pickle', 'wb') as handle:\n",
    "        pickle.dump(src_tokenizer, handle, protocol=pickle.HIGHEST_PROTOCOL)\n",
    "    with open(path+'target_parameters.pickle', 'wb') as handle:\n",
    "        pickle.dump(target_parameters, handle, protocol=pickle.HIGHEST_PROTOCOL)\n",
    "    with open(path+'target_tokenizer.pickle', 'wb') as handle:\n",
    "        pickle.dump(target_tokenizer, handle, protocol=pickle.HIGHEST_PROTOCOL)\n",
    "\n",
    "    saveAnalytics(analytics_table=analytics_table)\n",
    "   \n",
    "\n",
    "   \n",
    "save_models_and_parameters(total_sentences,model,src_tokenizer, tar_tokenizer, src_length, tar_length, src_vocab_size,tar_vocab_size, table )\n",
    "\n"
   ]
  },
  {
   "cell_type": "code",
   "execution_count": null,
   "metadata": {},
   "outputs": [],
   "source": []
  }
 ],
 "metadata": {
  "kernelspec": {
   "display_name": "tears",
   "language": "python",
   "name": "tensorflow"
  },
  "language_info": {
   "codemirror_mode": {
    "name": "ipython",
    "version": 3
   },
   "file_extension": ".py",
   "mimetype": "text/x-python",
   "name": "python",
   "nbconvert_exporter": "python",
   "pygments_lexer": "ipython3",
   "version": "3.9.13"
  },
  "orig_nbformat": 4,
  "vscode": {
   "interpreter": {
    "hash": "231fa661f6864ef19e499bbd2782d03ff99f363f5ebfe416ba9cf7c065dc127b"
   }
  }
 },
 "nbformat": 4,
 "nbformat_minor": 2
}
